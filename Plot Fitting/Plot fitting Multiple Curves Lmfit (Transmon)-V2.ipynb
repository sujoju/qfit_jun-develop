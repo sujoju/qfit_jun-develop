{
 "cells": [
  {
   "cell_type": "code",
   "execution_count": 13,
   "id": "30ee216c",
   "metadata": {},
   "outputs": [],
   "source": [
    "%matplotlib inline"
   ]
  },
  {
   "cell_type": "code",
   "execution_count": 14,
   "id": "fb86b3b6",
   "metadata": {},
   "outputs": [],
   "source": [
    "import matplotlib.pyplot as plt\n",
    "import numpy as np\n",
    "\n",
    "from lmfit import Parameters, Minimizer, minimize, report_fit\n",
    "\n",
    "import scqubits as scq"
   ]
  },
  {
   "cell_type": "code",
   "execution_count": 21,
   "id": "8595b825",
   "metadata": {},
   "outputs": [
    {
     "data": {
      "application/vnd.jupyter.widget-view+json": {
       "model_id": "",
       "version_major": 2,
       "version_minor": 0
      },
      "text/plain": [
       "Spectral data:   0%|          | 0/50 [00:00<?, ?it/s]"
      ]
     },
     "metadata": {},
     "output_type": "display_data"
    },
    {
     "data": {
      "application/vnd.jupyter.widget-view+json": {
       "model_id": "",
       "version_major": 2,
       "version_minor": 0
      },
      "text/plain": [
       "Spectral data:   0%|          | 0/50 [00:00<?, ?it/s]"
      ]
     },
     "metadata": {},
     "output_type": "display_data"
    },
    {
     "data": {
      "application/vnd.jupyter.widget-view+json": {
       "model_id": "",
       "version_major": 2,
       "version_minor": 0
      },
      "text/plain": [
       "Spectral data:   0%|          | 0/50 [00:00<?, ?it/s]"
      ]
     },
     "metadata": {},
     "output_type": "display_data"
    },
    {
     "data": {
      "application/vnd.jupyter.widget-view+json": {
       "model_id": "",
       "version_major": 2,
       "version_minor": 0
      },
      "text/plain": [
       "Spectral data:   0%|          | 0/50 [00:00<?, ?it/s]"
      ]
     },
     "metadata": {},
     "output_type": "display_data"
    },
    {
     "data": {
      "application/vnd.jupyter.widget-view+json": {
       "model_id": "",
       "version_major": 2,
       "version_minor": 0
      },
      "text/plain": [
       "Spectral data:   0%|          | 0/50 [00:00<?, ?it/s]"
      ]
     },
     "metadata": {},
     "output_type": "display_data"
    },
    {
     "data": {
      "application/vnd.jupyter.widget-view+json": {
       "model_id": "",
       "version_major": 2,
       "version_minor": 0
      },
      "text/plain": [
       "Spectral data:   0%|          | 0/50 [00:00<?, ?it/s]"
      ]
     },
     "metadata": {},
     "output_type": "display_data"
    },
    {
     "data": {
      "application/vnd.jupyter.widget-view+json": {
       "model_id": "",
       "version_major": 2,
       "version_minor": 0
      },
      "text/plain": [
       "Spectral data:   0%|          | 0/50 [00:00<?, ?it/s]"
      ]
     },
     "metadata": {},
     "output_type": "display_data"
    },
    {
     "data": {
      "application/vnd.jupyter.widget-view+json": {
       "model_id": "",
       "version_major": 2,
       "version_minor": 0
      },
      "text/plain": [
       "Spectral data:   0%|          | 0/50 [00:00<?, ?it/s]"
      ]
     },
     "metadata": {},
     "output_type": "display_data"
    },
    {
     "data": {
      "application/vnd.jupyter.widget-view+json": {
       "model_id": "",
       "version_major": 2,
       "version_minor": 0
      },
      "text/plain": [
       "Spectral data:   0%|          | 0/50 [00:00<?, ?it/s]"
      ]
     },
     "metadata": {},
     "output_type": "display_data"
    },
    {
     "data": {
      "application/vnd.jupyter.widget-view+json": {
       "model_id": "",
       "version_major": 2,
       "version_minor": 0
      },
      "text/plain": [
       "Spectral data:   0%|          | 0/50 [00:00<?, ?it/s]"
      ]
     },
     "metadata": {},
     "output_type": "display_data"
    },
    {
     "data": {
      "application/vnd.jupyter.widget-view+json": {
       "model_id": "",
       "version_major": 2,
       "version_minor": 0
      },
      "text/plain": [
       "Spectral data:   0%|          | 0/50 [00:00<?, ?it/s]"
      ]
     },
     "metadata": {},
     "output_type": "display_data"
    },
    {
     "data": {
      "application/vnd.jupyter.widget-view+json": {
       "model_id": "",
       "version_major": 2,
       "version_minor": 0
      },
      "text/plain": [
       "Spectral data:   0%|          | 0/50 [00:00<?, ?it/s]"
      ]
     },
     "metadata": {},
     "output_type": "display_data"
    },
    {
     "name": "stdout",
     "output_type": "stream",
     "text": [
      "[[Variables]]\n",
      "    a:  1.18379448 +/- 0.00397908 (0.34%) (init = 5)\n",
      "    b:  0.32047885 +/- 0.00853446 (2.66%) (init = 0)\n",
      "[[Correlations]] (unreported correlations are < 0.100)\n",
      "    C(a, b) =  0.280\n"
     ]
    }
   ],
   "source": [
    "def func(pars, x, data=None):\n",
    "    a, b = pars['a'], pars['b']\n",
    "    transmon = scq.Transmon(EJ = 30.02,\n",
    "                            EC = a,\n",
    "                            ng = b,\n",
    "                            ncut = 31)\n",
    "    specdata = transmon.get_spectrum_vs_paramvals('EJ',\n",
    "                                                  x,\n",
    "                                                  evals_count = 4,\n",
    "                                                  subtract_ground = True)\n",
    "    model = specdata.energy_table\n",
    "    if data is None:\n",
    "        return model\n",
    "    return model - data\n",
    "\n",
    "\n",
    "def f(var, x):\n",
    "    transmon = scq.Transmon(EJ = 30.02,\n",
    "                            EC = var[0],\n",
    "                            ng = var[1],\n",
    "                            ncut = 31)\n",
    "    specdata = transmon.get_spectrum_vs_paramvals('EJ',\n",
    "                                                  x,\n",
    "                                                  evals_count = 4,\n",
    "                                                  subtract_ground = True)\n",
    "    return specdata.energy_table\n",
    "\n",
    "\n",
    "params = Parameters()\n",
    "params.add('a', value=5)\n",
    "params.add('b', value=0, min = 0, max = 1)\n",
    "\n",
    "a, b = 1.2, 0.3\n",
    "x = np.linspace(0, 50, 50)\n",
    "y = f([a, b], x)\n",
    "data = y + 0.5*np.random.normal(size=y.shape)\n",
    "\n",
    "# fit without analytic derivative\n",
    "min1 = Minimizer(func, params, fcn_args=(x,), fcn_kws={'data': data})\n",
    "out1 = min1.leastsq()\n",
    "report_fit(out1.params)\n",
    "fit1 = func(out1.params, x)\n",
    "\n",
    "out2 = minimize(func, params, args=(x, data))\n",
    "fit2 = func(out2.params, x)\n",
    "report_fit(out2.params)"
   ]
  },
  {
   "cell_type": "code",
   "execution_count": 16,
   "id": "46a20650",
   "metadata": {},
   "outputs": [
    {
     "name": "stdout",
     "output_type": "stream",
     "text": [
      "\n",
      "\"true\" parameters are: a = 1.200, b = 0.300\n",
      "\n",
      "==================================\n",
      "Statistic/Parameter|   Without   |\n",
      "----------------------------------\n",
      "N Function Calls   |     7       |\n",
      "Chi-square         |   50.6564    |\n",
      "   a               |   1.1954    |\n",
      "   b               |   0.3013    |\n",
      "--------------------------------\n",
      "\n"
     ]
    }
   ],
   "source": [
    "print('''\n",
    "\"true\" parameters are: a = %.3f, b = %.3f\n",
    "\n",
    "==================================\n",
    "Statistic/Parameter|   Without   |\n",
    "----------------------------------\n",
    "N Function Calls   |   %3i       |\n",
    "Chi-square         |   %.4f    |\n",
    "   a               |   %.4f    |\n",
    "   b               |   %.4f    |\n",
    "--------------------------------\n",
    "''' % (a, b,\n",
    "       out1.nfev,\n",
    "       out1.chisqr,\n",
    "       out1.params['a'],\n",
    "       out1.params['b'], ))"
   ]
  },
  {
   "cell_type": "code",
   "execution_count": 17,
   "id": "756c1fbe",
   "metadata": {},
   "outputs": [
    {
     "data": {
      "image/png": "[encoded data removed]",
      "text/plain": [
       "<Figure size 432x288 with 1 Axes>"
      ]
     },
     "metadata": {
      "needs_background": "light"
     },
     "output_type": "display_data"
    }
   ],
   "source": [
    "plt.plot(x, data, 'ro')\n",
    "plt.plot(x, fit1, 'b')\n",
    "plt.show()"
   ]
  },
  {
   "cell_type": "code",
   "execution_count": null,
   "id": "98d59148",
   "metadata": {},
   "outputs": [],
   "source": []
  }
 ],
 "metadata": {
  "kernelspec": {
   "display_name": "Python 3",
   "language": "python",
   "name": "python3"
  },
  "language_info": {
   "codemirror_mode": {
    "name": "ipython",
    "version": 3
   },
   "file_extension": ".py",
   "mimetype": "text/x-python",
   "name": "python",
   "nbconvert_exporter": "python",
   "pygments_lexer": "ipython3",
   "version": "3.8.10"
  }
 },
 "nbformat": 4,
 "nbformat_minor": 5
}
