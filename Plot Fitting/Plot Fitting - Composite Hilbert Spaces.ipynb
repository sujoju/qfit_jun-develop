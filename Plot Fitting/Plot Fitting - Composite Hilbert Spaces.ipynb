{
 "cells": [
  {
   "cell_type": "code",
   "execution_count": 1,
   "id": "33007c63",
   "metadata": {},
   "outputs": [],
   "source": [
    "%matplotlib inline"
   ]
  },
  {
   "cell_type": "code",
   "execution_count": 9,
   "id": "c41a096b",
   "metadata": {},
   "outputs": [],
   "source": [
    "import matplotlib.pyplot as plt\n",
    "import numpy as np\n",
    "from scipy import interpolate\n",
    "\n",
    "from lmfit import Parameters, Minimizer, minimize, report_fit\n",
    "\n",
    "import scqubits as scq\n",
    "\n",
    "scq.settings.FUZZY_SLICING = True"
   ]
  },
  {
   "cell_type": "code",
   "execution_count": 3,
   "id": "e9f52f76",
   "metadata": {},
   "outputs": [],
   "source": [
    "osc = scq.Oscillator(E_osc = 1)\n",
    "gq = scq.GenericQubit(E = 1)\n",
    "\n",
    "g = 0.1\n",
    "hilbertspace = scq.HilbertSpace([gq, osc])\n",
    "\n",
    "hilbertspace.add_interaction(\n",
    "    g_strength = g,\n",
    "    op1 = osc.annihilation_operator,\n",
    "    op2 = gq.sp_operator,\n",
    "    add_hc = True\n",
    ")"
   ]
  },
  {
   "cell_type": "code",
   "execution_count": 4,
   "id": "32b5395d",
   "metadata": {
    "scrolled": true
   },
   "outputs": [
    {
     "name": "stdout",
     "output_type": "stream",
     "text": [
      "HilbertSpace:  subsystems\n",
      "-------------------------\n",
      "\n",
      "GenericQubit--------|\n",
      "                    | E: 1\n",
      "                    |\n",
      "                    | dim: 2\n",
      "\n",
      "\n",
      "Oscillator----------|\n",
      "                    | E_osc: 1\n",
      "                    | l_osc: None\n",
      "                    | truncated_dim: 6\n",
      "                    |\n",
      "                    | dim: 6\n",
      "\n",
      "\n",
      "\n",
      "HilbertSpace:  interaction terms\n",
      "--------------------------------\n",
      "\n",
      "InteractionTerm----------|\n",
      "                         | g_strength: 0.1\n",
      "                         | operator_list: [(1, array([[0.        , 1.        , 0.        , 0 ...\n",
      "                         | add_hc: True\n",
      "\n",
      " Quantum object: dims = [[2, 6], [2, 6]], shape = (12, 12), type = oper, isherm = True\n",
      "Qobj data =\n",
      "[[-0.5         0.          0.          0.          0.          0.\n",
      "   0.          0.          0.          0.          0.          0.        ]\n",
      " [ 0.          0.5         0.          0.          0.          0.\n",
      "   0.1         0.          0.          0.          0.          0.        ]\n",
      " [ 0.          0.          1.5         0.          0.          0.\n",
      "   0.          0.14142136  0.          0.          0.          0.        ]\n",
      " [ 0.          0.          0.          2.5         0.          0.\n",
      "   0.          0.          0.17320508  0.          0.          0.        ]\n",
      " [ 0.          0.          0.          0.          3.5         0.\n",
      "   0.          0.          0.          0.2         0.          0.        ]\n",
      " [ 0.          0.          0.          0.          0.          4.5\n",
      "   0.          0.          0.          0.          0.2236068   0.        ]\n",
      " [ 0.          0.1         0.          0.          0.          0.\n",
      "   0.5         0.          0.          0.          0.          0.        ]\n",
      " [ 0.          0.          0.14142136  0.          0.          0.\n",
      "   0.          1.5         0.          0.          0.          0.        ]\n",
      " [ 0.          0.          0.          0.17320508  0.          0.\n",
      "   0.          0.          2.5         0.          0.          0.        ]\n",
      " [ 0.          0.          0.          0.          0.2         0.\n",
      "   0.          0.          0.          3.5         0.          0.        ]\n",
      " [ 0.          0.          0.          0.          0.          0.2236068\n",
      "   0.          0.          0.          0.          4.5         0.        ]\n",
      " [ 0.          0.          0.          0.          0.          0.\n",
      "   0.          0.          0.          0.          0.          5.5       ]] [-0.5         0.4         0.6         1.35857864  1.64142136  2.32679492\n",
      "  2.67320508  3.3         3.7         4.2763932   4.7236068   5.5       ] [Quantum object: dims = [[2, 6], [1, 1]], shape = (12, 1), type = ket\n",
      " Qobj data =\n",
      " [[1.]\n",
      "  [0.]\n",
      "  [0.]\n",
      "  [0.]\n",
      "  [0.]\n",
      "  [0.]\n",
      "  [0.]\n",
      "  [0.]\n",
      "  [0.]\n",
      "  [0.]\n",
      "  [0.]\n",
      "  [0.]]\n",
      " Quantum object: dims = [[2, 6], [1, 1]], shape = (12, 1), type = ket\n",
      " Qobj data =\n",
      " [[ 0.        ]\n",
      "  [ 0.70710678]\n",
      "  [ 0.        ]\n",
      "  [ 0.        ]\n",
      "  [ 0.        ]\n",
      "  [ 0.        ]\n",
      "  [-0.70710678]\n",
      "  [ 0.        ]\n",
      "  [ 0.        ]\n",
      "  [ 0.        ]\n",
      "  [ 0.        ]\n",
      "  [ 0.        ]]\n",
      " Quantum object: dims = [[2, 6], [1, 1]], shape = (12, 1), type = ket\n",
      " Qobj data =\n",
      " [[ 0.        ]\n",
      "  [-0.70710678]\n",
      "  [ 0.        ]\n",
      "  [ 0.        ]\n",
      "  [ 0.        ]\n",
      "  [ 0.        ]\n",
      "  [-0.70710678]\n",
      "  [ 0.        ]\n",
      "  [ 0.        ]\n",
      "  [ 0.        ]\n",
      "  [ 0.        ]\n",
      "  [ 0.        ]]\n",
      " Quantum object: dims = [[2, 6], [1, 1]], shape = (12, 1), type = ket\n",
      " Qobj data =\n",
      " [[ 0.        ]\n",
      "  [ 0.        ]\n",
      "  [-0.70710678]\n",
      "  [ 0.        ]\n",
      "  [ 0.        ]\n",
      "  [ 0.        ]\n",
      "  [ 0.        ]\n",
      "  [ 0.70710678]\n",
      "  [ 0.        ]\n",
      "  [ 0.        ]\n",
      "  [ 0.        ]\n",
      "  [ 0.        ]]\n",
      " Quantum object: dims = [[2, 6], [1, 1]], shape = (12, 1), type = ket\n",
      " Qobj data =\n",
      " [[0.        ]\n",
      "  [0.        ]\n",
      "  [0.70710678]\n",
      "  [0.        ]\n",
      "  [0.        ]\n",
      "  [0.        ]\n",
      "  [0.        ]\n",
      "  [0.70710678]\n",
      "  [0.        ]\n",
      "  [0.        ]\n",
      "  [0.        ]\n",
      "  [0.        ]]\n",
      " Quantum object: dims = [[2, 6], [1, 1]], shape = (12, 1), type = ket\n",
      " Qobj data =\n",
      " [[ 0.        ]\n",
      "  [ 0.        ]\n",
      "  [ 0.        ]\n",
      "  [ 0.70710678]\n",
      "  [ 0.        ]\n",
      "  [ 0.        ]\n",
      "  [ 0.        ]\n",
      "  [ 0.        ]\n",
      "  [-0.70710678]\n",
      "  [ 0.        ]\n",
      "  [ 0.        ]\n",
      "  [ 0.        ]]\n",
      " Quantum object: dims = [[2, 6], [1, 1]], shape = (12, 1), type = ket\n",
      " Qobj data =\n",
      " [[0.        ]\n",
      "  [0.        ]\n",
      "  [0.        ]\n",
      "  [0.70710678]\n",
      "  [0.        ]\n",
      "  [0.        ]\n",
      "  [0.        ]\n",
      "  [0.        ]\n",
      "  [0.70710678]\n",
      "  [0.        ]\n",
      "  [0.        ]\n",
      "  [0.        ]]\n",
      " Quantum object: dims = [[2, 6], [1, 1]], shape = (12, 1), type = ket\n",
      " Qobj data =\n",
      " [[ 0.        ]\n",
      "  [ 0.        ]\n",
      "  [ 0.        ]\n",
      "  [ 0.        ]\n",
      "  [-0.70710678]\n",
      "  [ 0.        ]\n",
      "  [ 0.        ]\n",
      "  [ 0.        ]\n",
      "  [ 0.        ]\n",
      "  [ 0.70710678]\n",
      "  [ 0.        ]\n",
      "  [ 0.        ]]\n",
      " Quantum object: dims = [[2, 6], [1, 1]], shape = (12, 1), type = ket\n",
      " Qobj data =\n",
      " [[0.        ]\n",
      "  [0.        ]\n",
      "  [0.        ]\n",
      "  [0.        ]\n",
      "  [0.70710678]\n",
      "  [0.        ]\n",
      "  [0.        ]\n",
      "  [0.        ]\n",
      "  [0.        ]\n",
      "  [0.70710678]\n",
      "  [0.        ]\n",
      "  [0.        ]]\n",
      " Quantum object: dims = [[2, 6], [1, 1]], shape = (12, 1), type = ket\n",
      " Qobj data =\n",
      " [[ 0.        ]\n",
      "  [ 0.        ]\n",
      "  [ 0.        ]\n",
      "  [ 0.        ]\n",
      "  [ 0.        ]\n",
      "  [ 0.70710678]\n",
      "  [ 0.        ]\n",
      "  [ 0.        ]\n",
      "  [ 0.        ]\n",
      "  [ 0.        ]\n",
      "  [-0.70710678]\n",
      "  [ 0.        ]]\n",
      " Quantum object: dims = [[2, 6], [1, 1]], shape = (12, 1), type = ket\n",
      " Qobj data =\n",
      " [[0.        ]\n",
      "  [0.        ]\n",
      "  [0.        ]\n",
      "  [0.        ]\n",
      "  [0.        ]\n",
      "  [0.70710678]\n",
      "  [0.        ]\n",
      "  [0.        ]\n",
      "  [0.        ]\n",
      "  [0.        ]\n",
      "  [0.70710678]\n",
      "  [0.        ]]\n",
      " Quantum object: dims = [[2, 6], [1, 1]], shape = (12, 1), type = ket\n",
      " Qobj data =\n",
      " [[0.]\n",
      "  [0.]\n",
      "  [0.]\n",
      "  [0.]\n",
      "  [0.]\n",
      "  [0.]\n",
      "  [0.]\n",
      "  [0.]\n",
      "  [0.]\n",
      "  [0.]\n",
      "  [0.]\n",
      "  [1.]]                                                              ]\n"
     ]
    }
   ],
   "source": [
    "dressed_hamiltonian = hilbertspace.hamiltonian()\n",
    "evals, evecs = hilbertspace.eigensys(evals_count=12)\n",
    "\n",
    "print(hilbertspace, dressed_hamiltonian, evals, evecs)"
   ]
  },
  {
   "cell_type": "code",
   "execution_count": 5,
   "id": "75d20eca",
   "metadata": {},
   "outputs": [
    {
     "data": {
      "application/vnd.jupyter.widget-view+json": {
       "model_id": "",
       "version_major": 2,
       "version_minor": 0
      },
      "text/plain": [
       "Parallel compute bare eigensys [num_cpus=4]"
      ]
     },
     "metadata": {},
     "output_type": "display_data"
    },
    {
     "data": {
      "application/vnd.jupyter.widget-view+json": {
       "model_id": "",
       "version_major": 2,
       "version_minor": 0
      },
      "text/plain": [
       "Parallel compute bare eigensys [num_cpus=4]"
      ]
     },
     "metadata": {},
     "output_type": "display_data"
    },
    {
     "data": {
      "application/vnd.jupyter.widget-view+json": {
       "model_id": "",
       "version_major": 2,
       "version_minor": 0
      },
      "text/plain": [
       "Parallel compute dressed eigensys [num_cpus=4]"
      ]
     },
     "metadata": {},
     "output_type": "display_data"
    }
   ],
   "source": [
    "pname1 = 'E'\n",
    "E_vals = np.linspace(0.0, 10.0, 101)\n",
    "#pname2 = 'E_osc'\n",
    "#E_osc_vals = np.linspace(0.0, 10.0, 101)\n",
    "pname3 = 'detuning'\n",
    "detuning_vals = np.linspace(0.0, 10.0, 101)\n",
    "\n",
    "\n",
    "#paramvals_by_name = {pname1: E_vals, pname2: E_osc_vals, pname3: detuning_vals}\n",
    "paramvals_by_name = {pname1: E_vals, pname3: detuning_vals}\n",
    "\n",
    "#def update_hilbertspace(E, E_osc, detuning):\n",
    "#    gq.E = E\n",
    "#    osc.E_osc = E_osc\n",
    "\n",
    "def update_hilbertspace(E, detuning):\n",
    "    gq.E = E\n",
    "    osc.E_osc = E + detuning\n",
    "    \n",
    "sweep = scq.ParameterSweep(\n",
    "    hilbertspace=hilbertspace,\n",
    "    paramvals_by_name=paramvals_by_name,\n",
    "    update_hilbertspace=update_hilbertspace,\n",
    "    evals_count=3,\n",
    "    num_cpus=4\n",
    ")"
   ]
  },
  {
   "cell_type": "code",
   "execution_count": 6,
   "id": "e07eee1c",
   "metadata": {},
   "outputs": [
    {
     "data": {
      "text/plain": [
       "NamedSlotsNdarray([[-2.23606798e-01, -2.00000000e-01, -1.73205081e-01],\n",
       "                   [-6.18033989e-02, -2.11432593e-17,  0.00000000e+00],\n",
       "                   [-4.14213562e-02,  0.00000000e+00,  1.26794919e-01],\n",
       "                   [-3.02775638e-02,  0.00000000e+00,  2.43844719e-01],\n",
       "                   [-2.36067977e-02,  0.00000000e+00,  3.55051026e-01],\n",
       "                   [-1.92582404e-02,  0.00000000e+00,  4.62771868e-01],\n",
       "                   [-1.62277660e-02,  0.00000000e+00,  5.68337521e-01],\n",
       "                   [-1.40054945e-02,  0.00000000e+00,  6.72508278e-01],\n",
       "                   [-1.23105626e-02,  0.00000000e+00,  7.75735931e-01],\n",
       "                   [-1.09772229e-02,  0.00000000e+00,  8.78300943e-01],\n",
       "                   [-9.90195136e-03,  0.00000000e+00,  9.80384758e-01],\n",
       "                   [-9.01699437e-03,  0.00000000e+00,  1.08210917e+00],\n",
       "                   [-8.27625303e-03,  0.00000000e+00,  1.18355860e+00],\n",
       "                   [-7.64732190e-03,  0.00000000e+00,  1.28479327e+00],\n",
       "                   [-7.10678119e-03,  0.00000000e+00,  1.38585716e+00],\n",
       "                   [-6.63729752e-03,  0.00000000e+00,  1.48678312e+00],\n",
       "                   [-6.22577483e-03,  0.00000000e+00,  1.58759616e+00],\n",
       "                   [-5.86213843e-03,  0.00000000e+00,  1.68831560e+00],\n",
       "                   [-5.53851381e-03,  0.00000000e+00,  1.78895664e+00],\n",
       "                   [-5.24865873e-03,  0.00000000e+00,  1.88953136e+00],\n",
       "                   [-4.98756211e-03,  0.00000000e+00,  1.99004951e+00],\n",
       "                   [-4.75115549e-03,  0.00000000e+00,  2.09051899e+00],\n",
       "                   [-4.53610172e-03,  0.00000000e+00,  2.19094635e+00],\n",
       "                   [-4.33963806e-03,  0.00000000e+00,  2.29133698e+00],\n",
       "                   [-4.15945788e-03,  0.00000000e+00,  2.39169540e+00],\n",
       "                   [-3.99362040e-03,  0.00000000e+00,  2.49202544e+00],\n",
       "                   [-3.84048104e-03,  0.00000000e+00,  2.59233032e+00],\n",
       "                   [-3.69863707e-03,  0.00000000e+00,  2.69261280e+00],\n",
       "                   [-3.56688476e-03,  0.00000000e+00,  2.79287527e+00],\n",
       "                   [-3.44418537e-03,  0.00000000e+00,  2.89311977e+00],\n",
       "                   [-3.32963784e-03,  0.00000000e+00,  2.99334808e+00],\n",
       "                   [-3.22245670e-03,  0.00000000e+00,  3.09356176e+00],\n",
       "                   [-3.12195419e-03,  0.00000000e+00,  3.19376216e+00],\n",
       "                   [-3.02752548e-03,  0.00000000e+00,  3.29395048e+00],\n",
       "                   [-2.93863659e-03,  0.00000000e+00,  3.39412779e+00],\n",
       "                   [-2.85481430e-03,  0.00000000e+00,  3.49429501e+00],\n",
       "                   [-2.77563773e-03,  0.00000000e+00,  3.59445299e+00],\n",
       "                   [-2.70073136e-03,  0.00000000e+00,  3.69460247e+00],\n",
       "                   [-2.62975904e-03,  0.00000000e+00,  3.79474411e+00],\n",
       "                   [-2.56241898e-03,  0.00000000e+00,  3.89487852e+00],\n",
       "                   [-2.49843945e-03,  0.00000000e+00,  3.99500623e+00],\n",
       "                   [-2.43757518e-03,  0.00000000e+00,  4.09512774e+00],\n",
       "                   [-2.37960416e-03,  0.00000000e+00,  4.19524348e+00],\n",
       "                   [-2.32432500e-03,  0.00000000e+00,  4.29535386e+00],\n",
       "                   [-2.27155455e-03,  0.00000000e+00,  4.39545923e+00],\n",
       "                   [-2.22112591e-03,  0.00000000e+00,  4.49555994e+00],\n",
       "                   [-2.17288664e-03,  0.00000000e+00,  4.59565628e+00],\n",
       "                   [-2.12669727e-03,  0.00000000e+00,  4.69574853e+00],\n",
       "                   [-2.08242989e-03,  0.00000000e+00,  4.79583694e+00],\n",
       "                   [-2.03996705e-03,  0.00000000e+00,  4.89592176e+00],\n",
       "                   [-1.99920064e-03,  0.00000000e+00,  4.99600319e+00],\n",
       "                   [-1.96003103e-03,  0.00000000e+00,  5.09608144e+00],\n",
       "                   [-1.92236625e-03,  0.00000000e+00,  5.19615669e+00],\n",
       "                   [-1.88612124e-03,  0.00000000e+00,  5.29622910e+00],\n",
       "                   [-1.85121722e-03,  0.00000000e+00,  5.39629883e+00],\n",
       "                   [-1.81758116e-03,  0.00000000e+00,  5.49636604e+00],\n",
       "                   [-1.78514522e-03,  0.00000000e+00,  5.59643085e+00],\n",
       "                   [-1.75384632e-03,  0.00000000e+00,  5.69649339e+00],\n",
       "                   [-1.72362571e-03,  0.00000000e+00,  5.79655377e+00],\n",
       "                   [-1.69442863e-03,  0.00000000e+00,  5.89661211e+00],\n",
       "                   [-1.66620396e-03,  0.00000000e+00,  5.99666852e+00],\n",
       "                   [-1.63890393e-03,  0.00000000e+00,  6.09672307e+00],\n",
       "                   [-1.61248385e-03,  0.00000000e+00,  6.19677587e+00],\n",
       "                   [-1.58690186e-03,  0.00000000e+00,  6.29682699e+00],\n",
       "                   [-1.56211872e-03,  0.00000000e+00,  6.39687652e+00],\n",
       "                   [-1.53809758e-03,  0.00000000e+00,  6.49692453e+00],\n",
       "                   [-1.51480384e-03,  0.00000000e+00,  6.59697109e+00],\n",
       "                   [-1.49220497e-03,  0.00000000e+00,  6.69701625e+00],\n",
       "                   [-1.47027034e-03,  0.00000000e+00,  6.79706009e+00],\n",
       "                   [-1.44897108e-03,  0.00000000e+00,  6.89710267e+00],\n",
       "                   [-1.42828000e-03,  0.00000000e+00,  6.99714402e+00],\n",
       "                   [-1.40817142e-03,  0.00000000e+00,  7.09718422e+00],\n",
       "                   [-1.38862107e-03,  0.00000000e+00,  7.19722329e+00],\n",
       "                   [-1.36960605e-03,  0.00000000e+00,  7.29726130e+00],\n",
       "                   [-1.35110466e-03,  0.00000000e+00,  7.39729828e+00],\n",
       "                   [-1.33309638e-03,  0.00000000e+00,  7.49733428e+00],\n",
       "                   [-1.31556175e-03,  0.00000000e+00,  7.59736933e+00],\n",
       "                   [-1.29848233e-03,  0.00000000e+00,  7.69740347e+00],\n",
       "                   [-1.28184063e-03,  0.00000000e+00,  7.79743674e+00],\n",
       "                   [-1.26562003e-03,  0.00000000e+00,  7.89746917e+00],\n",
       "                   [-1.24980475e-03,  0.00000000e+00,  7.99750078e+00],\n",
       "                   [-1.23437979e-03,  0.00000000e+00,  8.09753162e+00],\n",
       "                   [-1.21933088e-03,  0.00000000e+00,  8.19756170e+00],\n",
       "                   [-1.20464444e-03,  0.00000000e+00,  8.29759106e+00],\n",
       "                   [-1.19030752e-03,  0.00000000e+00,  8.39761972e+00],\n",
       "                   [-1.17630780e-03,  0.00000000e+00,  8.49764771e+00],\n",
       "                   [-1.16263352e-03,  0.00000000e+00,  8.59767505e+00],\n",
       "                   [-1.14927347e-03,  0.00000000e+00,  8.69770176e+00],\n",
       "                   [-1.13621693e-03,  0.00000000e+00,  8.79772786e+00],\n",
       "                   [-1.12345369e-03,  0.00000000e+00,  8.89775338e+00],\n",
       "                   [-1.11097397e-03,  0.00000000e+00,  8.99777833e+00],\n",
       "                   [-1.09876843e-03,  0.00000000e+00,  9.09780273e+00],\n",
       "                   [-1.08682813e-03,  0.00000000e+00,  9.19782660e+00],\n",
       "                   [-1.07514452e-03,  0.00000000e+00,  9.29784996e+00],\n",
       "                   [-1.06370942e-03,  0.00000000e+00,  9.39787282e+00],\n",
       "                   [-1.05251497e-03,  0.00000000e+00,  9.49789520e+00],\n",
       "                   [-1.04155366e-03,  0.00000000e+00,  9.59791712e+00],\n",
       "                   [-1.03081829e-03,  0.00000000e+00,  9.69793858e+00],\n",
       "                   [-1.02030194e-03,  0.00000000e+00,  9.79795961e+00],\n",
       "                   [-1.00999797e-03,  0.00000000e+00,  9.89798021e+00],\n",
       "                   [-9.99900020e-04,  0.00000000e+00,  9.99800040e+00]])"
      ]
     },
     "execution_count": 6,
     "metadata": {},
     "output_type": "execute_result"
    }
   ],
   "source": [
    "sweep[\"evals\"][0, :]"
   ]
  },
  {
   "cell_type": "code",
   "execution_count": 7,
   "id": "cc1a4c4b",
   "metadata": {},
   "outputs": [
    {
     "data": {
      "text/plain": [
       "(<Figure size 900x600 with 1 Axes>, <AxesSubplot:xlabel='detuning'>)"
      ]
     },
     "execution_count": 7,
     "metadata": {},
     "output_type": "execute_result"
    },
    {
     "data": {
      "image/png": "[encoded data removed]",
      "text/plain": [
       "<Figure size 900x600 with 1 Axes>"
      ]
     },
     "metadata": {
      "needs_background": "light"
     },
     "output_type": "display_data"
    },
    {
     "data": {
      "image/png": "[encoded data removed]",
      "text/plain": [
       "<Figure size 900x600 with 1 Axes>"
      ]
     },
     "metadata": {
      "needs_background": "light"
     },
     "output_type": "display_data"
    }
   ],
   "source": [
    "sweep[\"evals\"][8.1, :].plot()\n",
    "sweep[\"evals\"][5.0, :].plot()"
   ]
  },
  {
   "cell_type": "code",
   "execution_count": 11,
   "id": "7468e2cf",
   "metadata": {},
   "outputs": [
    {
     "data": {
      "application/vnd.jupyter.widget-view+json": {
       "model_id": "",
       "version_major": 2,
       "version_minor": 0
      },
      "text/plain": [
       "Parallel compute bare eigensys [num_cpus=4]"
      ]
     },
     "metadata": {},
     "output_type": "display_data"
    },
    {
     "data": {
      "application/vnd.jupyter.widget-view+json": {
       "model_id": "",
       "version_major": 2,
       "version_minor": 0
      },
      "text/plain": [
       "Parallel compute bare eigensys [num_cpus=4]"
      ]
     },
     "metadata": {},
     "output_type": "display_data"
    },
    {
     "data": {
      "application/vnd.jupyter.widget-view+json": {
       "model_id": "",
       "version_major": 2,
       "version_minor": 0
      },
      "text/plain": [
       "Parallel compute dressed eigensys [num_cpus=4]"
      ]
     },
     "metadata": {},
     "output_type": "display_data"
    }
   ],
   "source": [
    "def update_hilbertspace(E, detuning):\n",
    "    gq.E = E\n",
    "    osc.E_osc = E + detuning\n",
    "\n",
    "x = np.linspace(0, 10, 101)\n",
    "\n",
    "pname1 = 'E'\n",
    "E_vals = x\n",
    "pname3 = 'detuning'\n",
    "detuning_vals = x\n",
    "\n",
    "paramvals_by_name = {pname1: E_vals, pname3: detuning_vals}\n",
    "\n",
    "sweep = scq.ParameterSweep(\n",
    "    hilbertspace=hilbertspace,\n",
    "    paramvals_by_name=paramvals_by_name,\n",
    "    update_hilbertspace=update_hilbertspace,\n",
    "    evals_count=3,\n",
    "    num_cpus=4\n",
    ")"
   ]
  },
  {
   "cell_type": "code",
   "execution_count": 12,
   "id": "c03de3b6",
   "metadata": {},
   "outputs": [
    {
     "ename": "ValueError",
     "evalue": "x and y arrays must be equal in length along interpolation axis.",
     "output_type": "error",
     "traceback": [
      "\u001b[1;31m---------------------------------------------------------------------------\u001b[0m",
      "\u001b[1;31mValueError\u001b[0m                                Traceback (most recent call last)",
      "\u001b[1;32m<ipython-input-12-2fd514b4ee6a>\u001b[0m in \u001b[0;36m<module>\u001b[1;34m\u001b[0m\n\u001b[0;32m     14\u001b[0m \u001b[1;33m\u001b[0m\u001b[0m\n\u001b[0;32m     15\u001b[0m \u001b[0me\u001b[0m \u001b[1;33m=\u001b[0m \u001b[1;36m8.1\u001b[0m\u001b[1;33m\u001b[0m\u001b[1;33m\u001b[0m\u001b[0m\n\u001b[1;32m---> 16\u001b[1;33m \u001b[0my\u001b[0m \u001b[1;33m=\u001b[0m \u001b[0minterpolate\u001b[0m\u001b[1;33m.\u001b[0m\u001b[0minterp1d\u001b[0m\u001b[1;33m(\u001b[0m\u001b[0mx\u001b[0m\u001b[1;33m,\u001b[0m \u001b[0msweep\u001b[0m\u001b[1;33m[\u001b[0m\u001b[1;34m\"evals\"\u001b[0m\u001b[1;33m]\u001b[0m\u001b[1;33m[\u001b[0m\u001b[0mfloat\u001b[0m\u001b[1;33m(\u001b[0m\u001b[0me\u001b[0m\u001b[1;33m)\u001b[0m\u001b[1;33m,\u001b[0m \u001b[1;33m:\u001b[0m\u001b[1;33m]\u001b[0m\u001b[1;33m)\u001b[0m\u001b[1;33m\u001b[0m\u001b[1;33m\u001b[0m\u001b[0m\n\u001b[0m\u001b[0;32m     17\u001b[0m \u001b[0mdata\u001b[0m \u001b[1;33m=\u001b[0m \u001b[0my\u001b[0m \u001b[1;33m+\u001b[0m \u001b[1;36m0.25\u001b[0m\u001b[1;33m*\u001b[0m\u001b[0mnp\u001b[0m\u001b[1;33m.\u001b[0m\u001b[0mrandom\u001b[0m\u001b[1;33m.\u001b[0m\u001b[0mnormal\u001b[0m\u001b[1;33m(\u001b[0m\u001b[0msize\u001b[0m\u001b[1;33m=\u001b[0m\u001b[0my\u001b[0m\u001b[1;33m.\u001b[0m\u001b[0mshape\u001b[0m\u001b[1;33m)\u001b[0m\u001b[1;33m\u001b[0m\u001b[1;33m\u001b[0m\u001b[0m\n\u001b[0;32m     18\u001b[0m \u001b[1;33m\u001b[0m\u001b[0m\n",
      "\u001b[1;32m~\\anaconda3\\lib\\site-packages\\scipy\\interpolate\\interpolate.py\u001b[0m in \u001b[0;36m__init__\u001b[1;34m(self, x, y, kind, axis, copy, bounds_error, fill_value, assume_sorted)\u001b[0m\n\u001b[0;32m    427\u001b[0m                  assume_sorted=False):\n\u001b[0;32m    428\u001b[0m         \u001b[1;34m\"\"\" Initialize a 1-D linear interpolation class.\"\"\"\u001b[0m\u001b[1;33m\u001b[0m\u001b[1;33m\u001b[0m\u001b[0m\n\u001b[1;32m--> 429\u001b[1;33m         \u001b[0m_Interpolator1D\u001b[0m\u001b[1;33m.\u001b[0m\u001b[0m__init__\u001b[0m\u001b[1;33m(\u001b[0m\u001b[0mself\u001b[0m\u001b[1;33m,\u001b[0m \u001b[0mx\u001b[0m\u001b[1;33m,\u001b[0m \u001b[0my\u001b[0m\u001b[1;33m,\u001b[0m \u001b[0maxis\u001b[0m\u001b[1;33m=\u001b[0m\u001b[0maxis\u001b[0m\u001b[1;33m)\u001b[0m\u001b[1;33m\u001b[0m\u001b[1;33m\u001b[0m\u001b[0m\n\u001b[0m\u001b[0;32m    430\u001b[0m \u001b[1;33m\u001b[0m\u001b[0m\n\u001b[0;32m    431\u001b[0m         \u001b[0mself\u001b[0m\u001b[1;33m.\u001b[0m\u001b[0mbounds_error\u001b[0m \u001b[1;33m=\u001b[0m \u001b[0mbounds_error\u001b[0m  \u001b[1;31m# used by fill_value setter\u001b[0m\u001b[1;33m\u001b[0m\u001b[1;33m\u001b[0m\u001b[0m\n",
      "\u001b[1;32m~\\anaconda3\\lib\\site-packages\\scipy\\interpolate\\polyint.py\u001b[0m in \u001b[0;36m__init__\u001b[1;34m(self, xi, yi, axis)\u001b[0m\n\u001b[0;32m     52\u001b[0m         \u001b[0mself\u001b[0m\u001b[1;33m.\u001b[0m\u001b[0mdtype\u001b[0m \u001b[1;33m=\u001b[0m \u001b[1;32mNone\u001b[0m\u001b[1;33m\u001b[0m\u001b[1;33m\u001b[0m\u001b[0m\n\u001b[0;32m     53\u001b[0m         \u001b[1;32mif\u001b[0m \u001b[0myi\u001b[0m \u001b[1;32mis\u001b[0m \u001b[1;32mnot\u001b[0m \u001b[1;32mNone\u001b[0m\u001b[1;33m:\u001b[0m\u001b[1;33m\u001b[0m\u001b[1;33m\u001b[0m\u001b[0m\n\u001b[1;32m---> 54\u001b[1;33m             \u001b[0mself\u001b[0m\u001b[1;33m.\u001b[0m\u001b[0m_set_yi\u001b[0m\u001b[1;33m(\u001b[0m\u001b[0myi\u001b[0m\u001b[1;33m,\u001b[0m \u001b[0mxi\u001b[0m\u001b[1;33m=\u001b[0m\u001b[0mxi\u001b[0m\u001b[1;33m,\u001b[0m \u001b[0maxis\u001b[0m\u001b[1;33m=\u001b[0m\u001b[0maxis\u001b[0m\u001b[1;33m)\u001b[0m\u001b[1;33m\u001b[0m\u001b[1;33m\u001b[0m\u001b[0m\n\u001b[0m\u001b[0;32m     55\u001b[0m \u001b[1;33m\u001b[0m\u001b[0m\n\u001b[0;32m     56\u001b[0m     \u001b[1;32mdef\u001b[0m \u001b[0m__call__\u001b[0m\u001b[1;33m(\u001b[0m\u001b[0mself\u001b[0m\u001b[1;33m,\u001b[0m \u001b[0mx\u001b[0m\u001b[1;33m)\u001b[0m\u001b[1;33m:\u001b[0m\u001b[1;33m\u001b[0m\u001b[1;33m\u001b[0m\u001b[0m\n",
      "\u001b[1;32m~\\anaconda3\\lib\\site-packages\\scipy\\interpolate\\polyint.py\u001b[0m in \u001b[0;36m_set_yi\u001b[1;34m(self, yi, xi, axis)\u001b[0m\n\u001b[0;32m    122\u001b[0m             \u001b[0mshape\u001b[0m \u001b[1;33m=\u001b[0m \u001b[1;33m(\u001b[0m\u001b[1;36m1\u001b[0m\u001b[1;33m,\u001b[0m\u001b[1;33m)\u001b[0m\u001b[1;33m\u001b[0m\u001b[1;33m\u001b[0m\u001b[0m\n\u001b[0;32m    123\u001b[0m         \u001b[1;32mif\u001b[0m \u001b[0mxi\u001b[0m \u001b[1;32mis\u001b[0m \u001b[1;32mnot\u001b[0m \u001b[1;32mNone\u001b[0m \u001b[1;32mand\u001b[0m \u001b[0mshape\u001b[0m\u001b[1;33m[\u001b[0m\u001b[0maxis\u001b[0m\u001b[1;33m]\u001b[0m \u001b[1;33m!=\u001b[0m \u001b[0mlen\u001b[0m\u001b[1;33m(\u001b[0m\u001b[0mxi\u001b[0m\u001b[1;33m)\u001b[0m\u001b[1;33m:\u001b[0m\u001b[1;33m\u001b[0m\u001b[1;33m\u001b[0m\u001b[0m\n\u001b[1;32m--> 124\u001b[1;33m             raise ValueError(\"x and y arrays must be equal in length along \"\n\u001b[0m\u001b[0;32m    125\u001b[0m                              \"interpolation axis.\")\n\u001b[0;32m    126\u001b[0m \u001b[1;33m\u001b[0m\u001b[0m\n",
      "\u001b[1;31mValueError\u001b[0m: x and y arrays must be equal in length along interpolation axis."
     ]
    }
   ],
   "source": [
    "def jc_resid(pars, x, data=None):\n",
    "    e = pars['e']\n",
    "    \n",
    "    y = sweep[\"evals\"][float(e), :]\n",
    "    model = interpolate.interp1d(x, y)\n",
    "    if data is None:\n",
    "        return model\n",
    "    #return model - data\n",
    "    resid = model - data\n",
    "    return resid.flatten()\n",
    "\n",
    "params = Parameters()\n",
    "params.add('e', value=3.8, min = 0, max = 10)\n",
    "\n",
    "e = 8.1\n",
    "y = interpolate.interp1d(x, sweep[\"evals\"][float(e), :])\n",
    "data = y + 0.25*np.random.normal(size=y.shape)\n",
    "\n",
    "min1 = Minimizer(jc_resid, params, fcn_args=(x,), fcn_kws={'data': data})\n",
    "out1 = min1.leastsq()\n",
    "fit1 = jc_resid(out1.params, x)\n",
    "report_fit(out1.params)\n",
    "\n",
    "out2 = minimize(jc_resid, params, method = 'brute', args=(x, data))\n",
    "fit2 = jc_resid(out2.params, x)\n",
    "report_fit(out2.params)"
   ]
  },
  {
   "cell_type": "code",
   "execution_count": 39,
   "id": "f38cff9a",
   "metadata": {},
   "outputs": [
    {
     "name": "stdout",
     "output_type": "stream",
     "text": [
      "<class 'numpy.ndarray'>\n"
     ]
    }
   ],
   "source": [
    "print(type(y))\n"
   ]
  },
  {
   "cell_type": "code",
   "execution_count": 36,
   "id": "0afbc919",
   "metadata": {},
   "outputs": [
    {
     "data": {
      "image/png": "[encoded data removed]",
      "text/plain": [
       "<Figure size 900x600 with 1 Axes>"
      ]
     },
     "metadata": {
      "needs_background": "light"
     },
     "output_type": "display_data"
    }
   ],
   "source": [
    "plt.plot(x, data, 'ro')\n",
    "plt.plot(x, fit1, 'b')\n",
    "plt.plot(x, fit2, 'y')\n",
    "plt.show()"
   ]
  },
  {
   "cell_type": "code",
   "execution_count": null,
   "id": "145ffdf9",
   "metadata": {},
   "outputs": [],
   "source": []
  }
 ],
 "metadata": {
  "kernelspec": {
   "display_name": "Python 3",
   "language": "python",
   "name": "python3"
  },
  "language_info": {
   "codemirror_mode": {
    "name": "ipython",
    "version": 3
   },
   "file_extension": ".py",
   "mimetype": "text/x-python",
   "name": "python",
   "nbconvert_exporter": "python",
   "pygments_lexer": "ipython3",
   "version": "3.8.10"
  }
 },
 "nbformat": 4,
 "nbformat_minor": 5
}
