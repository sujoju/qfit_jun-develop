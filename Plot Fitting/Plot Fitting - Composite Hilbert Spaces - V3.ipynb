{
 "cells": [
  {
   "cell_type": "code",
   "execution_count": 71,
   "id": "2fb804ff",
   "metadata": {},
   "outputs": [],
   "source": [
    "%matplotlib inline"
   ]
  },
  {
   "cell_type": "code",
   "execution_count": 72,
   "id": "3c9d88a5",
   "metadata": {},
   "outputs": [],
   "source": [
    "import matplotlib.pyplot as plt\n",
    "import numpy as np\n",
    "from scipy import interpolate\n",
    "\n",
    "from lmfit import Parameters, Minimizer, minimize, report_fit\n",
    "\n",
    "import scqubits as scq\n",
    "\n",
    "scq.settings.FUZZY_SLICING = True"
   ]
  },
  {
   "cell_type": "code",
   "execution_count": 73,
   "id": "ad8e39a3",
   "metadata": {},
   "outputs": [],
   "source": [
    "osc = scq.Oscillator(E_osc = 1)\n",
    "gq = scq.GenericQubit(E = 1)\n",
    "\n",
    "g = 0.1\n",
    "hilbertspace = scq.HilbertSpace([gq, osc])\n",
    "\n",
    "hilbertspace.add_interaction(\n",
    "    g_strength = g,\n",
    "    op1 = osc.annihilation_operator,\n",
    "    op2 = gq.sp_operator,\n",
    "    add_hc = True\n",
    ")"
   ]
  },
  {
   "cell_type": "code",
   "execution_count": 74,
   "id": "362e0bf3",
   "metadata": {},
   "outputs": [
    {
     "data": {
      "application/vnd.jupyter.widget-view+json": {
       "model_id": "",
       "version_major": 2,
       "version_minor": 0
      },
      "text/plain": [
       "Parallel compute bare eigensys [num_cpus=4]"
      ]
     },
     "metadata": {},
     "output_type": "display_data"
    },
    {
     "data": {
      "application/vnd.jupyter.widget-view+json": {
       "model_id": "",
       "version_major": 2,
       "version_minor": 0
      },
      "text/plain": [
       "Parallel compute bare eigensys [num_cpus=4]"
      ]
     },
     "metadata": {},
     "output_type": "display_data"
    },
    {
     "data": {
      "application/vnd.jupyter.widget-view+json": {
       "model_id": "",
       "version_major": 2,
       "version_minor": 0
      },
      "text/plain": [
       "Parallel compute dressed eigensys [num_cpus=4]"
      ]
     },
     "metadata": {},
     "output_type": "display_data"
    }
   ],
   "source": [
    "def update_hilbertspace(E, detuning):\n",
    "    gq.E = E\n",
    "    osc.E_osc = E + detuning\n",
    "\n",
    "x = np.linspace(0, 10, 201)\n",
    "\n",
    "pname1 = 'E'\n",
    "E_vals = x\n",
    "pname3 = 'detuning'\n",
    "detuning_vals = x\n",
    "\n",
    "paramvals_by_name = {pname1: E_vals, pname3: detuning_vals}\n",
    "\n",
    "sweep = scq.ParameterSweep(\n",
    "    hilbertspace=hilbertspace,\n",
    "    paramvals_by_name=paramvals_by_name,\n",
    "    update_hilbertspace=update_hilbertspace,\n",
    "    evals_count=4,\n",
    "    num_cpus=4\n",
    ")"
   ]
  },
  {
   "cell_type": "code",
   "execution_count": 75,
   "id": "ff975486",
   "metadata": {},
   "outputs": [],
   "source": [
    "def create_interpolated_data(x, egv, e):\n",
    "    egv_x = np.linspace(0, egv-1, egv)\n",
    "    points = (x, x, egv_x)\n",
    "    values = sweep[\"evals\"]\n",
    "    \n",
    "    matrix = np.zeros((x.size,4))\n",
    "    row_index = 0\n",
    "    for i in x:\n",
    "        column_index = 0\n",
    "        for j in egv_x:\n",
    "            matrix[row_index, column_index] = interpolate.interpn(points, values, np.array([e, i, j]))[0]\n",
    "            column_index+=1\n",
    "        row_index+=1\n",
    "    return matrix"
   ]
  },
  {
   "cell_type": "code",
   "execution_count": 76,
   "id": "13f73e91",
   "metadata": {},
   "outputs": [
    {
     "name": "stdout",
     "output_type": "stream",
     "text": [
      "[[Variables]]\n",
      "    e:  8.09772459 +/- 0.01572103 (0.19%) (init = 3.4)\n",
      "[[Variables]]\n",
      "    e:  8.09772459 +/- 0.01572103 (0.19%) (init = 3.4)\n"
     ]
    }
   ],
   "source": [
    "def jc_resid(pars, x, data=None):\n",
    "    e = pars['e']\n",
    "    \n",
    "    model = create_interpolated_data(x, 4, e)\n",
    "    if data is None:\n",
    "        return model\n",
    "    #return model - data\n",
    "    resid = model - data\n",
    "    return resid.flatten()\n",
    "\n",
    "params = Parameters()\n",
    "params.add('e', value=3.4, min = 0, max = 10)\n",
    "\n",
    "e = 8.1\n",
    "jc_data = create_interpolated_data(x, 4, e)\n",
    "jc_noise = jc_data + 0.4*np.random.normal(size=jc_data.shape)\n",
    "\n",
    "min1 = Minimizer(jc_resid, params, fcn_args=(x,), fcn_kws={'data': jc_noise})\n",
    "out1 = min1.leastsq()\n",
    "fit1 = jc_resid(out1.params, x)\n",
    "report_fit(out1.params)\n",
    "\n",
    "out2 = minimize(jc_resid, params, args=(x, jc_noise))\n",
    "fit2 = jc_resid(out2.params, x)\n",
    "report_fit(out2.params)"
   ]
  },
  {
   "cell_type": "code",
   "execution_count": 77,
   "id": "6f3cae05",
   "metadata": {},
   "outputs": [
    {
     "data": {
      "image/png": "[encoded data removed]",
      "text/plain": [
       "<Figure size 432x288 with 1 Axes>"
      ]
     },
     "metadata": {
      "needs_background": "light"
     },
     "output_type": "display_data"
    }
   ],
   "source": [
    "plt.plot(x, jc_noise, 'ro')\n",
    "plt.plot(x, fit1, 'b')\n",
    "plt.plot(x, fit2, 'y')\n",
    "plt.show()"
   ]
  },
  {
   "cell_type": "code",
   "execution_count": null,
   "id": "f4bd59a7",
   "metadata": {},
   "outputs": [],
   "source": []
  }
 ],
 "metadata": {
  "kernelspec": {
   "display_name": "Python 3",
   "language": "python",
   "name": "python3"
  },
  "language_info": {
   "codemirror_mode": {
    "name": "ipython",
    "version": 3
   },
   "file_extension": ".py",
   "mimetype": "text/x-python",
   "name": "python",
   "nbconvert_exporter": "python",
   "pygments_lexer": "ipython3",
   "version": "3.8.10"
  }
 },
 "nbformat": 4,
 "nbformat_minor": 5
}
