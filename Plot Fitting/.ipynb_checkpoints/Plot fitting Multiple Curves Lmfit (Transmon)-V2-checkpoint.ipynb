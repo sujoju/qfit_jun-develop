{
 "cells": [
  {
   "cell_type": "code",
   "execution_count": 10,
   "id": "30ee216c",
   "metadata": {},
   "outputs": [],
   "source": [
    "%matplotlib inline"
   ]
  },
  {
   "cell_type": "code",
   "execution_count": 11,
   "id": "fb86b3b6",
   "metadata": {},
   "outputs": [],
   "source": [
    "import matplotlib.pyplot as plt\n",
    "import numpy as np\n",
    "\n",
    "from lmfit import Parameters, Minimizer, minimize, report_fit\n",
    "\n",
    "import scqubits as scq"
   ]
  },
  {
   "cell_type": "code",
   "execution_count": 19,
   "id": "8595b825",
   "metadata": {},
   "outputs": [
    {
     "data": {
      "application/vnd.jupyter.widget-view+json": {
       "model_id": "",
       "version_major": 2,
       "version_minor": 0
      },
      "text/plain": [
       "Spectral data:   0%|          | 0/50 [00:00<?, ?it/s]"
      ]
     },
     "metadata": {},
     "output_type": "display_data"
    },
    {
     "name": "stdout",
     "output_type": "stream",
     "text": [
      "[[-8.14037684e-01  1.92385213e+00  8.13853623e+00  1.36547491e+01]\n",
      " [ 5.75989759e-01  2.50751743e+00  7.84782279e+00  1.31677605e+01]\n",
      " [-1.40114783e-01  3.37308518e+00  7.96134123e+00  1.48324743e+01]\n",
      " [-1.22456080e+00  3.31344154e+00  9.44764047e+00  1.48897532e+01]\n",
      " [ 1.47262921e-01  4.94455716e+00  1.05865072e+01  1.58180726e+01]\n",
      " [-4.60892408e-01  4.71495293e+00  1.13148275e+01  1.60536699e+01]\n",
      " [ 5.09202406e-01  6.66131176e+00  1.10581937e+01  1.62690704e+01]\n",
      " [-5.76269617e-02  6.72716542e+00  1.28330902e+01  1.83949945e+01]\n",
      " [-5.43228199e-01  6.87225445e+00  1.33291022e+01  1.86428521e+01]\n",
      " [ 1.36506038e+00  7.06259231e+00  1.48452174e+01  2.03762070e+01]\n",
      " [ 3.91680727e-02  7.81316436e+00  1.44780484e+01  2.07356322e+01]\n",
      " [ 6.42158238e-01  8.61092366e+00  1.54696942e+01  2.23444367e+01]\n",
      " [-5.26017425e-02  9.63192085e+00  1.61571209e+01  2.25445742e+01]\n",
      " [ 6.46089456e-01  1.04134269e+01  1.87799394e+01  2.38719611e+01]\n",
      " [ 7.83641468e-01  1.07052242e+01  1.92146279e+01  2.48464216e+01]\n",
      " [-9.24320825e-01  1.08965253e+01  1.99179775e+01  2.63826622e+01]\n",
      " [-1.26844752e-01  1.15870361e+01  2.10923332e+01  2.70451945e+01]\n",
      " [-6.11092959e-01  1.10504895e+01  2.10160089e+01  2.79962487e+01]\n",
      " [-1.94869794e-01  1.14183583e+01  2.24355510e+01  2.90989951e+01]\n",
      " [-1.34689065e-01  1.16450961e+01  2.29722074e+01  3.17352154e+01]\n",
      " [-3.01395395e-02  1.11540807e+01  2.42090658e+01  3.12967421e+01]\n",
      " [ 1.01171748e+00  1.39310399e+01  2.44947665e+01  3.38535698e+01]\n",
      " [ 3.13419357e-01  1.20986694e+01  2.35620394e+01  3.50318073e+01]\n",
      " [-7.38363908e-02  1.32475846e+01  2.67646475e+01  3.56614109e+01]\n",
      " [-8.65703661e-01  1.43002851e+01  2.64432153e+01  3.68155548e+01]\n",
      " [ 1.07366657e+00  1.35099080e+01  2.72296813e+01  3.79010265e+01]\n",
      " [-1.72026880e-01  1.50891365e+01  2.78647767e+01  3.77192181e+01]\n",
      " [-1.03188540e+00  1.50475354e+01  2.87665819e+01  3.93641131e+01]\n",
      " [-2.59939779e-01  1.43152856e+01  2.82263257e+01  3.99035568e+01]\n",
      " [-6.87815629e-01  1.43443379e+01  2.92465788e+01  4.24561463e+01]\n",
      " [ 6.49289368e-01  1.56249761e+01  3.01332597e+01  4.24500351e+01]\n",
      " [-7.56429667e-01  1.56948109e+01  3.07215578e+01  4.27988091e+01]\n",
      " [ 4.75620114e-01  1.60052405e+01  3.08486711e+01  4.39210469e+01]\n",
      " [ 2.93326332e-01  1.77825321e+01  3.17336911e+01  4.50421817e+01]\n",
      " [ 3.87096377e-01  1.65388888e+01  3.17549080e+01  4.65365835e+01]\n",
      " [ 1.25867814e-01  1.79948333e+01  3.34073520e+01  4.68971279e+01]\n",
      " [ 1.13507781e-01  1.78622766e+01  3.28160727e+01  4.76306590e+01]\n",
      " [ 3.06374430e-01  1.76549498e+01  3.36737363e+01  4.84013471e+01]\n",
      " [ 2.60938382e-01  1.77695264e+01  3.44636823e+01  4.96845917e+01]\n",
      " [ 2.81770515e-01  1.71711327e+01  3.44238846e+01  4.96115965e+01]\n",
      " [ 5.02549379e-01  1.76277466e+01  3.50103736e+01  5.03374838e+01]\n",
      " [-4.81902978e-01  1.97936253e+01  3.55482048e+01  5.08919864e+01]\n",
      " [-2.84916618e-01  1.89337895e+01  3.69130808e+01  5.26462275e+01]\n",
      " [ 4.90392463e-01  1.94022413e+01  3.71192561e+01  5.30813343e+01]\n",
      " [ 1.75664852e-01  1.95387693e+01  3.74638309e+01  5.31400518e+01]\n",
      " [ 8.34357080e-03  1.86630862e+01  3.86771810e+01  5.53316721e+01]\n",
      " [-6.09084997e-01  1.96824040e+01  3.84077474e+01  5.49576202e+01]\n",
      " [ 1.03149476e-01  1.98759720e+01  3.82881825e+01  5.58917301e+01]\n",
      " [-3.48841350e-01  1.97486524e+01  3.84100505e+01  5.81874898e+01]\n",
      " [ 1.68786500e-01  2.10426240e+01  3.99334862e+01  5.70659347e+01]]\n"
     ]
    },
    {
     "data": {
      "application/vnd.jupyter.widget-view+json": {
       "model_id": "",
       "version_major": 2,
       "version_minor": 0
      },
      "text/plain": [
       "Spectral data:   0%|          | 0/50 [00:00<?, ?it/s]"
      ]
     },
     "metadata": {},
     "output_type": "display_data"
    },
    {
     "data": {
      "application/vnd.jupyter.widget-view+json": {
       "model_id": "",
       "version_major": 2,
       "version_minor": 0
      },
      "text/plain": [
       "Spectral data:   0%|          | 0/50 [00:00<?, ?it/s]"
      ]
     },
     "metadata": {},
     "output_type": "display_data"
    },
    {
     "data": {
      "application/vnd.jupyter.widget-view+json": {
       "model_id": "",
       "version_major": 2,
       "version_minor": 0
      },
      "text/plain": [
       "Spectral data:   0%|          | 0/50 [00:00<?, ?it/s]"
      ]
     },
     "metadata": {},
     "output_type": "display_data"
    },
    {
     "data": {
      "application/vnd.jupyter.widget-view+json": {
       "model_id": "",
       "version_major": 2,
       "version_minor": 0
      },
      "text/plain": [
       "Spectral data:   0%|          | 0/50 [00:00<?, ?it/s]"
      ]
     },
     "metadata": {},
     "output_type": "display_data"
    },
    {
     "data": {
      "application/vnd.jupyter.widget-view+json": {
       "model_id": "",
       "version_major": 2,
       "version_minor": 0
      },
      "text/plain": [
       "Spectral data:   0%|          | 0/50 [00:00<?, ?it/s]"
      ]
     },
     "metadata": {},
     "output_type": "display_data"
    },
    {
     "data": {
      "application/vnd.jupyter.widget-view+json": {
       "model_id": "",
       "version_major": 2,
       "version_minor": 0
      },
      "text/plain": [
       "Spectral data:   0%|          | 0/50 [00:00<?, ?it/s]"
      ]
     },
     "metadata": {},
     "output_type": "display_data"
    },
    {
     "data": {
      "application/vnd.jupyter.widget-view+json": {
       "model_id": "",
       "version_major": 2,
       "version_minor": 0
      },
      "text/plain": [
       "Spectral data:   0%|          | 0/50 [00:00<?, ?it/s]"
      ]
     },
     "metadata": {},
     "output_type": "display_data"
    },
    {
     "data": {
      "application/vnd.jupyter.widget-view+json": {
       "model_id": "",
       "version_major": 2,
       "version_minor": 0
      },
      "text/plain": [
       "Spectral data:   0%|          | 0/50 [00:00<?, ?it/s]"
      ]
     },
     "metadata": {},
     "output_type": "display_data"
    },
    {
     "data": {
      "application/vnd.jupyter.widget-view+json": {
       "model_id": "",
       "version_major": 2,
       "version_minor": 0
      },
      "text/plain": [
       "Spectral data:   0%|          | 0/50 [00:00<?, ?it/s]"
      ]
     },
     "metadata": {},
     "output_type": "display_data"
    },
    {
     "data": {
      "application/vnd.jupyter.widget-view+json": {
       "model_id": "",
       "version_major": 2,
       "version_minor": 0
      },
      "text/plain": [
       "Spectral data:   0%|          | 0/50 [00:00<?, ?it/s]"
      ]
     },
     "metadata": {},
     "output_type": "display_data"
    },
    {
     "data": {
      "application/vnd.jupyter.widget-view+json": {
       "model_id": "",
       "version_major": 2,
       "version_minor": 0
      },
      "text/plain": [
       "Spectral data:   0%|          | 0/50 [00:00<?, ?it/s]"
      ]
     },
     "metadata": {},
     "output_type": "display_data"
    },
    {
     "data": {
      "application/vnd.jupyter.widget-view+json": {
       "model_id": "",
       "version_major": 2,
       "version_minor": 0
      },
      "text/plain": [
       "Spectral data:   0%|          | 0/50 [00:00<?, ?it/s]"
      ]
     },
     "metadata": {},
     "output_type": "display_data"
    },
    {
     "data": {
      "application/vnd.jupyter.widget-view+json": {
       "model_id": "",
       "version_major": 2,
       "version_minor": 0
      },
      "text/plain": [
       "Spectral data:   0%|          | 0/50 [00:00<?, ?it/s]"
      ]
     },
     "metadata": {},
     "output_type": "display_data"
    },
    {
     "data": {
      "application/vnd.jupyter.widget-view+json": {
       "model_id": "",
       "version_major": 2,
       "version_minor": 0
      },
      "text/plain": [
       "Spectral data:   0%|          | 0/50 [00:00<?, ?it/s]"
      ]
     },
     "metadata": {},
     "output_type": "display_data"
    }
   ],
   "source": [
    "def func(pars, x, data=None):\n",
    "    a, b = pars['a'], pars['b']\n",
    "    transmon = scq.Transmon(EJ = 30.02,\n",
    "                            EC = a,\n",
    "                            ng = b,\n",
    "                            ncut = 31)\n",
    "    specdata = transmon.get_spectrum_vs_paramvals('EJ',\n",
    "                                                  x,\n",
    "                                                  evals_count = 4,\n",
    "                                                  subtract_ground = True)\n",
    "    model = specdata.energy_table\n",
    "    if data is None:\n",
    "        return model\n",
    "    return model - data\n",
    "\n",
    "\n",
    "def f(var, x):\n",
    "    transmon = scq.Transmon(EJ = 30.02,\n",
    "                            EC = var[0],\n",
    "                            ng = var[1],\n",
    "                            ncut = 31)\n",
    "    specdata = transmon.get_spectrum_vs_paramvals('EJ',\n",
    "                                                  x,\n",
    "                                                  evals_count = 4,\n",
    "                                                  subtract_ground = True)\n",
    "    return specdata.energy_table\n",
    "\n",
    "\n",
    "params = Parameters()\n",
    "params.add('a', value=5)\n",
    "params.add('b', value=0, min = 0, max = 1)\n",
    "\n",
    "a, b = 1.2, 0.3\n",
    "x = np.linspace(0, 50, 50)\n",
    "y = f([a, b], x)\n",
    "data = y + 0.5*np.random.normal(size=y.shape)\n",
    "print(data)\n",
    "\n",
    "# fit without analytic derivative\n",
    "min1 = Minimizer(func, params, fcn_args=(x,), fcn_kws={'data': data})\n",
    "out1 = min1.leastsq()\n",
    "fit1 = func(out1.params, x)"
   ]
  },
  {
   "cell_type": "code",
   "execution_count": 20,
   "id": "46a20650",
   "metadata": {},
   "outputs": [
    {
     "name": "stdout",
     "output_type": "stream",
     "text": [
      "\n",
      "\"true\" parameters are: a = 1.200, b = 0.300\n",
      "\n",
      "==================================\n",
      "Statistic/Parameter|   Without   |\n",
      "----------------------------------\n",
      "N Function Calls   |    10       |\n",
      "Chi-square         |   63.9416    |\n",
      "   a               |   1.1914    |\n",
      "   b               |   0.7112    |\n",
      "--------------------------------\n",
      "\n"
     ]
    }
   ],
   "source": [
    "print('''\n",
    "\"true\" parameters are: a = %.3f, b = %.3f\n",
    "\n",
    "==================================\n",
    "Statistic/Parameter|   Without   |\n",
    "----------------------------------\n",
    "N Function Calls   |   %3i       |\n",
    "Chi-square         |   %.4f    |\n",
    "   a               |   %.4f    |\n",
    "   b               |   %.4f    |\n",
    "--------------------------------\n",
    "''' % (a, b,\n",
    "       out1.nfev,\n",
    "       out1.chisqr,\n",
    "       out1.params['a'],\n",
    "       out1.params['b'], ))"
   ]
  },
  {
   "cell_type": "code",
   "execution_count": 21,
   "id": "756c1fbe",
   "metadata": {},
   "outputs": [
    {
     "data": {
      "image/png": "[encoded data removed]",
      "text/plain": [
       "<Figure size 432x288 with 1 Axes>"
      ]
     },
     "metadata": {
      "needs_background": "light"
     },
     "output_type": "display_data"
    }
   ],
   "source": [
    "plt.plot(x, data, 'ro')\n",
    "plt.plot(x, fit1, 'b')\n",
    "plt.show()"
   ]
  },
  {
   "cell_type": "code",
   "execution_count": null,
   "id": "98d59148",
   "metadata": {},
   "outputs": [],
   "source": []
  }
 ],
 "metadata": {
  "kernelspec": {
   "display_name": "Python 3",
   "language": "python",
   "name": "python3"
  },
  "language_info": {
   "codemirror_mode": {
    "name": "ipython",
    "version": 3
   },
   "file_extension": ".py",
   "mimetype": "text/x-python",
   "name": "python",
   "nbconvert_exporter": "python",
   "pygments_lexer": "ipython3",
   "version": "3.8.8"
  }
 },
 "nbformat": 4,
 "nbformat_minor": 5
}
