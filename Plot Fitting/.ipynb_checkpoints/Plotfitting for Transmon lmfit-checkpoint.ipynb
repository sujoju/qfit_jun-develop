{
 "cells": [
  {
   "cell_type": "code",
   "execution_count": 4,
   "id": "986d7635",
   "metadata": {},
   "outputs": [],
   "source": [
    "%matplotlib inline"
   ]
  },
  {
   "cell_type": "code",
   "execution_count": 9,
   "id": "8d763e01",
   "metadata": {},
   "outputs": [],
   "source": [
    "import matplotlib.pyplot as plt\n",
    "from lmfit import Minimizer, Parameters\n",
    "\n",
    "import numpy as np\n",
    "\n",
    "import scqubits as scq"
   ]
  },
  {
   "cell_type": "code",
   "execution_count": 29,
   "id": "62c5acad",
   "metadata": {},
   "outputs": [],
   "source": [
    "def func(pars, x, data=None):\n",
    "    a, b = pars['a'], pars['b']\n",
    "    transmon = scq.Transmon(EJ = 30.02,\n",
    "                            EC = a,\n",
    "                            ng = b,\n",
    "                            ncut = 31)\n",
    "    specdata = transmon.get_spectrum_vs_paramvals('EJ',\n",
    "                                                  x,\n",
    "                                                  evals_count = 3,\n",
    "                                                  subtract_ground = True)\n",
    "    model = specdata.energy_table[:,1]\n",
    "    if data is None:\n",
    "        return model\n",
    "    return model - data\n",
    "\n",
    "\n",
    "def f(var, x):\n",
    "    transmon = scq.Transmon(EJ = 30.02,\n",
    "                            EC = var[0],\n",
    "                            ng = var[1],\n",
    "                            ncut = 31)\n",
    "    specdata = transmon.get_spectrum_vs_paramvals('EJ',\n",
    "                                                  x,\n",
    "                                                  evals_count = 3,\n",
    "                                                  subtract_ground = True)\n",
    "    return specdata.energy_table[:,1]\n",
    "\n",
    "\n",
    "params = Parameters()\n",
    "params.add('a', value=5)\n",
    "params.add('b', value=0)\n",
    "\n",
    "a, b = 1.2, 0.3\n",
    "x = np.linspace(0, 50, 50)\n",
    "y = f([a, b], x)\n",
    "data = y + 0.25*np.random.normal(size=x.size)\n",
    "\n",
    "# fit without analytic derivative\n",
    "min1 = Minimizer(func, params, fcn_args=(x,), fcn_kws={'data': data})\n",
    "out1 = min1.leastsq()\n",
    "fit1 = func(out1.params, x)"
   ]
  },
  {
   "cell_type": "code",
   "execution_count": 27,
   "id": "5afaf698",
   "metadata": {},
   "outputs": [
    {
     "name": "stdout",
     "output_type": "stream",
     "text": [
      "\n",
      "\"true\" parameters are: a = 1.200, b = 0.300\n",
      "\n",
      "==================================\n",
      "Statistic/Parameter|   Without   |\n",
      "----------------------------------\n",
      "N Function Calls   |    19       |\n",
      "Chi-square         |   2.1103    |\n",
      "   a               |   1.2083    |\n",
      "   b               |   0.7096    |\n",
      "--------------------------------\n",
      "\n"
     ]
    }
   ],
   "source": [
    "print('''\n",
    "\"true\" parameters are: a = %.3f, b = %.3f\n",
    "\n",
    "==================================\n",
    "Statistic/Parameter|   Without   |\n",
    "----------------------------------\n",
    "N Function Calls   |   %3i       |\n",
    "Chi-square         |   %.4f    |\n",
    "   a               |   %.4f    |\n",
    "   b               |   %.4f    |\n",
    "--------------------------------\n",
    "''' % (a, b,\n",
    "       out1.nfev,\n",
    "       out1.chisqr,\n",
    "       out1.params['a'],\n",
    "       out1.params['b'], ))"
   ]
  },
  {
   "cell_type": "code",
   "execution_count": 28,
   "id": "9e54546d",
   "metadata": {},
   "outputs": [
    {
     "data": {
      "image/png": "[encoded data removed]",
      "text/plain": [
       "<Figure size 432x288 with 1 Axes>"
      ]
     },
     "metadata": {
      "needs_background": "light"
     },
     "output_type": "display_data"
    }
   ],
   "source": [
    "plt.plot(x, data, 'ro')\n",
    "plt.plot(x, fit1, 'b')\n",
    "plt.show()"
   ]
  },
  {
   "cell_type": "code",
   "execution_count": 22,
   "id": "0eb97cf6",
   "metadata": {
    "scrolled": false
   },
   "outputs": [
    {
     "data": {
      "application/vnd.jupyter.widget-view+json": {
       "model_id": "67858240f83d426a88ee2d3b7e579432",
       "version_major": 2,
       "version_minor": 0
      },
      "text/plain": [
       "VBox(children=(HBox(children=(ToggleButtons(description='Qubits:', layout=Layout(width='800px'), options=('Tra…"
      ]
     },
     "metadata": {},
     "output_type": "display_data"
    },
    {
     "data": {
      "application/vnd.jupyter.widget-view+json": {
       "model_id": "b26b5e6d97e9486abdc5184a67687c54",
       "version_major": 2,
       "version_minor": 0
      },
      "text/plain": [
       "Output(layout=Layout(width='975px'))"
      ]
     },
     "metadata": {},
     "output_type": "display_data"
    },
    {
     "data": {
      "text/plain": []
     },
     "execution_count": 22,
     "metadata": {},
     "output_type": "execute_result"
    }
   ],
   "source": [
    "scq.GUI()"
   ]
  },
  {
   "cell_type": "code",
   "execution_count": null,
   "id": "9fb5bf69",
   "metadata": {},
   "outputs": [],
   "source": []
  }
 ],
 "metadata": {
  "kernelspec": {
   "display_name": "Python 3",
   "language": "python",
   "name": "python3"
  },
  "language_info": {
   "codemirror_mode": {
    "name": "ipython",
    "version": 3
   },
   "file_extension": ".py",
   "mimetype": "text/x-python",
   "name": "python",
   "nbconvert_exporter": "python",
   "pygments_lexer": "ipython3",
   "version": "3.8.8"
  }
 },
 "nbformat": 4,
 "nbformat_minor": 5
}
