{
 "cells": [
  {
   "cell_type": "code",
   "execution_count": 24,
   "id": "33007c63",
   "metadata": {},
   "outputs": [],
   "source": [
    "%matplotlib inline"
   ]
  },
  {
   "cell_type": "code",
   "execution_count": 25,
   "id": "c41a096b",
   "metadata": {},
   "outputs": [],
   "source": [
    "import matplotlib.pyplot as plt\n",
    "import numpy as np\n",
    "\n",
    "from lmfit import Parameters, Minimizer, minimize, report_fit\n",
    "\n",
    "import scqubits as scq"
   ]
  },
  {
   "cell_type": "code",
   "execution_count": 26,
   "id": "e9f52f76",
   "metadata": {},
   "outputs": [],
   "source": [
    "osc = scq.Oscillator(E_osc = 1)\n",
    "gq = scq.GenericQubit(E = 1)\n",
    "\n",
    "g = 0.1\n",
    "hilbertspace = scq.HilbertSpace([gq, osc])\n",
    "\n",
    "hilbertspace.add_interaction(\n",
    "    g_strength = g,\n",
    "    op1 = osc.annihilation_operator,\n",
    "    op2 = gq.sp_operator,\n",
    "    add_hc = True\n",
    ")"
   ]
  },
  {
   "cell_type": "code",
   "execution_count": 27,
   "id": "32b5395d",
   "metadata": {
    "scrolled": true
   },
   "outputs": [
    {
     "name": "stdout",
     "output_type": "stream",
     "text": [
      "HilbertSpace:  subsystems\n",
      "-------------------------\n",
      "\n",
      "GenericQubit--------|\n",
      "                    | E: 1\n",
      "                    |\n",
      "                    | dim: 2\n",
      "\n",
      "\n",
      "Oscillator----------|\n",
      "                    | E_osc: 1\n",
      "                    | l_osc: None\n",
      "                    | truncated_dim: 6\n",
      "                    |\n",
      "                    | dim: 6\n",
      "\n",
      "\n",
      "\n",
      "HilbertSpace:  interaction terms\n",
      "--------------------------------\n",
      "\n",
      "InteractionTerm----------|\n",
      "                         | g_strength: 0.1\n",
      "                         | operator_list: [(1, array([[0.        , 1.        , 0.        , 0 ...\n",
      "                         | add_hc: True\n",
      "\n",
      " Quantum object: dims = [[2, 6], [2, 6]], shape = (12, 12), type = oper, isherm = True\n",
      "Qobj data =\n",
      "[[-0.5         0.          0.          0.          0.          0.\n",
      "   0.          0.          0.          0.          0.          0.        ]\n",
      " [ 0.          0.5         0.          0.          0.          0.\n",
      "   0.1         0.          0.          0.          0.          0.        ]\n",
      " [ 0.          0.          1.5         0.          0.          0.\n",
      "   0.          0.14142136  0.          0.          0.          0.        ]\n",
      " [ 0.          0.          0.          2.5         0.          0.\n",
      "   0.          0.          0.17320508  0.          0.          0.        ]\n",
      " [ 0.          0.          0.          0.          3.5         0.\n",
      "   0.          0.          0.          0.2         0.          0.        ]\n",
      " [ 0.          0.          0.          0.          0.          4.5\n",
      "   0.          0.          0.          0.          0.2236068   0.        ]\n",
      " [ 0.          0.1         0.          0.          0.          0.\n",
      "   0.5         0.          0.          0.          0.          0.        ]\n",
      " [ 0.          0.          0.14142136  0.          0.          0.\n",
      "   0.          1.5         0.          0.          0.          0.        ]\n",
      " [ 0.          0.          0.          0.17320508  0.          0.\n",
      "   0.          0.          2.5         0.          0.          0.        ]\n",
      " [ 0.          0.          0.          0.          0.2         0.\n",
      "   0.          0.          0.          3.5         0.          0.        ]\n",
      " [ 0.          0.          0.          0.          0.          0.2236068\n",
      "   0.          0.          0.          0.          4.5         0.        ]\n",
      " [ 0.          0.          0.          0.          0.          0.\n",
      "   0.          0.          0.          0.          0.          5.5       ]] [-0.5         0.4         0.6         1.35857864  1.64142136  2.32679492\n",
      "  2.67320508  3.3         3.7         4.2763932   4.7236068   5.5       ] [Quantum object: dims = [[2, 6], [1, 1]], shape = (12, 1), type = ket\n",
      " Qobj data =\n",
      " [[1.]\n",
      "  [0.]\n",
      "  [0.]\n",
      "  [0.]\n",
      "  [0.]\n",
      "  [0.]\n",
      "  [0.]\n",
      "  [0.]\n",
      "  [0.]\n",
      "  [0.]\n",
      "  [0.]\n",
      "  [0.]]\n",
      " Quantum object: dims = [[2, 6], [1, 1]], shape = (12, 1), type = ket\n",
      " Qobj data =\n",
      " [[ 0.        ]\n",
      "  [ 0.70710678]\n",
      "  [ 0.        ]\n",
      "  [ 0.        ]\n",
      "  [ 0.        ]\n",
      "  [ 0.        ]\n",
      "  [-0.70710678]\n",
      "  [ 0.        ]\n",
      "  [ 0.        ]\n",
      "  [ 0.        ]\n",
      "  [ 0.        ]\n",
      "  [ 0.        ]]\n",
      " Quantum object: dims = [[2, 6], [1, 1]], shape = (12, 1), type = ket\n",
      " Qobj data =\n",
      " [[ 0.        ]\n",
      "  [-0.70710678]\n",
      "  [ 0.        ]\n",
      "  [ 0.        ]\n",
      "  [ 0.        ]\n",
      "  [ 0.        ]\n",
      "  [-0.70710678]\n",
      "  [ 0.        ]\n",
      "  [ 0.        ]\n",
      "  [ 0.        ]\n",
      "  [ 0.        ]\n",
      "  [ 0.        ]]\n",
      " Quantum object: dims = [[2, 6], [1, 1]], shape = (12, 1), type = ket\n",
      " Qobj data =\n",
      " [[ 0.        ]\n",
      "  [ 0.        ]\n",
      "  [-0.70710678]\n",
      "  [ 0.        ]\n",
      "  [ 0.        ]\n",
      "  [ 0.        ]\n",
      "  [ 0.        ]\n",
      "  [ 0.70710678]\n",
      "  [ 0.        ]\n",
      "  [ 0.        ]\n",
      "  [ 0.        ]\n",
      "  [ 0.        ]]\n",
      " Quantum object: dims = [[2, 6], [1, 1]], shape = (12, 1), type = ket\n",
      " Qobj data =\n",
      " [[0.        ]\n",
      "  [0.        ]\n",
      "  [0.70710678]\n",
      "  [0.        ]\n",
      "  [0.        ]\n",
      "  [0.        ]\n",
      "  [0.        ]\n",
      "  [0.70710678]\n",
      "  [0.        ]\n",
      "  [0.        ]\n",
      "  [0.        ]\n",
      "  [0.        ]]\n",
      " Quantum object: dims = [[2, 6], [1, 1]], shape = (12, 1), type = ket\n",
      " Qobj data =\n",
      " [[ 0.        ]\n",
      "  [ 0.        ]\n",
      "  [ 0.        ]\n",
      "  [ 0.70710678]\n",
      "  [ 0.        ]\n",
      "  [ 0.        ]\n",
      "  [ 0.        ]\n",
      "  [ 0.        ]\n",
      "  [-0.70710678]\n",
      "  [ 0.        ]\n",
      "  [ 0.        ]\n",
      "  [ 0.        ]]\n",
      " Quantum object: dims = [[2, 6], [1, 1]], shape = (12, 1), type = ket\n",
      " Qobj data =\n",
      " [[0.        ]\n",
      "  [0.        ]\n",
      "  [0.        ]\n",
      "  [0.70710678]\n",
      "  [0.        ]\n",
      "  [0.        ]\n",
      "  [0.        ]\n",
      "  [0.        ]\n",
      "  [0.70710678]\n",
      "  [0.        ]\n",
      "  [0.        ]\n",
      "  [0.        ]]\n",
      " Quantum object: dims = [[2, 6], [1, 1]], shape = (12, 1), type = ket\n",
      " Qobj data =\n",
      " [[ 0.        ]\n",
      "  [ 0.        ]\n",
      "  [ 0.        ]\n",
      "  [ 0.        ]\n",
      "  [-0.70710678]\n",
      "  [ 0.        ]\n",
      "  [ 0.        ]\n",
      "  [ 0.        ]\n",
      "  [ 0.        ]\n",
      "  [ 0.70710678]\n",
      "  [ 0.        ]\n",
      "  [ 0.        ]]\n",
      " Quantum object: dims = [[2, 6], [1, 1]], shape = (12, 1), type = ket\n",
      " Qobj data =\n",
      " [[0.        ]\n",
      "  [0.        ]\n",
      "  [0.        ]\n",
      "  [0.        ]\n",
      "  [0.70710678]\n",
      "  [0.        ]\n",
      "  [0.        ]\n",
      "  [0.        ]\n",
      "  [0.        ]\n",
      "  [0.70710678]\n",
      "  [0.        ]\n",
      "  [0.        ]]\n",
      " Quantum object: dims = [[2, 6], [1, 1]], shape = (12, 1), type = ket\n",
      " Qobj data =\n",
      " [[ 0.        ]\n",
      "  [ 0.        ]\n",
      "  [ 0.        ]\n",
      "  [ 0.        ]\n",
      "  [ 0.        ]\n",
      "  [ 0.70710678]\n",
      "  [ 0.        ]\n",
      "  [ 0.        ]\n",
      "  [ 0.        ]\n",
      "  [ 0.        ]\n",
      "  [-0.70710678]\n",
      "  [ 0.        ]]\n",
      " Quantum object: dims = [[2, 6], [1, 1]], shape = (12, 1), type = ket\n",
      " Qobj data =\n",
      " [[0.        ]\n",
      "  [0.        ]\n",
      "  [0.        ]\n",
      "  [0.        ]\n",
      "  [0.        ]\n",
      "  [0.70710678]\n",
      "  [0.        ]\n",
      "  [0.        ]\n",
      "  [0.        ]\n",
      "  [0.        ]\n",
      "  [0.70710678]\n",
      "  [0.        ]]\n",
      " Quantum object: dims = [[2, 6], [1, 1]], shape = (12, 1), type = ket\n",
      " Qobj data =\n",
      " [[0.]\n",
      "  [0.]\n",
      "  [0.]\n",
      "  [0.]\n",
      "  [0.]\n",
      "  [0.]\n",
      "  [0.]\n",
      "  [0.]\n",
      "  [0.]\n",
      "  [0.]\n",
      "  [0.]\n",
      "  [1.]]                                                              ]\n"
     ]
    }
   ],
   "source": [
    "dressed_hamiltonian = hilbertspace.hamiltonian()\n",
    "evals, evecs = hilbertspace.eigensys(evals_count=12)\n",
    "\n",
    "print(hilbertspace, dressed_hamiltonian, evals, evecs)"
   ]
  },
  {
   "cell_type": "code",
   "execution_count": 28,
   "id": "75d20eca",
   "metadata": {},
   "outputs": [
    {
     "data": {
      "application/vnd.jupyter.widget-view+json": {
       "model_id": "",
       "version_major": 2,
       "version_minor": 0
      },
      "text/plain": [
       "Parallel compute bare eigensys [num_cpus=4]"
      ]
     },
     "metadata": {},
     "output_type": "display_data"
    },
    {
     "data": {
      "application/vnd.jupyter.widget-view+json": {
       "model_id": "",
       "version_major": 2,
       "version_minor": 0
      },
      "text/plain": [
       "Parallel compute bare eigensys [num_cpus=4]"
      ]
     },
     "metadata": {},
     "output_type": "display_data"
    },
    {
     "data": {
      "application/vnd.jupyter.widget-view+json": {
       "model_id": "",
       "version_major": 2,
       "version_minor": 0
      },
      "text/plain": [
       "Parallel compute dressed eigensys [num_cpus=4]"
      ]
     },
     "metadata": {},
     "output_type": "display_data"
    }
   ],
   "source": [
    "pname1 = 'E'\n",
    "E_vals = np.linspace(0.0, 10.0, 101)\n",
    "#pname2 = 'E_osc'\n",
    "#E_osc_vals = np.linspace(0.0, 10.0, 101)\n",
    "pname3 = 'detuning'\n",
    "detuning_vals = np.linspace(0.0, 10.0, 101)\n",
    "\n",
    "\n",
    "#paramvals_by_name = {pname1: E_vals, pname2: E_osc_vals, pname3: detuning_vals}\n",
    "paramvals_by_name = {pname1: E_vals, pname3: detuning_vals}\n",
    "\n",
    "#def update_hilbertspace(E, E_osc, detuning):\n",
    "#    gq.E = E\n",
    "#    osc.E_osc = E_osc\n",
    "\n",
    "def update_hilbertspace(E, detuning):\n",
    "    gq.E = E\n",
    "    osc.E_osc = E + detuning\n",
    "    \n",
    "sweep = scq.ParameterSweep(\n",
    "    hilbertspace=hilbertspace,\n",
    "    paramvals_by_name=paramvals_by_name,\n",
    "    update_hilbertspace=update_hilbertspace,\n",
    "    evals_count=3,\n",
    "    num_cpus=4\n",
    ")"
   ]
  },
  {
   "cell_type": "code",
   "execution_count": 23,
   "id": "e07eee1c",
   "metadata": {},
   "outputs": [
    {
     "data": {
      "text/plain": [
       "NamedSlotsNdarray([[-2.23606798e-01, -2.00000000e-01, -1.73205081e-01],\n",
       "                   [-6.18033989e-02, -2.11432593e-17,  0.00000000e+00],\n",
       "                   [-4.14213562e-02,  0.00000000e+00,  1.26794919e-01],\n",
       "                   [-3.02775638e-02,  0.00000000e+00,  2.43844719e-01],\n",
       "                   [-2.36067977e-02,  0.00000000e+00,  3.55051026e-01],\n",
       "                   [-1.92582404e-02,  0.00000000e+00,  4.62771868e-01],\n",
       "                   [-1.62277660e-02,  0.00000000e+00,  5.68337521e-01],\n",
       "                   [-1.40054945e-02,  0.00000000e+00,  6.72508278e-01],\n",
       "                   [-1.23105626e-02,  0.00000000e+00,  7.75735931e-01],\n",
       "                   [-1.09772229e-02,  0.00000000e+00,  8.78300943e-01],\n",
       "                   [-9.90195136e-03,  0.00000000e+00,  9.80384758e-01],\n",
       "                   [-9.01699437e-03,  0.00000000e+00,  1.08210917e+00],\n",
       "                   [-8.27625303e-03,  0.00000000e+00,  1.18355860e+00],\n",
       "                   [-7.64732190e-03,  0.00000000e+00,  1.28479327e+00],\n",
       "                   [-7.10678119e-03,  0.00000000e+00,  1.38585716e+00],\n",
       "                   [-6.63729752e-03,  0.00000000e+00,  1.48678312e+00],\n",
       "                   [-6.22577483e-03,  0.00000000e+00,  1.58759616e+00],\n",
       "                   [-5.86213843e-03,  0.00000000e+00,  1.68831560e+00],\n",
       "                   [-5.53851381e-03,  0.00000000e+00,  1.78895664e+00],\n",
       "                   [-5.24865873e-03,  0.00000000e+00,  1.88953136e+00],\n",
       "                   [-4.98756211e-03,  0.00000000e+00,  1.99004951e+00],\n",
       "                   [-4.75115549e-03,  0.00000000e+00,  2.09051899e+00],\n",
       "                   [-4.53610172e-03,  0.00000000e+00,  2.19094635e+00],\n",
       "                   [-4.33963806e-03,  0.00000000e+00,  2.29133698e+00],\n",
       "                   [-4.15945788e-03,  0.00000000e+00,  2.39169540e+00],\n",
       "                   [-3.99362040e-03,  0.00000000e+00,  2.49202544e+00],\n",
       "                   [-3.84048104e-03,  0.00000000e+00,  2.59233032e+00],\n",
       "                   [-3.69863707e-03,  0.00000000e+00,  2.69261280e+00],\n",
       "                   [-3.56688476e-03,  0.00000000e+00,  2.79287527e+00],\n",
       "                   [-3.44418537e-03,  0.00000000e+00,  2.89311977e+00],\n",
       "                   [-3.32963784e-03,  0.00000000e+00,  2.99334808e+00],\n",
       "                   [-3.22245670e-03,  0.00000000e+00,  3.09356176e+00],\n",
       "                   [-3.12195419e-03,  0.00000000e+00,  3.19376216e+00],\n",
       "                   [-3.02752548e-03,  0.00000000e+00,  3.29395048e+00],\n",
       "                   [-2.93863659e-03,  0.00000000e+00,  3.39412779e+00],\n",
       "                   [-2.85481430e-03,  0.00000000e+00,  3.49429501e+00],\n",
       "                   [-2.77563773e-03,  0.00000000e+00,  3.59445299e+00],\n",
       "                   [-2.70073136e-03,  0.00000000e+00,  3.69460247e+00],\n",
       "                   [-2.62975904e-03,  0.00000000e+00,  3.79474411e+00],\n",
       "                   [-2.56241898e-03,  0.00000000e+00,  3.89487852e+00],\n",
       "                   [-2.49843945e-03,  0.00000000e+00,  3.99500623e+00],\n",
       "                   [-2.43757518e-03,  0.00000000e+00,  4.09512774e+00],\n",
       "                   [-2.37960416e-03,  0.00000000e+00,  4.19524348e+00],\n",
       "                   [-2.32432500e-03,  0.00000000e+00,  4.29535386e+00],\n",
       "                   [-2.27155455e-03,  0.00000000e+00,  4.39545923e+00],\n",
       "                   [-2.22112591e-03,  0.00000000e+00,  4.49555994e+00],\n",
       "                   [-2.17288664e-03,  0.00000000e+00,  4.59565628e+00],\n",
       "                   [-2.12669727e-03,  0.00000000e+00,  4.69574853e+00],\n",
       "                   [-2.08242989e-03,  0.00000000e+00,  4.79583694e+00],\n",
       "                   [-2.03996705e-03,  0.00000000e+00,  4.89592176e+00],\n",
       "                   [-1.99920064e-03,  0.00000000e+00,  4.99600319e+00],\n",
       "                   [-1.96003103e-03,  0.00000000e+00,  5.09608144e+00],\n",
       "                   [-1.92236625e-03,  0.00000000e+00,  5.19615669e+00],\n",
       "                   [-1.88612124e-03,  0.00000000e+00,  5.29622910e+00],\n",
       "                   [-1.85121722e-03,  0.00000000e+00,  5.39629883e+00],\n",
       "                   [-1.81758116e-03,  0.00000000e+00,  5.49636604e+00],\n",
       "                   [-1.78514522e-03,  0.00000000e+00,  5.59643085e+00],\n",
       "                   [-1.75384632e-03,  0.00000000e+00,  5.69649339e+00],\n",
       "                   [-1.72362571e-03,  0.00000000e+00,  5.79655377e+00],\n",
       "                   [-1.69442863e-03,  0.00000000e+00,  5.89661211e+00],\n",
       "                   [-1.66620396e-03,  0.00000000e+00,  5.99666852e+00],\n",
       "                   [-1.63890393e-03,  0.00000000e+00,  6.09672307e+00],\n",
       "                   [-1.61248385e-03,  0.00000000e+00,  6.19677587e+00],\n",
       "                   [-1.58690186e-03,  0.00000000e+00,  6.29682699e+00],\n",
       "                   [-1.56211872e-03,  0.00000000e+00,  6.39687652e+00],\n",
       "                   [-1.53809758e-03,  0.00000000e+00,  6.49692453e+00],\n",
       "                   [-1.51480384e-03,  0.00000000e+00,  6.59697109e+00],\n",
       "                   [-1.49220497e-03,  0.00000000e+00,  6.69701625e+00],\n",
       "                   [-1.47027034e-03,  0.00000000e+00,  6.79706009e+00],\n",
       "                   [-1.44897108e-03,  0.00000000e+00,  6.89710267e+00],\n",
       "                   [-1.42828000e-03,  0.00000000e+00,  6.99714402e+00],\n",
       "                   [-1.40817142e-03,  0.00000000e+00,  7.09718422e+00],\n",
       "                   [-1.38862107e-03,  0.00000000e+00,  7.19722329e+00],\n",
       "                   [-1.36960605e-03,  0.00000000e+00,  7.29726130e+00],\n",
       "                   [-1.35110466e-03,  0.00000000e+00,  7.39729828e+00],\n",
       "                   [-1.33309638e-03,  0.00000000e+00,  7.49733428e+00],\n",
       "                   [-1.31556175e-03,  0.00000000e+00,  7.59736933e+00],\n",
       "                   [-1.29848233e-03,  0.00000000e+00,  7.69740347e+00],\n",
       "                   [-1.28184063e-03,  0.00000000e+00,  7.79743674e+00],\n",
       "                   [-1.26562003e-03,  0.00000000e+00,  7.89746917e+00],\n",
       "                   [-1.24980475e-03,  0.00000000e+00,  7.99750078e+00],\n",
       "                   [-1.23437979e-03,  0.00000000e+00,  8.09753162e+00],\n",
       "                   [-1.21933088e-03,  0.00000000e+00,  8.19756170e+00],\n",
       "                   [-1.20464444e-03,  0.00000000e+00,  8.29759106e+00],\n",
       "                   [-1.19030752e-03,  0.00000000e+00,  8.39761972e+00],\n",
       "                   [-1.17630780e-03,  0.00000000e+00,  8.49764771e+00],\n",
       "                   [-1.16263352e-03,  0.00000000e+00,  8.59767505e+00],\n",
       "                   [-1.14927347e-03,  0.00000000e+00,  8.69770176e+00],\n",
       "                   [-1.13621693e-03,  0.00000000e+00,  8.79772786e+00],\n",
       "                   [-1.12345369e-03,  0.00000000e+00,  8.89775338e+00],\n",
       "                   [-1.11097397e-03,  0.00000000e+00,  8.99777833e+00],\n",
       "                   [-1.09876843e-03,  0.00000000e+00,  9.09780273e+00],\n",
       "                   [-1.08682813e-03,  0.00000000e+00,  9.19782660e+00],\n",
       "                   [-1.07514452e-03,  0.00000000e+00,  9.29784996e+00],\n",
       "                   [-1.06370942e-03,  0.00000000e+00,  9.39787282e+00],\n",
       "                   [-1.05251497e-03,  0.00000000e+00,  9.49789520e+00],\n",
       "                   [-1.04155366e-03,  0.00000000e+00,  9.59791712e+00],\n",
       "                   [-1.03081829e-03,  0.00000000e+00,  9.69793858e+00],\n",
       "                   [-1.02030194e-03,  0.00000000e+00,  9.79795961e+00],\n",
       "                   [-1.00999797e-03,  0.00000000e+00,  9.89798021e+00],\n",
       "                   [-9.99900020e-04,  0.00000000e+00,  9.99800040e+00]])"
      ]
     },
     "execution_count": 23,
     "metadata": {},
     "output_type": "execute_result"
    }
   ],
   "source": [
    "sweep[\"evals\"][0, :]"
   ]
  },
  {
   "cell_type": "code",
   "execution_count": 9,
   "id": "cc1a4c4b",
   "metadata": {},
   "outputs": [
    {
     "data": {
      "text/plain": [
       "(<Figure size 900x600 with 1 Axes>, <AxesSubplot:xlabel='detuning'>)"
      ]
     },
     "execution_count": 9,
     "metadata": {},
     "output_type": "execute_result"
    },
    {
     "data": {
      "image/png": "[encoded data removed]",
      "text/plain": [
       "<Figure size 900x600 with 1 Axes>"
      ]
     },
     "metadata": {
      "needs_background": "light"
     },
     "output_type": "display_data"
    },
    {
     "data": {
      "image/png": "[encoded data removed]",
      "text/plain": [
       "<Figure size 900x600 with 1 Axes>"
      ]
     },
     "metadata": {
      "needs_background": "light"
     },
     "output_type": "display_data"
    }
   ],
   "source": [
    "sweep[\"evals\"][8.1, :].plot()\n",
    "sweep[\"evals\"][5.0, :].plot()"
   ]
  },
  {
   "cell_type": "code",
   "execution_count": 29,
   "id": "7468e2cf",
   "metadata": {},
   "outputs": [
    {
     "data": {
      "application/vnd.jupyter.widget-view+json": {
       "model_id": "",
       "version_major": 2,
       "version_minor": 0
      },
      "text/plain": [
       "Parallel compute bare eigensys [num_cpus=4]"
      ]
     },
     "metadata": {},
     "output_type": "display_data"
    },
    {
     "data": {
      "application/vnd.jupyter.widget-view+json": {
       "model_id": "",
       "version_major": 2,
       "version_minor": 0
      },
      "text/plain": [
       "Parallel compute bare eigensys [num_cpus=4]"
      ]
     },
     "metadata": {},
     "output_type": "display_data"
    },
    {
     "data": {
      "application/vnd.jupyter.widget-view+json": {
       "model_id": "",
       "version_major": 2,
       "version_minor": 0
      },
      "text/plain": [
       "Parallel compute dressed eigensys [num_cpus=4]"
      ]
     },
     "metadata": {},
     "output_type": "display_data"
    }
   ],
   "source": [
    "def update_hilbertspace(E, detuning):\n",
    "    gq.E = E\n",
    "    osc.E_osc = E + detuning\n",
    "\n",
    "x = np.linspace(0, 10, 101)\n",
    "\n",
    "pname1 = 'E'\n",
    "E_vals = x\n",
    "pname3 = 'detuning'\n",
    "detuning_vals = x\n",
    "\n",
    "paramvals_by_name = {pname1: E_vals, pname3: detuning_vals}\n",
    "\n",
    "sweep = scq.ParameterSweep(\n",
    "    hilbertspace=hilbertspace,\n",
    "    paramvals_by_name=paramvals_by_name,\n",
    "    update_hilbertspace=update_hilbertspace,\n",
    "    evals_count=3,\n",
    "    num_cpus=4\n",
    ")"
   ]
  },
  {
   "cell_type": "code",
   "execution_count": 30,
   "id": "568e74bf",
   "metadata": {},
   "outputs": [
    {
     "name": "stdout",
     "output_type": "stream",
     "text": [
      "[[Variables]]\n",
      "    e:  5.00000000 (init = 5)\n",
      "[[Variables]]\n",
      "    e:  5.00000000 (init = 5)\n"
     ]
    }
   ],
   "source": [
    "def create_model_data(e, x):\n",
    "    e_index = int(10*e)\n",
    "    return np.array(sweep[\"evals\"][e_index, :])\n",
    "\n",
    "def jc_resid(pars, x, data=None):\n",
    "    e = pars['e']\n",
    "    model = create_model_data(e, x)\n",
    "    if data is None:\n",
    "        return model\n",
    "    #return model - data\n",
    "    resid = model - data\n",
    "    return resid.flatten()\n",
    "\n",
    "params = Parameters()\n",
    "params.add('e', value=5.0, min = 0, max = 10, brute_step = 0.1)\n",
    "\n",
    "e = 8.1\n",
    "y = create_model_data(e, x)\n",
    "data = y + 0.25*np.random.normal(size=y.shape)\n",
    "\n",
    "min1 = Minimizer(jc_resid, params, fcn_args=(x,), fcn_kws={'data': data})\n",
    "out1 = min1.least_squares()\n",
    "fit1 = jc_resid(out1.params, x)\n",
    "report_fit(out1.params)\n",
    "\n",
    "out2 = minimize(jc_resid, params, args=(x, data))\n",
    "fit2 = jc_resid(out2.params, x)\n",
    "report_fit(out2.params)"
   ]
  },
  {
   "cell_type": "code",
   "execution_count": 95,
   "id": "c03de3b6",
   "metadata": {},
   "outputs": [
    {
     "name": "stdout",
     "output_type": "stream",
     "text": [
      "<class 'lmfit.parameter.Parameter'>\n"
     ]
    },
    {
     "ename": "TypeError",
     "evalue": "Invalid index: <Parameter 'e', value=5.0, bounds=[0:10], brute_step=0.1>",
     "output_type": "error",
     "traceback": [
      "\u001b[1;31m---------------------------------------------------------------------------\u001b[0m",
      "\u001b[1;31mIndexError\u001b[0m                                Traceback (most recent call last)",
      "\u001b[1;32mc:\\users\\sujoj\\github\\scqubits\\scqubits\\core\\namedslots_array.py\u001b[0m in \u001b[0;36m__getitem__\u001b[1;34m(self, multi_index)\u001b[0m\n\u001b[0;32m    439\u001b[0m         \u001b[1;32mtry\u001b[0m\u001b[1;33m:\u001b[0m\u001b[1;33m\u001b[0m\u001b[1;33m\u001b[0m\u001b[0m\n\u001b[1;32m--> 440\u001b[1;33m             \u001b[0mobj\u001b[0m \u001b[1;33m=\u001b[0m \u001b[0msuper\u001b[0m\u001b[1;33m(\u001b[0m\u001b[1;33m)\u001b[0m\u001b[1;33m.\u001b[0m\u001b[0m__getitem__\u001b[0m\u001b[1;33m(\u001b[0m\u001b[0mmulti_index\u001b[0m\u001b[1;33m)\u001b[0m\u001b[1;33m\u001b[0m\u001b[1;33m\u001b[0m\u001b[0m\n\u001b[0m\u001b[0;32m    441\u001b[0m             \u001b[1;31m# This attempt fails if multi-index is string- or value-based\u001b[0m\u001b[1;33m\u001b[0m\u001b[1;33m\u001b[0m\u001b[1;33m\u001b[0m\u001b[0m\n",
      "\u001b[1;31mIndexError\u001b[0m: only integers, slices (`:`), ellipsis (`...`), numpy.newaxis (`None`) and integer or boolean arrays are valid indices",
      "\nDuring handling of the above exception, another exception occurred:\n",
      "\u001b[1;31mTypeError\u001b[0m                                 Traceback (most recent call last)",
      "\u001b[1;32m<ipython-input-95-e61679aec15d>\u001b[0m in \u001b[0;36m<module>\u001b[1;34m\u001b[0m\n\u001b[0;32m     18\u001b[0m \u001b[1;33m\u001b[0m\u001b[0m\n\u001b[0;32m     19\u001b[0m \u001b[0mmin1\u001b[0m \u001b[1;33m=\u001b[0m \u001b[0mMinimizer\u001b[0m\u001b[1;33m(\u001b[0m\u001b[0mjc_resid\u001b[0m\u001b[1;33m,\u001b[0m \u001b[0mparams\u001b[0m\u001b[1;33m,\u001b[0m \u001b[0mfcn_args\u001b[0m\u001b[1;33m=\u001b[0m\u001b[1;33m(\u001b[0m\u001b[1;33m)\u001b[0m\u001b[1;33m,\u001b[0m \u001b[0mfcn_kws\u001b[0m\u001b[1;33m=\u001b[0m\u001b[1;33m{\u001b[0m\u001b[1;34m'data'\u001b[0m\u001b[1;33m:\u001b[0m \u001b[0mdata\u001b[0m\u001b[1;33m}\u001b[0m\u001b[1;33m)\u001b[0m\u001b[1;33m\u001b[0m\u001b[1;33m\u001b[0m\u001b[0m\n\u001b[1;32m---> 20\u001b[1;33m \u001b[0mout1\u001b[0m \u001b[1;33m=\u001b[0m \u001b[0mmin1\u001b[0m\u001b[1;33m.\u001b[0m\u001b[0mleast_squares\u001b[0m\u001b[1;33m(\u001b[0m\u001b[1;33m)\u001b[0m\u001b[1;33m\u001b[0m\u001b[1;33m\u001b[0m\u001b[0m\n\u001b[0m\u001b[0;32m     21\u001b[0m \u001b[0mfit1\u001b[0m \u001b[1;33m=\u001b[0m \u001b[0mjc_resid\u001b[0m\u001b[1;33m(\u001b[0m\u001b[0mout1\u001b[0m\u001b[1;33m.\u001b[0m\u001b[0mparams\u001b[0m\u001b[1;33m)\u001b[0m\u001b[1;33m\u001b[0m\u001b[1;33m\u001b[0m\u001b[0m\n\u001b[0;32m     22\u001b[0m \u001b[0mreport_fit\u001b[0m\u001b[1;33m(\u001b[0m\u001b[0mout1\u001b[0m\u001b[1;33m.\u001b[0m\u001b[0mparams\u001b[0m\u001b[1;33m)\u001b[0m\u001b[1;33m\u001b[0m\u001b[1;33m\u001b[0m\u001b[0m\n",
      "\u001b[1;32m~\\anaconda3\\lib\\site-packages\\lmfit\\minimizer.py\u001b[0m in \u001b[0;36mleast_squares\u001b[1;34m(self, params, max_nfev, **kws)\u001b[0m\n\u001b[0;32m   1575\u001b[0m         \u001b[0mresult\u001b[0m\u001b[1;33m.\u001b[0m\u001b[0mcall_kws\u001b[0m \u001b[1;33m=\u001b[0m \u001b[0mkws\u001b[0m\u001b[1;33m\u001b[0m\u001b[1;33m\u001b[0m\u001b[0m\n\u001b[0;32m   1576\u001b[0m         \u001b[1;32mtry\u001b[0m\u001b[1;33m:\u001b[0m\u001b[1;33m\u001b[0m\u001b[1;33m\u001b[0m\u001b[0m\n\u001b[1;32m-> 1577\u001b[1;33m             ret = least_squares(self.__residual, start_vals,\n\u001b[0m\u001b[0;32m   1578\u001b[0m                                 \u001b[0mbounds\u001b[0m\u001b[1;33m=\u001b[0m\u001b[1;33m(\u001b[0m\u001b[0mlower_bounds\u001b[0m\u001b[1;33m,\u001b[0m \u001b[0mupper_bounds\u001b[0m\u001b[1;33m)\u001b[0m\u001b[1;33m,\u001b[0m\u001b[1;33m\u001b[0m\u001b[1;33m\u001b[0m\u001b[0m\n\u001b[0;32m   1579\u001b[0m                                 \u001b[0mkwargs\u001b[0m\u001b[1;33m=\u001b[0m\u001b[0mdict\u001b[0m\u001b[1;33m(\u001b[0m\u001b[0mapply_bounds_transformation\u001b[0m\u001b[1;33m=\u001b[0m\u001b[1;32mFalse\u001b[0m\u001b[1;33m)\u001b[0m\u001b[1;33m,\u001b[0m\u001b[1;33m\u001b[0m\u001b[1;33m\u001b[0m\u001b[0m\n",
      "\u001b[1;32m~\\anaconda3\\lib\\site-packages\\scipy\\optimize\\_lsq\\least_squares.py\u001b[0m in \u001b[0;36mleast_squares\u001b[1;34m(fun, x0, jac, bounds, method, ftol, xtol, gtol, x_scale, loss, f_scale, diff_step, tr_solver, tr_options, jac_sparsity, max_nfev, verbose, args, kwargs)\u001b[0m\n\u001b[0;32m    815\u001b[0m         \u001b[0mx0\u001b[0m \u001b[1;33m=\u001b[0m \u001b[0mmake_strictly_feasible\u001b[0m\u001b[1;33m(\u001b[0m\u001b[0mx0\u001b[0m\u001b[1;33m,\u001b[0m \u001b[0mlb\u001b[0m\u001b[1;33m,\u001b[0m \u001b[0mub\u001b[0m\u001b[1;33m)\u001b[0m\u001b[1;33m\u001b[0m\u001b[1;33m\u001b[0m\u001b[0m\n\u001b[0;32m    816\u001b[0m \u001b[1;33m\u001b[0m\u001b[0m\n\u001b[1;32m--> 817\u001b[1;33m     \u001b[0mf0\u001b[0m \u001b[1;33m=\u001b[0m \u001b[0mfun_wrapped\u001b[0m\u001b[1;33m(\u001b[0m\u001b[0mx0\u001b[0m\u001b[1;33m)\u001b[0m\u001b[1;33m\u001b[0m\u001b[1;33m\u001b[0m\u001b[0m\n\u001b[0m\u001b[0;32m    818\u001b[0m \u001b[1;33m\u001b[0m\u001b[0m\n\u001b[0;32m    819\u001b[0m     \u001b[1;32mif\u001b[0m \u001b[0mf0\u001b[0m\u001b[1;33m.\u001b[0m\u001b[0mndim\u001b[0m \u001b[1;33m!=\u001b[0m \u001b[1;36m1\u001b[0m\u001b[1;33m:\u001b[0m\u001b[1;33m\u001b[0m\u001b[1;33m\u001b[0m\u001b[0m\n",
      "\u001b[1;32m~\\anaconda3\\lib\\site-packages\\scipy\\optimize\\_lsq\\least_squares.py\u001b[0m in \u001b[0;36mfun_wrapped\u001b[1;34m(x)\u001b[0m\n\u001b[0;32m    810\u001b[0m \u001b[1;33m\u001b[0m\u001b[0m\n\u001b[0;32m    811\u001b[0m     \u001b[1;32mdef\u001b[0m \u001b[0mfun_wrapped\u001b[0m\u001b[1;33m(\u001b[0m\u001b[0mx\u001b[0m\u001b[1;33m)\u001b[0m\u001b[1;33m:\u001b[0m\u001b[1;33m\u001b[0m\u001b[1;33m\u001b[0m\u001b[0m\n\u001b[1;32m--> 812\u001b[1;33m         \u001b[1;32mreturn\u001b[0m \u001b[0mnp\u001b[0m\u001b[1;33m.\u001b[0m\u001b[0matleast_1d\u001b[0m\u001b[1;33m(\u001b[0m\u001b[0mfun\u001b[0m\u001b[1;33m(\u001b[0m\u001b[0mx\u001b[0m\u001b[1;33m,\u001b[0m \u001b[1;33m*\u001b[0m\u001b[0margs\u001b[0m\u001b[1;33m,\u001b[0m \u001b[1;33m**\u001b[0m\u001b[0mkwargs\u001b[0m\u001b[1;33m)\u001b[0m\u001b[1;33m)\u001b[0m\u001b[1;33m\u001b[0m\u001b[1;33m\u001b[0m\u001b[0m\n\u001b[0m\u001b[0;32m    813\u001b[0m \u001b[1;33m\u001b[0m\u001b[0m\n\u001b[0;32m    814\u001b[0m     \u001b[1;32mif\u001b[0m \u001b[0mmethod\u001b[0m \u001b[1;33m==\u001b[0m \u001b[1;34m'trf'\u001b[0m\u001b[1;33m:\u001b[0m\u001b[1;33m\u001b[0m\u001b[1;33m\u001b[0m\u001b[0m\n",
      "\u001b[1;32m~\\anaconda3\\lib\\site-packages\\lmfit\\minimizer.py\u001b[0m in \u001b[0;36m__residual\u001b[1;34m(self, fvars, apply_bounds_transformation)\u001b[0m\n\u001b[0;32m    588\u001b[0m             \u001b[1;32mraise\u001b[0m \u001b[0mAbortFitException\u001b[0m\u001b[1;33m(\u001b[0m\u001b[1;34m\"fit aborted: too many function evaluations (%d).\"\u001b[0m \u001b[1;33m%\u001b[0m \u001b[0mself\u001b[0m\u001b[1;33m.\u001b[0m\u001b[0mmax_nfev\u001b[0m\u001b[1;33m)\u001b[0m\u001b[1;33m\u001b[0m\u001b[1;33m\u001b[0m\u001b[0m\n\u001b[0;32m    589\u001b[0m \u001b[1;33m\u001b[0m\u001b[0m\n\u001b[1;32m--> 590\u001b[1;33m         \u001b[0mout\u001b[0m \u001b[1;33m=\u001b[0m \u001b[0mself\u001b[0m\u001b[1;33m.\u001b[0m\u001b[0muserfcn\u001b[0m\u001b[1;33m(\u001b[0m\u001b[0mparams\u001b[0m\u001b[1;33m,\u001b[0m \u001b[1;33m*\u001b[0m\u001b[0mself\u001b[0m\u001b[1;33m.\u001b[0m\u001b[0muserargs\u001b[0m\u001b[1;33m,\u001b[0m \u001b[1;33m**\u001b[0m\u001b[0mself\u001b[0m\u001b[1;33m.\u001b[0m\u001b[0muserkws\u001b[0m\u001b[1;33m)\u001b[0m\u001b[1;33m\u001b[0m\u001b[1;33m\u001b[0m\u001b[0m\n\u001b[0m\u001b[0;32m    591\u001b[0m \u001b[1;33m\u001b[0m\u001b[0m\n\u001b[0;32m    592\u001b[0m         \u001b[1;32mif\u001b[0m \u001b[0mcallable\u001b[0m\u001b[1;33m(\u001b[0m\u001b[0mself\u001b[0m\u001b[1;33m.\u001b[0m\u001b[0miter_cb\u001b[0m\u001b[1;33m)\u001b[0m\u001b[1;33m:\u001b[0m\u001b[1;33m\u001b[0m\u001b[1;33m\u001b[0m\u001b[0m\n",
      "\u001b[1;32m<ipython-input-95-e61679aec15d>\u001b[0m in \u001b[0;36mjc_resid\u001b[1;34m(pars, data)\u001b[0m\n\u001b[0;32m      3\u001b[0m     \u001b[0mprint\u001b[0m\u001b[1;33m(\u001b[0m\u001b[0mtype\u001b[0m\u001b[1;33m(\u001b[0m\u001b[0me\u001b[0m\u001b[1;33m)\u001b[0m\u001b[1;33m)\u001b[0m\u001b[1;33m\u001b[0m\u001b[1;33m\u001b[0m\u001b[0m\n\u001b[0;32m      4\u001b[0m \u001b[1;33m\u001b[0m\u001b[0m\n\u001b[1;32m----> 5\u001b[1;33m     \u001b[0mmodel\u001b[0m \u001b[1;33m=\u001b[0m \u001b[0msweep\u001b[0m\u001b[1;33m[\u001b[0m\u001b[1;34m\"evals\"\u001b[0m\u001b[1;33m]\u001b[0m\u001b[1;33m[\u001b[0m\u001b[0me\u001b[0m\u001b[1;33m,\u001b[0m \u001b[1;33m:\u001b[0m\u001b[1;33m]\u001b[0m\u001b[1;33m\u001b[0m\u001b[1;33m\u001b[0m\u001b[0m\n\u001b[0m\u001b[0;32m      6\u001b[0m     \u001b[1;32mif\u001b[0m \u001b[0mdata\u001b[0m \u001b[1;32mis\u001b[0m \u001b[1;32mNone\u001b[0m\u001b[1;33m:\u001b[0m\u001b[1;33m\u001b[0m\u001b[1;33m\u001b[0m\u001b[0m\n\u001b[0;32m      7\u001b[0m         \u001b[1;32mreturn\u001b[0m \u001b[0mmodel\u001b[0m\u001b[1;33m\u001b[0m\u001b[1;33m\u001b[0m\u001b[0m\n",
      "\u001b[1;32mc:\\users\\sujoj\\github\\scqubits\\scqubits\\core\\namedslots_array.py\u001b[0m in \u001b[0;36m__getitem__\u001b[1;34m(self, multi_index)\u001b[0m\n\u001b[0;32m    441\u001b[0m             \u001b[1;31m# This attempt fails if multi-index is string- or value-based\u001b[0m\u001b[1;33m\u001b[0m\u001b[1;33m\u001b[0m\u001b[1;33m\u001b[0m\u001b[0m\n\u001b[0;32m    442\u001b[0m         \u001b[1;32mexcept\u001b[0m \u001b[1;33m(\u001b[0m\u001b[0mTypeError\u001b[0m\u001b[1;33m,\u001b[0m \u001b[0mIndexError\u001b[0m\u001b[1;33m)\u001b[0m\u001b[1;33m:\u001b[0m\u001b[1;33m\u001b[0m\u001b[1;33m\u001b[0m\u001b[0m\n\u001b[1;32m--> 443\u001b[1;33m             \u001b[0mmulti_index\u001b[0m \u001b[1;33m=\u001b[0m \u001b[0mconvert_to_std_npindex\u001b[0m\u001b[1;33m(\u001b[0m\u001b[0mmulti_index\u001b[0m\u001b[1;33m,\u001b[0m \u001b[0mself\u001b[0m\u001b[1;33m.\u001b[0m\u001b[0m_parameters\u001b[0m\u001b[1;33m)\u001b[0m\u001b[1;33m\u001b[0m\u001b[1;33m\u001b[0m\u001b[0m\n\u001b[0m\u001b[0;32m    444\u001b[0m             \u001b[0mobj\u001b[0m \u001b[1;33m=\u001b[0m \u001b[0msuper\u001b[0m\u001b[1;33m(\u001b[0m\u001b[1;33m)\u001b[0m\u001b[1;33m.\u001b[0m\u001b[0m__getitem__\u001b[0m\u001b[1;33m(\u001b[0m\u001b[0mmulti_index\u001b[0m\u001b[1;33m)\u001b[0m\u001b[1;33m\u001b[0m\u001b[1;33m\u001b[0m\u001b[0m\n\u001b[0;32m    445\u001b[0m \u001b[1;33m\u001b[0m\u001b[0m\n",
      "\u001b[1;32mc:\\users\\sujoj\\github\\scqubits\\scqubits\\core\\namedslots_array.py\u001b[0m in \u001b[0;36mconvert_to_std_npindex\u001b[1;34m(index_tuple, parameters)\u001b[0m\n\u001b[0;32m     67\u001b[0m     \u001b[0mindex_tuple\u001b[0m\u001b[1;33m:\u001b[0m \u001b[0mGIndexTuple\u001b[0m\u001b[1;33m,\u001b[0m \u001b[0mparameters\u001b[0m\u001b[1;33m:\u001b[0m \u001b[1;34m\"Parameters\"\u001b[0m\u001b[1;33m\u001b[0m\u001b[1;33m\u001b[0m\u001b[0m\n\u001b[0;32m     68\u001b[0m ) -> NpIndexTuple:\n\u001b[1;32m---> 69\u001b[1;33m     gidx_obj_tuple = tuple(\n\u001b[0m\u001b[0;32m     70\u001b[0m         \u001b[0mGIndexObject\u001b[0m\u001b[1;33m(\u001b[0m\u001b[0mentry\u001b[0m\u001b[1;33m,\u001b[0m \u001b[0mparameters\u001b[0m\u001b[1;33m,\u001b[0m \u001b[0mslot\u001b[0m\u001b[1;33m=\u001b[0m\u001b[0mslot_index\u001b[0m\u001b[1;33m)\u001b[0m\u001b[1;33m\u001b[0m\u001b[1;33m\u001b[0m\u001b[0m\n\u001b[0;32m     71\u001b[0m         \u001b[1;32mfor\u001b[0m \u001b[0mslot_index\u001b[0m\u001b[1;33m,\u001b[0m \u001b[0mentry\u001b[0m \u001b[1;32min\u001b[0m \u001b[0menumerate\u001b[0m\u001b[1;33m(\u001b[0m\u001b[0mindex_tuple\u001b[0m\u001b[1;33m)\u001b[0m\u001b[1;33m\u001b[0m\u001b[1;33m\u001b[0m\u001b[0m\n",
      "\u001b[1;32mc:\\users\\sujoj\\github\\scqubits\\scqubits\\core\\namedslots_array.py\u001b[0m in \u001b[0;36m<genexpr>\u001b[1;34m(.0)\u001b[0m\n\u001b[0;32m     68\u001b[0m ) -> NpIndexTuple:\n\u001b[0;32m     69\u001b[0m     gidx_obj_tuple = tuple(\n\u001b[1;32m---> 70\u001b[1;33m         \u001b[0mGIndexObject\u001b[0m\u001b[1;33m(\u001b[0m\u001b[0mentry\u001b[0m\u001b[1;33m,\u001b[0m \u001b[0mparameters\u001b[0m\u001b[1;33m,\u001b[0m \u001b[0mslot\u001b[0m\u001b[1;33m=\u001b[0m\u001b[0mslot_index\u001b[0m\u001b[1;33m)\u001b[0m\u001b[1;33m\u001b[0m\u001b[1;33m\u001b[0m\u001b[0m\n\u001b[0m\u001b[0;32m     71\u001b[0m         \u001b[1;32mfor\u001b[0m \u001b[0mslot_index\u001b[0m\u001b[1;33m,\u001b[0m \u001b[0mentry\u001b[0m \u001b[1;32min\u001b[0m \u001b[0menumerate\u001b[0m\u001b[1;33m(\u001b[0m\u001b[0mindex_tuple\u001b[0m\u001b[1;33m)\u001b[0m\u001b[1;33m\u001b[0m\u001b[1;33m\u001b[0m\u001b[0m\n\u001b[0;32m     72\u001b[0m     )\n",
      "\u001b[1;32mc:\\users\\sujoj\\github\\scqubits\\scqubits\\core\\namedslots_array.py\u001b[0m in \u001b[0;36m__init__\u001b[1;34m(self, idx_entry, parameters, slot)\u001b[0m\n\u001b[0;32m     86\u001b[0m         \u001b[0mself\u001b[0m\u001b[1;33m.\u001b[0m\u001b[0mslot\u001b[0m \u001b[1;33m=\u001b[0m \u001b[0mslot\u001b[0m\u001b[1;33m\u001b[0m\u001b[1;33m\u001b[0m\u001b[0m\n\u001b[0;32m     87\u001b[0m         \u001b[0mself\u001b[0m\u001b[1;33m.\u001b[0m\u001b[0mname\u001b[0m \u001b[1;33m=\u001b[0m \u001b[1;32mNone\u001b[0m\u001b[1;33m\u001b[0m\u001b[1;33m\u001b[0m\u001b[0m\n\u001b[1;32m---> 88\u001b[1;33m         \u001b[0mself\u001b[0m\u001b[1;33m.\u001b[0m\u001b[0mtype\u001b[0m\u001b[1;33m,\u001b[0m \u001b[0mself\u001b[0m\u001b[1;33m.\u001b[0m\u001b[0mstd_idx_entry\u001b[0m \u001b[1;33m=\u001b[0m \u001b[0mself\u001b[0m\u001b[1;33m.\u001b[0m\u001b[0mconvert_to_np_idx_entry\u001b[0m\u001b[1;33m(\u001b[0m\u001b[0midx_entry\u001b[0m\u001b[1;33m)\u001b[0m\u001b[1;33m\u001b[0m\u001b[1;33m\u001b[0m\u001b[0m\n\u001b[0m\u001b[0;32m     89\u001b[0m \u001b[1;33m\u001b[0m\u001b[0m\n\u001b[0;32m     90\u001b[0m     \u001b[1;32mdef\u001b[0m \u001b[0mconvert_to_np_slice_entry\u001b[0m\u001b[1;33m(\u001b[0m\u001b[0mself\u001b[0m\u001b[1;33m,\u001b[0m \u001b[0mslice_entry\u001b[0m\u001b[1;33m:\u001b[0m \u001b[0mGSliceEntry\u001b[0m\u001b[1;33m)\u001b[0m \u001b[1;33m->\u001b[0m \u001b[0mNpSliceEntry\u001b[0m\u001b[1;33m:\u001b[0m\u001b[1;33m\u001b[0m\u001b[1;33m\u001b[0m\u001b[0m\n",
      "\u001b[1;32mc:\\users\\sujoj\\github\\scqubits\\scqubits\\core\\namedslots_array.py\u001b[0m in \u001b[0;36mconvert_to_np_idx_entry\u001b[1;34m(self, idx_entry)\u001b[0m\n\u001b[0;32m    146\u001b[0m             \u001b[1;32mreturn\u001b[0m \u001b[1;34m\"slice\"\u001b[0m\u001b[1;33m,\u001b[0m \u001b[0mslice\u001b[0m\u001b[1;33m(\u001b[0m\u001b[0mstart\u001b[0m\u001b[1;33m,\u001b[0m \u001b[0mstop\u001b[0m\u001b[1;33m,\u001b[0m \u001b[0mstep\u001b[0m\u001b[1;33m)\u001b[0m\u001b[1;33m\u001b[0m\u001b[1;33m\u001b[0m\u001b[0m\n\u001b[0;32m    147\u001b[0m \u001b[1;33m\u001b[0m\u001b[0m\n\u001b[1;32m--> 148\u001b[1;33m         \u001b[1;32mraise\u001b[0m \u001b[0mTypeError\u001b[0m\u001b[1;33m(\u001b[0m\u001b[1;34m\"Invalid index: {}\"\u001b[0m\u001b[1;33m.\u001b[0m\u001b[0mformat\u001b[0m\u001b[1;33m(\u001b[0m\u001b[0midx_entry\u001b[0m\u001b[1;33m)\u001b[0m\u001b[1;33m)\u001b[0m\u001b[1;33m\u001b[0m\u001b[1;33m\u001b[0m\u001b[0m\n\u001b[0m\u001b[0;32m    149\u001b[0m \u001b[1;33m\u001b[0m\u001b[0m\n\u001b[0;32m    150\u001b[0m \u001b[1;33m\u001b[0m\u001b[0m\n",
      "\u001b[1;31mTypeError\u001b[0m: Invalid index: <Parameter 'e', value=5.0, bounds=[0:10], brute_step=0.1>"
     ]
    }
   ],
   "source": [
    "def jc_resid(pars, data=None):\n",
    "    e = pars['e']\n",
    "    print(type(e))\n",
    "\n",
    "    model = sweep[\"evals\"][e, :]\n",
    "    if data is None:\n",
    "        return model\n",
    "    #return model - data\n",
    "    resid = model - data\n",
    "    return resid.flatten()\n",
    "\n",
    "params = Parameters()\n",
    "params.add('e', value=5.0, min = 0, max = 10, brute_step = 0.1)\n",
    "\n",
    "e = 8.1\n",
    "y = sweep[\"evals\"][e, :]\n",
    "data = y + 0.25*np.random.normal(size=y.shape)\n",
    "\n",
    "min1 = Minimizer(jc_resid, params, fcn_args=(), fcn_kws={'data': data})\n",
    "out1 = min1.least_squares()\n",
    "fit1 = jc_resid(out1.params)\n",
    "report_fit(out1.params)\n",
    "\n",
    "out2 = minimize(jc_resid, params, args=(data))\n",
    "fit2 = jc_resid(out2.params)\n",
    "report_fit(out2.params)"
   ]
  },
  {
   "cell_type": "code",
   "execution_count": null,
   "id": "0afbc919",
   "metadata": {},
   "outputs": [],
   "source": []
  }
 ],
 "metadata": {
  "kernelspec": {
   "display_name": "Python 3",
   "language": "python",
   "name": "python3"
  },
  "language_info": {
   "codemirror_mode": {
    "name": "ipython",
    "version": 3
   },
   "file_extension": ".py",
   "mimetype": "text/x-python",
   "name": "python",
   "nbconvert_exporter": "python",
   "pygments_lexer": "ipython3",
   "version": "3.8.10"
  }
 },
 "nbformat": 4,
 "nbformat_minor": 5
}
