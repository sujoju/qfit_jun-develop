{
 "cells": [
  {
   "cell_type": "code",
   "execution_count": 1,
   "id": "c4858a16",
   "metadata": {},
   "outputs": [],
   "source": [
    "%matplotlib inline"
   ]
  },
  {
   "cell_type": "code",
   "execution_count": 3,
   "id": "9672b391",
   "metadata": {},
   "outputs": [],
   "source": [
    "import matplotlib.pyplot as plt\n",
    "import numpy as np\n",
    "\n",
    "#from lmfit import Parameters, Minimizer, minimize, report_fit\n",
    "\n",
    "import scqubits as scq"
   ]
  },
  {
   "cell_type": "code",
   "execution_count": 5,
   "id": "311a7fcb",
   "metadata": {},
   "outputs": [
    {
     "data": {
      "application/vnd.jupyter.widget-view+json": {
       "model_id": "09d828cc834d40838227b21cdb854eb8",
       "version_major": 2,
       "version_minor": 0
      },
      "text/plain": [
       "VBox(children=(HBox(children=(VBox(children=(HBox(children=(Label(value='Select subsystems (Ctrl-Click)'), But…"
      ]
     },
     "metadata": {},
     "output_type": "display_data"
    },
    {
     "data": {
      "application/vnd.jupyter.widget-view+json": {
       "model_id": "9365d138e4b04a0386b0225832ff50bf",
       "version_major": 2,
       "version_minor": 0
      },
      "text/plain": [
       "Output()"
      ]
     },
     "metadata": {},
     "output_type": "display_data"
    }
   ],
   "source": [
    "osc = scq.Oscillator(E_osc = 4)\n",
    "gq = scq.GenericQubit(E = 30)\n",
    "\n",
    "g = 0.1\n",
    "hilbertspace = scq.HilbertSpace.create()"
   ]
  },
  {
   "cell_type": "code",
   "execution_count": 12,
   "id": "dbc59bc3",
   "metadata": {},
   "outputs": [
    {
     "name": "stdout",
     "output_type": "stream",
     "text": [
      "HilbertSpace:  subsystems\n",
      "-------------------------\n",
      "\n",
      "Oscillator----------|\n",
      "                    | E_osc: 4\n",
      "                    | l_osc: None\n",
      "                    | truncated_dim: 6\n",
      "                    |\n",
      "                    | dim: 6\n",
      "\n",
      "\n",
      "GenericQubit--------|\n",
      "                    | E: 30\n",
      "                    |\n",
      "                    | dim: 2\n",
      "\n",
      "\n",
      "\n",
      "HilbertSpace:  interaction terms\n",
      "--------------------------------\n",
      "\n",
      "InteractionTerm----------|\n",
      "                         | g_strength: 0.1\n",
      "                         | operator_list: [(0, array([[0.        , 1.        , 0.        , 0 ...\n",
      "                         | add_hc: True\n",
      "\n",
      "\n"
     ]
    }
   ],
   "source": [
    "print(hilbertspace)"
   ]
  },
  {
   "cell_type": "code",
   "execution_count": 13,
   "id": "87767799",
   "metadata": {},
   "outputs": [
    {
     "data": {
      "text/latex": [
       "Quantum object: dims = [[6, 2], [6, 2]], shape = (12, 12), type = oper, isherm = True\\begin{equation*}\\left(\\begin{array}{*{11}c}-15.0 & 0.0 & 0.0 & 0.0 & 0.0 & \\cdots & 0.0 & 0.0 & 0.0 & 0.0 & 0.0\\\\0.0 & 15.0 & 0.100 & 0.0 & 0.0 & \\cdots & 0.0 & 0.0 & 0.0 & 0.0 & 0.0\\\\0.0 & 0.100 & -11.0 & 0.0 & 0.0 & \\cdots & 0.0 & 0.0 & 0.0 & 0.0 & 0.0\\\\0.0 & 0.0 & 0.0 & 19.0 & 0.141 & \\cdots & 0.0 & 0.0 & 0.0 & 0.0 & 0.0\\\\0.0 & 0.0 & 0.0 & 0.141 & -7.0 & \\cdots & 0.0 & 0.0 & 0.0 & 0.0 & 0.0\\\\\\vdots & \\vdots & \\vdots & \\vdots & \\vdots & \\ddots & \\vdots & \\vdots & \\vdots & \\vdots & \\vdots\\\\0.0 & 0.0 & 0.0 & 0.0 & 0.0 & \\cdots & 27.0 & 0.200 & 0.0 & 0.0 & 0.0\\\\0.0 & 0.0 & 0.0 & 0.0 & 0.0 & \\cdots & 0.200 & 1.0 & 0.0 & 0.0 & 0.0\\\\0.0 & 0.0 & 0.0 & 0.0 & 0.0 & \\cdots & 0.0 & 0.0 & 31.0 & 0.224 & 0.0\\\\0.0 & 0.0 & 0.0 & 0.0 & 0.0 & \\cdots & 0.0 & 0.0 & 0.224 & 5.0 & 0.0\\\\0.0 & 0.0 & 0.0 & 0.0 & 0.0 & \\cdots & 0.0 & 0.0 & 0.0 & 0.0 & 35.0\\\\\\end{array}\\right)\\end{equation*}"
      ],
      "text/plain": [
       "Quantum object: dims = [[6, 2], [6, 2]], shape = (12, 12), type = oper, isherm = True\n",
       "Qobj data =\n",
       "[[-15.           0.           0.           0.           0.\n",
       "    0.           0.           0.           0.           0.\n",
       "    0.           0.        ]\n",
       " [  0.          15.           0.1          0.           0.\n",
       "    0.           0.           0.           0.           0.\n",
       "    0.           0.        ]\n",
       " [  0.           0.1        -11.           0.           0.\n",
       "    0.           0.           0.           0.           0.\n",
       "    0.           0.        ]\n",
       " [  0.           0.           0.          19.           0.14142136\n",
       "    0.           0.           0.           0.           0.\n",
       "    0.           0.        ]\n",
       " [  0.           0.           0.           0.14142136  -7.\n",
       "    0.           0.           0.           0.           0.\n",
       "    0.           0.        ]\n",
       " [  0.           0.           0.           0.           0.\n",
       "   23.           0.17320508   0.           0.           0.\n",
       "    0.           0.        ]\n",
       " [  0.           0.           0.           0.           0.\n",
       "    0.17320508  -3.           0.           0.           0.\n",
       "    0.           0.        ]\n",
       " [  0.           0.           0.           0.           0.\n",
       "    0.           0.          27.           0.2          0.\n",
       "    0.           0.        ]\n",
       " [  0.           0.           0.           0.           0.\n",
       "    0.           0.           0.2          1.           0.\n",
       "    0.           0.        ]\n",
       " [  0.           0.           0.           0.           0.\n",
       "    0.           0.           0.           0.          31.\n",
       "    0.2236068    0.        ]\n",
       " [  0.           0.           0.           0.           0.\n",
       "    0.           0.           0.           0.           0.2236068\n",
       "    5.           0.        ]\n",
       " [  0.           0.           0.           0.           0.\n",
       "    0.           0.           0.           0.           0.\n",
       "    0.          35.        ]]"
      ]
     },
     "execution_count": 13,
     "metadata": {},
     "output_type": "execute_result"
    }
   ],
   "source": [
    "dressed_hamiltonian = hilbertspace.hamiltonian()\n",
    "dressed_hamiltonian"
   ]
  },
  {
   "cell_type": "code",
   "execution_count": 14,
   "id": "f3d008ab",
   "metadata": {},
   "outputs": [
    {
     "name": "stdout",
     "output_type": "stream",
     "text": [
      "[-15.         -11.00038461  -7.00076921  -3.00115379   0.99846163\n",
      "   4.99807707  15.00038461  19.00076921  23.00115379  27.00153837\n",
      "  31.00192293  35.        ] [Quantum object: dims = [[6, 2], [1, 1]], shape = (12, 1), type = ket\n",
      "Qobj data =\n",
      "[[1.]\n",
      " [0.]\n",
      " [0.]\n",
      " [0.]\n",
      " [0.]\n",
      " [0.]\n",
      " [0.]\n",
      " [0.]\n",
      " [0.]\n",
      " [0.]\n",
      " [0.]\n",
      " [0.]]\n",
      " Quantum object: dims = [[6, 2], [1, 1]], shape = (12, 1), type = ket\n",
      "Qobj data =\n",
      "[[ 0.        ]\n",
      " [-0.00384607]\n",
      " [ 0.9999926 ]\n",
      " [ 0.        ]\n",
      " [ 0.        ]\n",
      " [ 0.        ]\n",
      " [ 0.        ]\n",
      " [ 0.        ]\n",
      " [ 0.        ]\n",
      " [ 0.        ]\n",
      " [ 0.        ]\n",
      " [ 0.        ]]\n",
      " Quantum object: dims = [[6, 2], [1, 1]], shape = (12, 1), type = ket\n",
      "Qobj data =\n",
      "[[ 0.        ]\n",
      " [ 0.        ]\n",
      " [ 0.        ]\n",
      " [-0.00543904]\n",
      " [ 0.99998521]\n",
      " [ 0.        ]\n",
      " [ 0.        ]\n",
      " [ 0.        ]\n",
      " [ 0.        ]\n",
      " [ 0.        ]\n",
      " [ 0.        ]\n",
      " [ 0.        ]]\n",
      " Quantum object: dims = [[6, 2], [1, 1]], shape = (12, 1), type = ket\n",
      "Qobj data =\n",
      "[[ 0.        ]\n",
      " [ 0.        ]\n",
      " [ 0.        ]\n",
      " [ 0.        ]\n",
      " [ 0.        ]\n",
      " [-0.00666129]\n",
      " [ 0.99997781]\n",
      " [ 0.        ]\n",
      " [ 0.        ]\n",
      " [ 0.        ]\n",
      " [ 0.        ]\n",
      " [ 0.        ]]\n",
      " Quantum object: dims = [[6, 2], [1, 1]], shape = (12, 1), type = ket\n",
      "Qobj data =\n",
      "[[ 0.        ]\n",
      " [ 0.        ]\n",
      " [ 0.        ]\n",
      " [ 0.        ]\n",
      " [ 0.        ]\n",
      " [ 0.        ]\n",
      " [ 0.        ]\n",
      " [-0.00769163]\n",
      " [ 0.99997042]\n",
      " [ 0.        ]\n",
      " [ 0.        ]\n",
      " [ 0.        ]]\n",
      " Quantum object: dims = [[6, 2], [1, 1]], shape = (12, 1), type = ket\n",
      "Qobj data =\n",
      "[[ 0.        ]\n",
      " [ 0.        ]\n",
      " [ 0.        ]\n",
      " [ 0.        ]\n",
      " [ 0.        ]\n",
      " [ 0.        ]\n",
      " [ 0.        ]\n",
      " [ 0.        ]\n",
      " [ 0.        ]\n",
      " [-0.00859931]\n",
      " [ 0.99996303]\n",
      " [ 0.        ]]\n",
      " Quantum object: dims = [[6, 2], [1, 1]], shape = (12, 1), type = ket\n",
      "Qobj data =\n",
      "[[0.        ]\n",
      " [0.9999926 ]\n",
      " [0.00384607]\n",
      " [0.        ]\n",
      " [0.        ]\n",
      " [0.        ]\n",
      " [0.        ]\n",
      " [0.        ]\n",
      " [0.        ]\n",
      " [0.        ]\n",
      " [0.        ]\n",
      " [0.        ]]\n",
      " Quantum object: dims = [[6, 2], [1, 1]], shape = (12, 1), type = ket\n",
      "Qobj data =\n",
      "[[0.        ]\n",
      " [0.        ]\n",
      " [0.        ]\n",
      " [0.99998521]\n",
      " [0.00543904]\n",
      " [0.        ]\n",
      " [0.        ]\n",
      " [0.        ]\n",
      " [0.        ]\n",
      " [0.        ]\n",
      " [0.        ]\n",
      " [0.        ]]\n",
      " Quantum object: dims = [[6, 2], [1, 1]], shape = (12, 1), type = ket\n",
      "Qobj data =\n",
      "[[0.        ]\n",
      " [0.        ]\n",
      " [0.        ]\n",
      " [0.        ]\n",
      " [0.        ]\n",
      " [0.99997781]\n",
      " [0.00666129]\n",
      " [0.        ]\n",
      " [0.        ]\n",
      " [0.        ]\n",
      " [0.        ]\n",
      " [0.        ]]\n",
      " Quantum object: dims = [[6, 2], [1, 1]], shape = (12, 1), type = ket\n",
      "Qobj data =\n",
      "[[0.        ]\n",
      " [0.        ]\n",
      " [0.        ]\n",
      " [0.        ]\n",
      " [0.        ]\n",
      " [0.        ]\n",
      " [0.        ]\n",
      " [0.99997042]\n",
      " [0.00769163]\n",
      " [0.        ]\n",
      " [0.        ]\n",
      " [0.        ]]\n",
      " Quantum object: dims = [[6, 2], [1, 1]], shape = (12, 1), type = ket\n",
      "Qobj data =\n",
      "[[0.        ]\n",
      " [0.        ]\n",
      " [0.        ]\n",
      " [0.        ]\n",
      " [0.        ]\n",
      " [0.        ]\n",
      " [0.        ]\n",
      " [0.        ]\n",
      " [0.        ]\n",
      " [0.99996303]\n",
      " [0.00859931]\n",
      " [0.        ]]\n",
      " Quantum object: dims = [[6, 2], [1, 1]], shape = (12, 1), type = ket\n",
      "Qobj data =\n",
      "[[0.]\n",
      " [0.]\n",
      " [0.]\n",
      " [0.]\n",
      " [0.]\n",
      " [0.]\n",
      " [0.]\n",
      " [0.]\n",
      " [0.]\n",
      " [0.]\n",
      " [0.]\n",
      " [1.]]]\n"
     ]
    }
   ],
   "source": [
    "evals, evecs = hilbertspace.eigensys(evals_count=12)\n",
    "print(evals, evecs)"
   ]
  },
  {
   "cell_type": "code",
   "execution_count": null,
   "id": "ed25f1bb",
   "metadata": {},
   "outputs": [],
   "source": []
  }
 ],
 "metadata": {
  "interpreter": {
   "hash": "857b2b6bdbee2871d3f2bcf74449968dd9eaf2d85fcef563fc51e4452a59bad9"
  },
  "kernelspec": {
   "display_name": "Python 3",
   "language": "python",
   "name": "python3"
  },
  "language_info": {
   "codemirror_mode": {
    "name": "ipython",
    "version": 3
   },
   "file_extension": ".py",
   "mimetype": "text/x-python",
   "name": "python",
   "nbconvert_exporter": "python",
   "pygments_lexer": "ipython3",
   "version": "3.8.10"
  }
 },
 "nbformat": 4,
 "nbformat_minor": 5
}
