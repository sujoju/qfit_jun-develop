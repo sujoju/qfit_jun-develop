{
 "cells": [
  {
   "cell_type": "code",
   "execution_count": 1,
   "id": "30ee216c",
   "metadata": {},
   "outputs": [],
   "source": [
    "%matplotlib inline"
   ]
  },
  {
   "cell_type": "code",
   "execution_count": 2,
   "id": "fb86b3b6",
   "metadata": {},
   "outputs": [],
   "source": [
    "import matplotlib.pyplot as plt\n",
    "import numpy as np\n",
    "\n",
    "from lmfit import Parameters, Minimizer, minimize, report_fit\n",
    "\n",
    "import scqubits as scq"
   ]
  },
  {
   "cell_type": "code",
   "execution_count": 13,
   "id": "8595b825",
   "metadata": {},
   "outputs": [
    {
     "name": "stdout",
     "output_type": "stream",
     "text": [
      "[[Variables]]\n",
      "    ec:  1.28027870 +/- 0.00213881 (0.17%) (init = 5)\n",
      "    ng:  0.49020344 +/- 8.6069e-04 (0.18%) (init = 0.1)\n",
      "[[Correlations]] (unreported correlations are < 0.100)\n",
      "    C(ec, ng) = -0.400\n",
      "[[Variables]]\n",
      "    ec:  1.28027873 +/- 0.00213882 (0.17%) (init = 5)\n",
      "    ng:  0.49020341 +/- 8.6069e-04 (0.18%) (init = 0.1)\n",
      "[[Correlations]] (unreported correlations are < 0.100)\n",
      "    C(ec, ng) = -0.400\n"
     ]
    }
   ],
   "source": [
    "def create_model_data(qb, transition_list):\n",
    "    specdata = qb.get_spectrum_vs_paramvals('EJ',\n",
    "                                            x,\n",
    "                                            evals_count = 6,\n",
    "                                            subtract_ground = True)\n",
    "    model = np.array([])\n",
    "    for transition in transition_list:\n",
    "        i = transition[0]\n",
    "        f = transition[1]\n",
    "        initial_state = specdata.energy_table[:,i]\n",
    "        final_state = specdata.energy_table[:,f]\n",
    "        energy_diff = final_state - initial_state\n",
    "        model = np.append(model, energy_diff)\n",
    "    return model\n",
    "\n",
    "def tmon_resid(pars, x, transition_list, data=None):\n",
    "    ec, ng = pars['ec'], pars['ng']\n",
    "    transmon = scq.Transmon(EJ = 30.02,\n",
    "                            EC = ec,\n",
    "                            ng = ng,\n",
    "                            ncut = 31)\n",
    "    model = create_model_data(transmon, transition_list)\n",
    "    if data is None:\n",
    "        return model\n",
    "    resid = model - data\n",
    "    return resid\n",
    "\n",
    "\n",
    "def tmon(var, x, transition_list):\n",
    "    transmon = scq.Transmon(EJ = 30.02,\n",
    "                            EC = var[0],\n",
    "                            ng = var[1],\n",
    "                            ncut = 31)\n",
    "    model = create_model_data(transmon, transition_list)\n",
    "    return model\n",
    "\n",
    "\n",
    "params = Parameters()\n",
    "params.add('ec', value=5, min = 0)\n",
    "params.add('ng', value=0.1, min = 0, max = 1)\n",
    "\n",
    "transitions = [(0,1),(1,2),(2,3),(3,4),(4,5)]\n",
    "ec, ng = 1.28,0.49\n",
    "x = np.linspace(0, 50, 50)\n",
    "y = tmon([ec, ng], x, transitions)\n",
    "data = y + 0.25*np.random.normal(size=y.shape)\n",
    "\n",
    "min1 = Minimizer(tmon_resid, params, fcn_args=(x, transitions,), fcn_kws={'data': data})\n",
    "out1 = min1.least_squares()\n",
    "fit1 = tmon_resid(out1.params, x, transitions)\n",
    "report_fit(out1.params)\n",
    "\n",
    "out2 = minimize(tmon_resid, params, args=(x, transitions, data))\n",
    "fit2 = tmon_resid(out2.params, x, transitions)\n",
    "report_fit(out2.params)"
   ]
  },
  {
   "cell_type": "code",
   "execution_count": 14,
   "id": "46a20650",
   "metadata": {},
   "outputs": [
    {
     "name": "stdout",
     "output_type": "stream",
     "text": [
      "\n",
      "\"true\" parameters are: EC = 1.280, ng = 0.490\n",
      "\n",
      "==================================\n",
      "Statistic/Parameter|   Without   |\n",
      "----------------------------------\n",
      "N Function Calls   |    10       |\n",
      "Chi-square         |   12.3583   |\n",
      "   EC              |   1.2803    |\n",
      "   ng              |   0.4902    |\n",
      "--------------------------------\n",
      "\n"
     ]
    }
   ],
   "source": [
    "print('''\n",
    "\"true\" parameters are: EC = %.3f, ng = %.3f\n",
    "\n",
    "==================================\n",
    "Statistic/Parameter|   Without   |\n",
    "----------------------------------\n",
    "N Function Calls   |   %3i       |\n",
    "Chi-square         |   %.4f   |\n",
    "   EC              |   %.4f    |\n",
    "   ng              |   %.4f    |\n",
    "--------------------------------\n",
    "''' % (ec, ng,\n",
    "       out1.nfev,\n",
    "       out1.chisqr,\n",
    "       out1.params['ec'],\n",
    "       out1.params['ng'], ))"
   ]
  },
  {
   "cell_type": "code",
   "execution_count": 15,
   "id": "f4518472",
   "metadata": {},
   "outputs": [],
   "source": [
    "a = np.reshape(data, (50,5), 'F')\n",
    "b = np.reshape(fit1, (50,5), 'F')\n",
    "c = np.reshape(fit2, (50,5), 'F')"
   ]
  },
  {
   "cell_type": "code",
   "execution_count": 17,
   "id": "ed467588",
   "metadata": {},
   "outputs": [
    {
     "data": {
      "image/png": "[encoded data removed]",
      "text/plain": [
       "<Figure size 432x288 with 1 Axes>"
      ]
     },
     "metadata": {
      "needs_background": "light"
     },
     "output_type": "display_data"
    }
   ],
   "source": [
    "plt.plot(x, a, 'ro')\n",
    "plt.plot(x, b, 'b')\n",
    "plt.plot(x, c, 'y')\n",
    "plt.show()"
   ]
  },
  {
   "cell_type": "code",
   "execution_count": 8,
   "id": "35bb6f19",
   "metadata": {},
   "outputs": [
    {
     "data": {
      "application/vnd.jupyter.widget-view+json": {
       "model_id": "a0f4c564f2974caa9a2dfb88e8d5f067",
       "version_major": 2,
       "version_minor": 0
      },
      "text/plain": [
       "VBox(children=(HBox(children=(ToggleButtons(description='Qubits:', layout=Layout(width='800px'), options=('Tra…"
      ]
     },
     "metadata": {},
     "output_type": "display_data"
    },
    {
     "data": {
      "application/vnd.jupyter.widget-view+json": {
       "model_id": "20d2e5ea77ef406d9740205600594d19",
       "version_major": 2,
       "version_minor": 0
      },
      "text/plain": [
       "Output(layout=Layout(width='975px'))"
      ]
     },
     "metadata": {},
     "output_type": "display_data"
    },
    {
     "data": {
      "text/plain": []
     },
     "execution_count": 8,
     "metadata": {},
     "output_type": "execute_result"
    }
   ],
   "source": [
    "scq.GUI()"
   ]
  },
  {
   "cell_type": "code",
   "execution_count": null,
   "id": "5dd89fd7",
   "metadata": {},
   "outputs": [],
   "source": []
  }
 ],
 "metadata": {
  "kernelspec": {
   "display_name": "Python 3",
   "language": "python",
   "name": "python3"
  },
  "language_info": {
   "codemirror_mode": {
    "name": "ipython",
    "version": 3
   },
   "file_extension": ".py",
   "mimetype": "text/x-python",
   "name": "python",
   "nbconvert_exporter": "python",
   "pygments_lexer": "ipython3",
   "version": "3.8.10"
  }
 },
 "nbformat": 4,
 "nbformat_minor": 5
}
