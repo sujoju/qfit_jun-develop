{
 "cells": [
  {
   "cell_type": "code",
   "execution_count": 11,
   "id": "c4858a16",
   "metadata": {},
   "outputs": [],
   "source": [
    "%matplotlib inline"
   ]
  },
  {
   "cell_type": "code",
   "execution_count": 12,
   "id": "9672b391",
   "metadata": {},
   "outputs": [],
   "source": [
    "import matplotlib.pyplot as plt\n",
    "import numpy as np\n",
    "\n",
    "#from lmfit import Parameters, Minimizer, minimize, report_fit\n",
    "\n",
    "import scqubits as scq"
   ]
  },
  {
   "cell_type": "code",
   "execution_count": 25,
   "id": "311a7fcb",
   "metadata": {},
   "outputs": [],
   "source": [
    "osc = scq.Oscillator(E_osc = 1)\n",
    "gq = scq.GenericQubit(E = 1)\n",
    "\n",
    "g = 0.1\n",
    "hilbertspace = scq.HilbertSpace([gq, osc])\n",
    "\n",
    "hilbertspace.add_interaction(\n",
    "    g_strength = g,\n",
    "    op1 = osc.annihilation_operator,\n",
    "    op2 = gq.sp_operator,\n",
    "    add_hc = True\n",
    ")"
   ]
  },
  {
   "cell_type": "code",
   "execution_count": 26,
   "id": "dbc59bc3",
   "metadata": {},
   "outputs": [
    {
     "name": "stdout",
     "output_type": "stream",
     "text": [
      "HilbertSpace:  subsystems\n",
      "-------------------------\n",
      "\n",
      "GenericQubit--------|\n",
      "                    | E: 1\n",
      "                    |\n",
      "                    | dim: 2\n",
      "\n",
      "\n",
      "Oscillator----------|\n",
      "                    | E_osc: 1\n",
      "                    | l_osc: None\n",
      "                    | truncated_dim: 6\n",
      "                    |\n",
      "                    | dim: 6\n",
      "\n",
      "\n",
      "\n",
      "HilbertSpace:  interaction terms\n",
      "--------------------------------\n",
      "\n",
      "InteractionTerm----------|\n",
      "                         | g_strength: 0.1\n",
      "                         | operator_list: [(1, array([[0.        , 1.        , 0.        , 0 ...\n",
      "                         | add_hc: True\n",
      "\n",
      "\n"
     ]
    }
   ],
   "source": [
    "print(hilbertspace)"
   ]
  },
  {
   "cell_type": "code",
   "execution_count": 27,
   "id": "87767799",
   "metadata": {},
   "outputs": [
    {
     "data": {
      "text/latex": [
       "Quantum object: dims = [[2, 6], [2, 6]], shape = (12, 12), type = oper, isherm = True\\begin{equation*}\\left(\\begin{array}{*{11}c}-0.500 & 0.0 & 0.0 & 0.0 & 0.0 & \\cdots & 0.0 & 0.0 & 0.0 & 0.0 & 0.0\\\\0.0 & 0.500 & 0.0 & 0.0 & 0.0 & \\cdots & 0.0 & 0.0 & 0.0 & 0.0 & 0.0\\\\0.0 & 0.0 & 1.500 & 0.0 & 0.0 & \\cdots & 0.141 & 0.0 & 0.0 & 0.0 & 0.0\\\\0.0 & 0.0 & 0.0 & 2.500 & 0.0 & \\cdots & 0.0 & 0.173 & 0.0 & 0.0 & 0.0\\\\0.0 & 0.0 & 0.0 & 0.0 & 3.500 & \\cdots & 0.0 & 0.0 & 0.200 & 0.0 & 0.0\\\\\\vdots & \\vdots & \\vdots & \\vdots & \\vdots & \\ddots & \\vdots & \\vdots & \\vdots & \\vdots & \\vdots\\\\0.0 & 0.0 & 0.141 & 0.0 & 0.0 & \\cdots & 1.500 & 0.0 & 0.0 & 0.0 & 0.0\\\\0.0 & 0.0 & 0.0 & 0.173 & 0.0 & \\cdots & 0.0 & 2.500 & 0.0 & 0.0 & 0.0\\\\0.0 & 0.0 & 0.0 & 0.0 & 0.200 & \\cdots & 0.0 & 0.0 & 3.500 & 0.0 & 0.0\\\\0.0 & 0.0 & 0.0 & 0.0 & 0.0 & \\cdots & 0.0 & 0.0 & 0.0 & 4.500 & 0.0\\\\0.0 & 0.0 & 0.0 & 0.0 & 0.0 & \\cdots & 0.0 & 0.0 & 0.0 & 0.0 & 5.500\\\\\\end{array}\\right)\\end{equation*}"
      ],
      "text/plain": [
       "Quantum object: dims = [[2, 6], [2, 6]], shape = (12, 12), type = oper, isherm = True\n",
       "Qobj data =\n",
       "[[-0.5         0.          0.          0.          0.          0.\n",
       "   0.          0.          0.          0.          0.          0.        ]\n",
       " [ 0.          0.5         0.          0.          0.          0.\n",
       "   0.1         0.          0.          0.          0.          0.        ]\n",
       " [ 0.          0.          1.5         0.          0.          0.\n",
       "   0.          0.14142136  0.          0.          0.          0.        ]\n",
       " [ 0.          0.          0.          2.5         0.          0.\n",
       "   0.          0.          0.17320508  0.          0.          0.        ]\n",
       " [ 0.          0.          0.          0.          3.5         0.\n",
       "   0.          0.          0.          0.2         0.          0.        ]\n",
       " [ 0.          0.          0.          0.          0.          4.5\n",
       "   0.          0.          0.          0.          0.2236068   0.        ]\n",
       " [ 0.          0.1         0.          0.          0.          0.\n",
       "   0.5         0.          0.          0.          0.          0.        ]\n",
       " [ 0.          0.          0.14142136  0.          0.          0.\n",
       "   0.          1.5         0.          0.          0.          0.        ]\n",
       " [ 0.          0.          0.          0.17320508  0.          0.\n",
       "   0.          0.          2.5         0.          0.          0.        ]\n",
       " [ 0.          0.          0.          0.          0.2         0.\n",
       "   0.          0.          0.          3.5         0.          0.        ]\n",
       " [ 0.          0.          0.          0.          0.          0.2236068\n",
       "   0.          0.          0.          0.          4.5         0.        ]\n",
       " [ 0.          0.          0.          0.          0.          0.\n",
       "   0.          0.          0.          0.          0.          5.5       ]]"
      ]
     },
     "execution_count": 27,
     "metadata": {},
     "output_type": "execute_result"
    }
   ],
   "source": [
    "dressed_hamiltonian = hilbertspace.hamiltonian()\n",
    "dressed_hamiltonian"
   ]
  },
  {
   "cell_type": "code",
   "execution_count": 28,
   "id": "f3d008ab",
   "metadata": {},
   "outputs": [
    {
     "name": "stdout",
     "output_type": "stream",
     "text": [
      "[-0.5         0.4         0.6         1.35857864  1.64142136  2.32679492\n",
      "  2.67320508  3.3         3.7         4.2763932   4.7236068   5.5       ] [Quantum object: dims = [[2, 6], [1, 1]], shape = (12, 1), type = ket\n",
      "Qobj data =\n",
      "[[1.]\n",
      " [0.]\n",
      " [0.]\n",
      " [0.]\n",
      " [0.]\n",
      " [0.]\n",
      " [0.]\n",
      " [0.]\n",
      " [0.]\n",
      " [0.]\n",
      " [0.]\n",
      " [0.]]\n",
      " Quantum object: dims = [[2, 6], [1, 1]], shape = (12, 1), type = ket\n",
      "Qobj data =\n",
      "[[ 0.        ]\n",
      " [ 0.70710678]\n",
      " [ 0.        ]\n",
      " [ 0.        ]\n",
      " [ 0.        ]\n",
      " [ 0.        ]\n",
      " [-0.70710678]\n",
      " [ 0.        ]\n",
      " [ 0.        ]\n",
      " [ 0.        ]\n",
      " [ 0.        ]\n",
      " [ 0.        ]]\n",
      " Quantum object: dims = [[2, 6], [1, 1]], shape = (12, 1), type = ket\n",
      "Qobj data =\n",
      "[[ 0.        ]\n",
      " [-0.70710678]\n",
      " [ 0.        ]\n",
      " [ 0.        ]\n",
      " [ 0.        ]\n",
      " [ 0.        ]\n",
      " [-0.70710678]\n",
      " [ 0.        ]\n",
      " [ 0.        ]\n",
      " [ 0.        ]\n",
      " [ 0.        ]\n",
      " [ 0.        ]]\n",
      " Quantum object: dims = [[2, 6], [1, 1]], shape = (12, 1), type = ket\n",
      "Qobj data =\n",
      "[[ 0.        ]\n",
      " [ 0.        ]\n",
      " [-0.70710678]\n",
      " [ 0.        ]\n",
      " [ 0.        ]\n",
      " [ 0.        ]\n",
      " [ 0.        ]\n",
      " [ 0.70710678]\n",
      " [ 0.        ]\n",
      " [ 0.        ]\n",
      " [ 0.        ]\n",
      " [ 0.        ]]\n",
      " Quantum object: dims = [[2, 6], [1, 1]], shape = (12, 1), type = ket\n",
      "Qobj data =\n",
      "[[0.        ]\n",
      " [0.        ]\n",
      " [0.70710678]\n",
      " [0.        ]\n",
      " [0.        ]\n",
      " [0.        ]\n",
      " [0.        ]\n",
      " [0.70710678]\n",
      " [0.        ]\n",
      " [0.        ]\n",
      " [0.        ]\n",
      " [0.        ]]\n",
      " Quantum object: dims = [[2, 6], [1, 1]], shape = (12, 1), type = ket\n",
      "Qobj data =\n",
      "[[ 0.        ]\n",
      " [ 0.        ]\n",
      " [ 0.        ]\n",
      " [ 0.70710678]\n",
      " [ 0.        ]\n",
      " [ 0.        ]\n",
      " [ 0.        ]\n",
      " [ 0.        ]\n",
      " [-0.70710678]\n",
      " [ 0.        ]\n",
      " [ 0.        ]\n",
      " [ 0.        ]]\n",
      " Quantum object: dims = [[2, 6], [1, 1]], shape = (12, 1), type = ket\n",
      "Qobj data =\n",
      "[[0.        ]\n",
      " [0.        ]\n",
      " [0.        ]\n",
      " [0.70710678]\n",
      " [0.        ]\n",
      " [0.        ]\n",
      " [0.        ]\n",
      " [0.        ]\n",
      " [0.70710678]\n",
      " [0.        ]\n",
      " [0.        ]\n",
      " [0.        ]]\n",
      " Quantum object: dims = [[2, 6], [1, 1]], shape = (12, 1), type = ket\n",
      "Qobj data =\n",
      "[[ 0.        ]\n",
      " [ 0.        ]\n",
      " [ 0.        ]\n",
      " [ 0.        ]\n",
      " [-0.70710678]\n",
      " [ 0.        ]\n",
      " [ 0.        ]\n",
      " [ 0.        ]\n",
      " [ 0.        ]\n",
      " [ 0.70710678]\n",
      " [ 0.        ]\n",
      " [ 0.        ]]\n",
      " Quantum object: dims = [[2, 6], [1, 1]], shape = (12, 1), type = ket\n",
      "Qobj data =\n",
      "[[0.        ]\n",
      " [0.        ]\n",
      " [0.        ]\n",
      " [0.        ]\n",
      " [0.70710678]\n",
      " [0.        ]\n",
      " [0.        ]\n",
      " [0.        ]\n",
      " [0.        ]\n",
      " [0.70710678]\n",
      " [0.        ]\n",
      " [0.        ]]\n",
      " Quantum object: dims = [[2, 6], [1, 1]], shape = (12, 1), type = ket\n",
      "Qobj data =\n",
      "[[ 0.        ]\n",
      " [ 0.        ]\n",
      " [ 0.        ]\n",
      " [ 0.        ]\n",
      " [ 0.        ]\n",
      " [ 0.70710678]\n",
      " [ 0.        ]\n",
      " [ 0.        ]\n",
      " [ 0.        ]\n",
      " [ 0.        ]\n",
      " [-0.70710678]\n",
      " [ 0.        ]]\n",
      " Quantum object: dims = [[2, 6], [1, 1]], shape = (12, 1), type = ket\n",
      "Qobj data =\n",
      "[[0.        ]\n",
      " [0.        ]\n",
      " [0.        ]\n",
      " [0.        ]\n",
      " [0.        ]\n",
      " [0.70710678]\n",
      " [0.        ]\n",
      " [0.        ]\n",
      " [0.        ]\n",
      " [0.        ]\n",
      " [0.70710678]\n",
      " [0.        ]]\n",
      " Quantum object: dims = [[2, 6], [1, 1]], shape = (12, 1), type = ket\n",
      "Qobj data =\n",
      "[[0.]\n",
      " [0.]\n",
      " [0.]\n",
      " [0.]\n",
      " [0.]\n",
      " [0.]\n",
      " [0.]\n",
      " [0.]\n",
      " [0.]\n",
      " [0.]\n",
      " [0.]\n",
      " [1.]]]\n"
     ]
    }
   ],
   "source": [
    "evals, evecs = hilbertspace.eigensys(evals_count=12)\n",
    "print(evals, evecs)"
   ]
  },
  {
   "cell_type": "code",
   "execution_count": 29,
   "id": "ed25f1bb",
   "metadata": {},
   "outputs": [
    {
     "data": {
      "application/vnd.jupyter.widget-view+json": {
       "model_id": "",
       "version_major": 2,
       "version_minor": 0
      },
      "text/plain": [
       "Parallel compute bare eigensys [num_cpus=4]"
      ]
     },
     "metadata": {},
     "output_type": "display_data"
    },
    {
     "data": {
      "application/vnd.jupyter.widget-view+json": {
       "model_id": "",
       "version_major": 2,
       "version_minor": 0
      },
      "text/plain": [
       "Parallel compute bare eigensys [num_cpus=4]"
      ]
     },
     "metadata": {},
     "output_type": "display_data"
    },
    {
     "data": {
      "application/vnd.jupyter.widget-view+json": {
       "model_id": "",
       "version_major": 2,
       "version_minor": 0
      },
      "text/plain": [
       "Parallel compute dressed eigensys [num_cpus=4]"
      ]
     },
     "metadata": {},
     "output_type": "display_data"
    }
   ],
   "source": [
    "pname1 = 'E'\n",
    "E_vals = np.linspace(0.0, 10.0, 200)\n",
    "pname2 = 'E_osc'\n",
    "E_osc_vals = np.linspace(0.0, 10.0, 200)\n",
    "\n",
    "paramvals_by_name = {pname1: E_vals, pname2: E_osc_vals}\n",
    "\n",
    "def update_hilbertspace(E, E_osc):\n",
    "    gq.E = E\n",
    "    osc.E_osc = E_osc\n",
    "    \n",
    "sweep = scq.ParameterSweep(\n",
    "    hilbertspace=hilbertspace,\n",
    "    paramvals_by_name=paramvals_by_name,\n",
    "    update_hilbertspace=update_hilbertspace,\n",
    "    evals_count=12,\n",
    "    num_cpus=4\n",
    ")"
   ]
  },
  {
   "cell_type": "code",
   "execution_count": 30,
   "id": "d019dff7",
   "metadata": {},
   "outputs": [
    {
     "data": {
      "image/png": "[encoded data removed]",
      "text/plain": [
       "<Figure size 432x288 with 1 Axes>"
      ]
     },
     "metadata": {
      "needs_background": "light"
     },
     "output_type": "display_data"
    }
   ],
   "source": [
    "sweep[\"E\":0.0].plot_transitions();"
   ]
  },
  {
   "cell_type": "code",
   "execution_count": 31,
   "id": "b0b68a42",
   "metadata": {},
   "outputs": [
    {
     "data": {
      "image/png": "[encoded data removed]",
      "text/plain": [
       "<Figure size 432x288 with 1 Axes>"
      ]
     },
     "metadata": {
      "needs_background": "light"
     },
     "output_type": "display_data"
    }
   ],
   "source": [
    "sweep[\"E_osc\":0.0].plot_transitions();"
   ]
  },
  {
   "cell_type": "code",
   "execution_count": null,
   "id": "8e1036cd",
   "metadata": {},
   "outputs": [],
   "source": []
  }
 ],
 "metadata": {
  "interpreter": {
   "hash": "857b2b6bdbee2871d3f2bcf74449968dd9eaf2d85fcef563fc51e4452a59bad9"
  },
  "kernelspec": {
   "display_name": "Python 3",
   "language": "python",
   "name": "python3"
  },
  "language_info": {
   "codemirror_mode": {
    "name": "ipython",
    "version": 3
   },
   "file_extension": ".py",
   "mimetype": "text/x-python",
   "name": "python",
   "nbconvert_exporter": "python",
   "pygments_lexer": "ipython3",
   "version": "3.8.10"
  }
 },
 "nbformat": 4,
 "nbformat_minor": 5
}
