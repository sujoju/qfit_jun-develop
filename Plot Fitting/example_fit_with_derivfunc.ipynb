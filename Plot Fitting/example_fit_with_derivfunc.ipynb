{
 "cells": [
  {
   "cell_type": "code",
   "execution_count": 1,
   "metadata": {},
   "outputs": [],
   "source": [
    "%matplotlib inline"
   ]
  },
  {
   "cell_type": "markdown",
   "metadata": {},
   "source": [
    "\n",
    "# Fit Specifying a Function to Compute the Jacobian\n",
    "\n",
    "Specifying an analytical function to calculate the Jacobian can speed-up the\n",
    "fitting procedure.\n"
   ]
  },
  {
   "cell_type": "code",
   "execution_count": 2,
   "metadata": {},
   "outputs": [],
   "source": [
    "import matplotlib.pyplot as plt\n",
    "import numpy as np\n",
    "\n",
    "from lmfit import Minimizer, Parameters\n",
    "\n",
    "\n",
    "def func(pars, x, data=None):\n",
    "    a, b, c = pars['a'], pars['b'], pars['c']\n",
    "    model = a * np.exp(-b*x) + c\n",
    "    if data is None:\n",
    "        return model\n",
    "    return model - data\n",
    "\n",
    "\n",
    "def dfunc(pars, x, data=None):\n",
    "    a, b = pars['a'], pars['b']\n",
    "    v = np.exp(-b*x)\n",
    "    return np.array([v, -a*x*v, np.ones(len(x))])\n",
    "\n",
    "\n",
    "def f(var, x):\n",
    "    return var[0] * np.exp(-var[1]*x) + var[2]\n",
    "\n",
    "\n",
    "params = Parameters()\n",
    "params.add('a', value=10)\n",
    "params.add('b', value=10)\n",
    "params.add('c', value=10)\n",
    "\n",
    "a, b, c = 2.5, 1.3, 0.8\n",
    "x = np.linspace(0, 4, 50)\n",
    "y = f([a, b, c], x)\n",
    "data = y + 0.15*np.random.normal(size=x.size)\n",
    "\n",
    "# fit without analytic derivative\n",
    "min1 = Minimizer(func, params, fcn_args=(x,), fcn_kws={'data': data})\n",
    "out1 = min1.leastsq()\n",
    "fit1 = func(out1.params, x)\n",
    "\n",
    "# fit with analytic derivative\n",
    "min2 = Minimizer(func, params, fcn_args=(x,), fcn_kws={'data': data})\n",
    "out2 = min2.leastsq(Dfun=dfunc, col_deriv=1)\n",
    "fit2 = func(out2.params, x)"
   ]
  },
  {
   "cell_type": "markdown",
   "metadata": {},
   "source": [
    "Comparison of fit to exponential decay with/without analytical derivatives\n",
    "to model = a*exp(-b*x) + c\n",
    "\n"
   ]
  },
  {
   "cell_type": "code",
   "execution_count": 3,
   "metadata": {},
   "outputs": [
    {
     "name": "stdout",
     "output_type": "stream",
     "text": [
      "\n",
      "\"true\" parameters are: a = 2.500, b = 1.300, c = 0.800\n",
      "\n",
      "==============================================\n",
      "Statistic/Parameter|   Without   | With      |\n",
      "----------------------------------------------\n",
      "N Function Calls   |    40       |    13     |\n",
      "Chi-square         |   1.6335    |   1.6335  |\n",
      "   a               |   2.4707    |   2.4707  |\n",
      "   b               |   1.3263    |   1.3263  |\n",
      "   c               |   0.8077    |   0.8077  |\n",
      "----------------------------------------------\n",
      "\n"
     ]
    }
   ],
   "source": [
    "print('''\n",
    "\"true\" parameters are: a = %.3f, b = %.3f, c = %.3f\n",
    "\n",
    "==============================================\n",
    "Statistic/Parameter|   Without   | With      |\n",
    "----------------------------------------------\n",
    "N Function Calls   |   %3i       |   %3i     |\n",
    "Chi-square         |   %.4f    |   %.4f  |\n",
    "   a               |   %.4f    |   %.4f  |\n",
    "   b               |   %.4f    |   %.4f  |\n",
    "   c               |   %.4f    |   %.4f  |\n",
    "----------------------------------------------\n",
    "''' % (a, b, c,\n",
    "       out1.nfev, out2.nfev,\n",
    "       out1.chisqr, out2.chisqr,\n",
    "       out1.params['a'], out2.params['a'],\n",
    "       out1.params['b'], out2.params['b'],\n",
    "       out1.params['c'], out2.params['c']))"
   ]
  },
  {
   "cell_type": "markdown",
   "metadata": {},
   "source": [
    "and the best-fit to the synthetic data (with added noise) is the same for\n",
    "both methods:\n",
    "\n"
   ]
  },
  {
   "cell_type": "code",
   "execution_count": 4,
   "metadata": {},
   "outputs": [
    {
     "data": {
      "image/png": "[encoded data removed]",
      "text/plain": [
       "<Figure size 432x288 with 1 Axes>"
      ]
     },
     "metadata": {
      "needs_background": "light"
     },
     "output_type": "display_data"
    }
   ],
   "source": [
    "plt.plot(x, data, 'ro')\n",
    "plt.plot(x, fit1, 'b')\n",
    "plt.plot(x, fit2, 'k')\n",
    "plt.show()"
   ]
  },
  {
   "cell_type": "code",
   "execution_count": null,
   "metadata": {},
   "outputs": [],
   "source": []
  }
 ],
 "metadata": {
  "kernelspec": {
   "display_name": "Python 3",
   "language": "python",
   "name": "python3"
  },
  "language_info": {
   "codemirror_mode": {
    "name": "ipython",
    "version": 3
   },
   "file_extension": ".py",
   "mimetype": "text/x-python",
   "name": "python",
   "nbconvert_exporter": "python",
   "pygments_lexer": "ipython3",
   "version": "3.8.8"
  }
 },
 "nbformat": 4,
 "nbformat_minor": 1
}
