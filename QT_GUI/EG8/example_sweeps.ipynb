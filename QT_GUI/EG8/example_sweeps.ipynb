{
 "cells": [
  {
   "cell_type": "markdown",
   "metadata": {},
   "source": [
    "# Example parameter sweeps\n"
   ]
  },
  {
   "cell_type": "code",
   "execution_count": 3,
   "metadata": {
    "ExecuteTime": {
     "end_time": "2016-09-05T09:09:54.232690",
     "start_time": "2016-09-05T09:09:53.862693"
    },
    "init_cell": true,
    "nbsphinx": "hidden",
    "pycharm": {
     "is_executing": false
    },
    "scrolled": true
   },
   "outputs": [],
   "source": [
    "%matplotlib inline\n",
    "%config InlineBackend.figure_format = 'svg'\n",
    "\n",
    "import scqubits as scq\n",
    "from scqubits import HilbertSpace, InteractionTerm, ParameterSweep\n",
    "\n",
    "import numpy as np"
   ]
  },
  {
   "cell_type": "code",
   "execution_count": 8,
   "metadata": {},
   "outputs": [],
   "source": [
    "qubit = scq.GenericQubit(E = 4.0)\n",
    "oscillator = scq.Oscillator(\n",
    "    E_osc=4.5,\n",
    "    truncated_dim=4    # up to 3 photons (0,1,2,3)\n",
    ")\n"
   ]
  },
  {
   "cell_type": "code",
   "execution_count": 7,
   "metadata": {},
   "outputs": [
    {
     "data": {
      "application/vnd.jupyter.widget-view+json": {
       "model_id": "58647432c05f4f85bbfd56337090be71",
       "version_major": 2,
       "version_minor": 0
      },
      "text/plain": [
       "HBox(children=(VBox(children=(HBox(children=(Label(value='EJ [GHz]'), FloatText(value=8.9, layout=Layout(width…"
      ]
     },
     "metadata": {},
     "output_type": "display_data"
    },
    {
     "data": {
      "application/vnd.jupyter.widget-view+json": {
       "model_id": "205c338b21f74ded92e5fd4ea9b02748",
       "version_major": 2,
       "version_minor": 0
      },
      "text/plain": [
       "Output()"
      ]
     },
     "metadata": {},
     "output_type": "display_data"
    }
   ],
   "source": [
    "fluxonium = scq.Fluxonium.create()"
   ]
  },
  {
   "cell_type": "code",
   "execution_count": 2,
   "metadata": {
    "ExecuteTime": {
     "end_time": "2016-08-23T15:16:24.535943",
     "start_time": "2016-08-23T15:16:24.523929"
    },
    "pycharm": {
     "is_executing": false
    }
   },
   "outputs": [],
   "source": [
    "# Define HilbertSpace object:  two transmons coupled to an oscillator\n",
    "\n",
    "tmon1 = scq.TunableTransmon(\n",
    "    EJmax=40.0,\n",
    "    EC=0.2,\n",
    "    d=0.1,\n",
    "    flux=0.23,\n",
    "    ng=0.3,\n",
    "    ncut=40,\n",
    "    truncated_dim=3,     # after diagonalization, we will keep 3 levels\n",
    "    id_str=\"tmon1\"       # optional; used for referencing the object from within ParameterSweep or HilbertSpace\n",
    ")\n",
    "\n",
    "tmon2 = scq.TunableTransmon(\n",
    "    EJmax=15.0,\n",
    "    EC=0.15,\n",
    "    d=0.2,\n",
    "    flux=0.0,\n",
    "    ng=0.0,\n",
    "    ncut=30,\n",
    "    truncated_dim=3,\n",
    "    id_str=\"tmon2\"\n",
    ")\n",
    "\n",
    "resonator = scq.Oscillator(\n",
    "    E_osc=4.5,\n",
    "    truncated_dim=4    # up to 3 photons (0,1,2,3)\n",
    ")\n",
    "\n",
    "hilbertspace = scq.HilbertSpace([tmon1, tmon2, resonator])\n",
    "\n",
    "\n",
    "g1 = 0.1  # coupling resonator-CPB1 (without charge matrix elements)\n",
    "g2 = 0.2  # coupling resonator-CPB2 (without charge matrix elements)\n",
    "\n",
    "hilbertspace.add_interaction(\n",
    "    g_strength = g1,\n",
    "    op1 = tmon1.n_operator,\n",
    "    op2 = resonator.creation_operator,\n",
    "    add_hc = True,\n",
    "    id_str=\"tmon1-resonator\"  # optional keyword argument\n",
    ")\n",
    "\n",
    "hilbertspace.add_interaction(\n",
    "    g_strength = g2,\n",
    "    op1 = tmon2.n_operator,\n",
    "    op2 = resonator.creation_operator,\n",
    "    add_hc = True,\n",
    "    id_str=\"tmon2-resonator\"  # optional keyword argument\n",
    ")"
   ]
  },
  {
   "cell_type": "code",
   "execution_count": 19,
   "metadata": {},
   "outputs": [],
   "source": [
    "hilbertspace2 = scq.HilbertSpace([qubit, oscillator])\n",
    "hilbertspace2.add_interaction(\n",
    "    g_strength = g1,\n",
    "    op1 = qubit.sm_operator,\n",
    "    op2 = oscillator.creation_operator,\n",
    "    add_hc = True,\n",
    "    id_str=\"JCint\"\n",
    ")"
   ]
  },
  {
   "cell_type": "code",
   "execution_count": 16,
   "metadata": {},
   "outputs": [],
   "source": [
    "hilbertspace3 = scq.HilbertSpace([fluxonium])"
   ]
  },
  {
   "cell_type": "code",
   "execution_count": 17,
   "metadata": {
    "scrolled": true
   },
   "outputs": [
    {
     "data": {
      "application/vnd.jupyter.widget-view+json": {
       "model_id": "",
       "version_major": 2,
       "version_minor": 0
      },
      "text/plain": [
       "Parallel compute bare eigensys [num_cpus=4]"
      ]
     },
     "metadata": {},
     "output_type": "display_data"
    },
    {
     "data": {
      "application/vnd.jupyter.widget-view+json": {
       "model_id": "",
       "version_major": 2,
       "version_minor": 0
      },
      "text/plain": [
       "Parallel compute bare eigensys [num_cpus=4]"
      ]
     },
     "metadata": {},
     "output_type": "display_data"
    },
    {
     "data": {
      "application/vnd.jupyter.widget-view+json": {
       "model_id": "",
       "version_major": 2,
       "version_minor": 0
      },
      "text/plain": [
       "Parallel compute bare eigensys [num_cpus=4]"
      ]
     },
     "metadata": {},
     "output_type": "display_data"
    },
    {
     "data": {
      "application/vnd.jupyter.widget-view+json": {
       "model_id": "",
       "version_major": 2,
       "version_minor": 0
      },
      "text/plain": [
       "Parallel compute dressed eigensys [num_cpus=4]"
      ]
     },
     "metadata": {},
     "output_type": "display_data"
    }
   ],
   "source": [
    "# Set up parameter name and values\n",
    "pname1 = 'flux'  \n",
    "flux_vals = np.linspace(0.0, 2.0, 11)\n",
    "pname2 = 'ng'\n",
    "ng_vals = np.linspace(-0.5, 0.5, 9)\n",
    "\n",
    "# combine into a dictionary\n",
    "paramvals_by_name = {pname1: flux_vals, pname2: ng_vals}\n",
    "\n",
    "\n",
    "area_ratio = 1.2\n",
    "\n",
    "def update_hilbertspace(flux, ng):  # function that defines how Hilbert space components are updated\n",
    "    tmon1.flux = flux\n",
    "    tmon2.flux = area_ratio * flux\n",
    "    tmon2.ng = ng\n",
    "\n",
    "# dictionary with information on which subsystems are affected by changing parameters    \n",
    "subsys_update_info = {pname1: [tmon1, tmon2],\n",
    "                      pname2: [tmon2]}\n",
    "\n",
    "    \n",
    "# create the ParameterSweep    \n",
    "sweep = ParameterSweep(\n",
    "    hilbertspace=hilbertspace,\n",
    "    paramvals_by_name=paramvals_by_name,\n",
    "    update_hilbertspace=update_hilbertspace,\n",
    "    evals_count=20,\n",
    "    subsys_update_info=subsys_update_info,\n",
    "    num_cpus=4\n",
    ")"
   ]
  },
  {
   "cell_type": "code",
   "execution_count": 26,
   "metadata": {},
   "outputs": [
    {
     "data": {
      "application/vnd.jupyter.widget-view+json": {
       "model_id": "",
       "version_major": 2,
       "version_minor": 0
      },
      "text/plain": [
       "Parallel compute bare eigensys [num_cpus=4]"
      ]
     },
     "metadata": {},
     "output_type": "display_data"
    },
    {
     "data": {
      "application/vnd.jupyter.widget-view+json": {
       "model_id": "",
       "version_major": 2,
       "version_minor": 0
      },
      "text/plain": [
       "Parallel compute bare eigensys [num_cpus=4]"
      ]
     },
     "metadata": {},
     "output_type": "display_data"
    },
    {
     "data": {
      "application/vnd.jupyter.widget-view+json": {
       "model_id": "",
       "version_major": 2,
       "version_minor": 0
      },
      "text/plain": [
       "Parallel compute dressed eigensys [num_cpus=4]"
      ]
     },
     "metadata": {},
     "output_type": "display_data"
    }
   ],
   "source": [
    "pname3 = 'coupling'\n",
    "g_vals = np.linspace(2.0, 7.0, 40)\n",
    "\n",
    "\n",
    "paramvals_by_name2 = {pname3: g_vals}\n",
    "\n",
    "def update_hilbertspace2(g):\n",
    "    hilbertspace2[\"JCint\"].g_strength = g\n",
    "\n",
    "sweep2 = ParameterSweep(\n",
    "    hilbertspace=hilbertspace2,\n",
    "    paramvals_by_name=paramvals_by_name2,\n",
    "    update_hilbertspace=update_hilbertspace2,\n",
    "    evals_count=4,\n",
    "    num_cpus=4\n",
    ")"
   ]
  },
  {
   "cell_type": "code",
   "execution_count": 27,
   "metadata": {},
   "outputs": [
    {
     "data": {
      "application/vnd.jupyter.widget-view+json": {
       "model_id": "",
       "version_major": 2,
       "version_minor": 0
      },
      "text/plain": [
       "Parallel compute bare eigensys [num_cpus=4]"
      ]
     },
     "metadata": {},
     "output_type": "display_data"
    },
    {
     "data": {
      "application/vnd.jupyter.widget-view+json": {
       "model_id": "",
       "version_major": 2,
       "version_minor": 0
      },
      "text/plain": [
       "Parallel compute dressed eigensys [num_cpus=4]"
      ]
     },
     "metadata": {},
     "output_type": "display_data"
    }
   ],
   "source": [
    "pname4 = 'EL'\n",
    "EL_vals = np.linspace(0.001, 1.0, 40)\n",
    "\n",
    "paramvals_by_name3 = {pname4: EL_vals}\n",
    "\n",
    "def update_hilbertspace3(EL):\n",
    "    hilbertspace3[0].EL = EL\n",
    "\n",
    "sweep3 = ParameterSweep(\n",
    "    hilbertspace=hilbertspace3,\n",
    "    paramvals_by_name=paramvals_by_name3,\n",
    "    update_hilbertspace=update_hilbertspace3,\n",
    "    evals_count=6,\n",
    "    num_cpus=4\n",
    ")"
   ]
  },
  {
   "cell_type": "code",
   "execution_count": null,
   "metadata": {},
   "outputs": [],
   "source": []
  }
 ],
 "metadata": {
  "celltoolbar": "Edit Metadata",
  "kernelspec": {
   "display_name": "Python 3 (ipykernel)",
   "language": "python",
   "name": "python3"
  },
  "language_info": {
   "codemirror_mode": {
    "name": "ipython",
    "version": 3
   },
   "file_extension": ".py",
   "mimetype": "text/x-python",
   "name": "python",
   "nbconvert_exporter": "python",
   "pygments_lexer": "ipython3",
   "version": "3.8.10"
  },
  "toc": {
   "base_numbering": 1,
   "nav_menu": {},
   "number_sections": false,
   "sideBar": true,
   "skip_h1_title": true,
   "title_cell": "Table of Contents",
   "title_sidebar": "Contents",
   "toc_cell": false,
   "toc_position": {},
   "toc_section_display": true,
   "toc_window_display": false
  },
  "varInspector": {
   "cols": {
    "lenName": 16,
    "lenType": 16,
    "lenVar": 40
   },
   "kernels_config": {
    "python": {
     "delete_cmd_postfix": "",
     "delete_cmd_prefix": "del ",
     "library": "var_list.py",
     "varRefreshCmd": "print(var_dic_list())"
    },
    "r": {
     "delete_cmd_postfix": ") ",
     "delete_cmd_prefix": "rm(",
     "library": "var_list.r",
     "varRefreshCmd": "cat(var_dic_list()) "
    }
   },
   "types_to_exclude": [
    "module",
    "function",
    "builtin_function_or_method",
    "instance",
    "_Feature"
   ],
   "window_display": false
  }
 },
 "nbformat": 4,
 "nbformat_minor": 2
}
