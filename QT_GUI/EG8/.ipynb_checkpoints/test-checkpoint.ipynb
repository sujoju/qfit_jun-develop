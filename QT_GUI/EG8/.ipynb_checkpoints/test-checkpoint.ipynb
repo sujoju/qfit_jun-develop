{
 "cells": [
  {
   "cell_type": "code",
   "execution_count": 2,
   "metadata": {},
   "outputs": [],
   "source": [
    "import scqubits as scq\n",
    "from parametersweep_eg import ParameterSweep_EG\n",
    "from parametersweep_ui_elements import ParameterSweep_UI_Elements\n",
    "import numpy as np"
   ]
  },
  {
   "cell_type": "code",
   "execution_count": 3,
   "metadata": {},
   "outputs": [
    {
     "data": {
      "application/vnd.jupyter.widget-view+json": {
       "model_id": "",
       "version_major": 2,
       "version_minor": 0
      },
      "text/plain": [
       "Bare spectra:   0%|          | 0/441 [00:00<?, ?it/s]"
      ]
     },
     "metadata": {},
     "output_type": "display_data"
    },
    {
     "data": {
      "application/vnd.jupyter.widget-view+json": {
       "model_id": "",
       "version_major": 2,
       "version_minor": 0
      },
      "text/plain": [
       "Bare spectra:   0%|          | 0/441 [00:00<?, ?it/s]"
      ]
     },
     "metadata": {},
     "output_type": "display_data"
    },
    {
     "data": {
      "application/vnd.jupyter.widget-view+json": {
       "model_id": "",
       "version_major": 2,
       "version_minor": 0
      },
      "text/plain": [
       "Bare spectra:   0%|          | 0/441 [00:00<?, ?it/s]"
      ]
     },
     "metadata": {},
     "output_type": "display_data"
    },
    {
     "data": {
      "application/vnd.jupyter.widget-view+json": {
       "model_id": "",
       "version_major": 2,
       "version_minor": 0
      },
      "text/plain": [
       "Dressed spectrum:   0%|          | 0/441 [00:00<?, ?it/s]"
      ]
     },
     "metadata": {},
     "output_type": "display_data"
    }
   ],
   "source": [
    "parametersweep = ParameterSweep_EG().parametersweep"
   ]
  },
  {
   "cell_type": "code",
   "execution_count": null,
   "metadata": {},
   "outputs": [],
   "source": [
    "parametersweep_ui_elements = ParameterSweep_UI_Elements(parametersweep)"
   ]
  },
  {
   "cell_type": "code",
   "execution_count": null,
   "metadata": {},
   "outputs": [
    {
     "ename": "Error",
     "evalue": "Kernel is dead",
     "output_type": "error",
     "traceback": [
      "Error: Kernel is dead",
      "at g._sendKernelShellControl (c:\\Users\\sujoj\\.vscode\\extensions\\ms-toolsai.jupyter-2021.9.1001312534\\out\\client\\extension.js:52:1006305)",
      "at g.sendShellMessage (c:\\Users\\sujoj\\.vscode\\extensions\\ms-toolsai.jupyter-2021.9.1001312534\\out\\client\\extension.js:52:1006074)",
      "at g.requestExecute (c:\\Users\\sujoj\\.vscode\\extensions\\ms-toolsai.jupyter-2021.9.1001312534\\out\\client\\extension.js:52:1008616)",
      "at d.requestExecute (c:\\Users\\sujoj\\.vscode\\extensions\\ms-toolsai.jupyter-2021.9.1001312534\\out\\client\\extension.js:37:328037)",
      "at S.requestExecute (c:\\Users\\sujoj\\.vscode\\extensions\\ms-toolsai.jupyter-2021.9.1001312534\\out\\client\\extension.js:32:19215)",
      "at w.executeCodeCell (c:\\Users\\sujoj\\.vscode\\extensions\\ms-toolsai.jupyter-2021.9.1001312534\\out\\client\\extension.js:52:300924)",
      "at w.execute (c:\\Users\\sujoj\\.vscode\\extensions\\ms-toolsai.jupyter-2021.9.1001312534\\out\\client\\extension.js:52:300551)",
      "at w.start (c:\\Users\\sujoj\\.vscode\\extensions\\ms-toolsai.jupyter-2021.9.1001312534\\out\\client\\extension.js:52:296215)",
      "at processTicksAndRejections (internal/process/task_queues.js:93:5)",
      "at async t.CellExecutionQueue.executeQueuedCells (c:\\Users\\sujoj\\.vscode\\extensions\\ms-toolsai.jupyter-2021.9.1001312534\\out\\client\\extension.js:52:310950)",
      "at async t.CellExecutionQueue.start (c:\\Users\\sujoj\\.vscode\\extensions\\ms-toolsai.jupyter-2021.9.1001312534\\out\\client\\extension.js:52:310490)"
     ]
    }
   ],
   "source": [
    "parametersweep_ui_elements.hilbertspace_defaults"
   ]
  },
  {
   "cell_type": "code",
   "execution_count": null,
   "metadata": {},
   "outputs": [],
   "source": []
  }
 ],
 "metadata": {
  "interpreter": {
   "hash": "857b2b6bdbee2871d3f2bcf74449968dd9eaf2d85fcef563fc51e4452a59bad9"
  },
  "kernelspec": {
   "display_name": "Python 3 (ipykernel)",
   "language": "python",
   "name": "python3"
  },
  "language_info": {
   "codemirror_mode": {
    "name": "ipython",
    "version": 3
   },
   "file_extension": ".py",
   "mimetype": "text/x-python",
   "name": "python",
   "nbconvert_exporter": "python",
   "pygments_lexer": "ipython3",
   "version": "3.8.11"
  }
 },
 "nbformat": 4,
 "nbformat_minor": 2
}
