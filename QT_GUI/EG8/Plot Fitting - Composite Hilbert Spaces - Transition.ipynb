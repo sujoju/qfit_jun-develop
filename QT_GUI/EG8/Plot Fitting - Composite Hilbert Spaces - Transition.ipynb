{
 "cells": [
  {
   "cell_type": "code",
   "execution_count": 1,
   "source": [
    "%matplotlib inline"
   ],
   "outputs": [],
   "metadata": {}
  },
  {
   "cell_type": "code",
   "execution_count": 2,
   "source": [
    "import matplotlib.pyplot as plt\r\n",
    "import numpy as np\r\n",
    "from scipy import interpolate\r\n",
    "\r\n",
    "from lmfit import Parameters, Minimizer, minimize, report_fit\r\n",
    "\r\n",
    "import scqubits as scq\r\n",
    "\r\n",
    "scq.settings.FUZZY_SLICING = True"
   ],
   "outputs": [],
   "metadata": {}
  },
  {
   "cell_type": "code",
   "execution_count": 3,
   "source": [
    "osc = scq.Oscillator(E_osc = 1)\r\n",
    "gq = scq.GenericQubit(E = 1)\r\n",
    "\r\n",
    "g = 0.1\r\n",
    "hilbertspace = scq.HilbertSpace([gq, osc])\r\n",
    "\r\n",
    "hilbertspace.add_interaction(\r\n",
    "    g_strength = g,\r\n",
    "    op1 = osc.annihilation_operator,\r\n",
    "    op2 = gq.sp_operator,\r\n",
    "    add_hc = True\r\n",
    ")"
   ],
   "outputs": [],
   "metadata": {}
  },
  {
   "cell_type": "code",
   "execution_count": 4,
   "source": [
    "def update_hilbertspace(E, detuning):\r\n",
    "    gq.E = E\r\n",
    "    osc.E_osc = E + detuning\r\n",
    "\r\n",
    "x = np.linspace(0, 10, 21)\r\n",
    "egv = 4\r\n",
    "\r\n",
    "pname1 = 'E'\r\n",
    "E_vals = x\r\n",
    "pname3 = 'detuning'\r\n",
    "detuning_vals = x\r\n",
    "\r\n",
    "paramvals_by_name = {pname1: E_vals, pname3: detuning_vals}\r\n",
    "\r\n",
    "sweep = scq.ParameterSweep(\r\n",
    "    hilbertspace=hilbertspace,\r\n",
    "    paramvals_by_name=paramvals_by_name,\r\n",
    "    update_hilbertspace=update_hilbertspace,\r\n",
    "    evals_count=egv,\r\n",
    "    num_cpus=4\r\n",
    ")"
   ],
   "outputs": [
    {
     "output_type": "display_data",
     "data": {
      "application/vnd.jupyter.widget-view+json": {
       "version_major": 2,
       "version_minor": 0,
       "model_id": "512832eac58f450a82385d98fa6aedc7"
      },
      "text/plain": [
       "Parallel compute bare eigensys [num_cpus=4]"
      ]
     },
     "metadata": {}
    },
    {
     "output_type": "display_data",
     "data": {
      "application/vnd.jupyter.widget-view+json": {
       "version_major": 2,
       "version_minor": 0,
       "model_id": "4f0109938b52440e9349c41b3a8da1c7"
      },
      "text/plain": [
       "Parallel compute bare eigensys [num_cpus=4]"
      ]
     },
     "metadata": {}
    },
    {
     "output_type": "display_data",
     "data": {
      "application/vnd.jupyter.widget-view+json": {
       "version_major": 2,
       "version_minor": 0,
       "model_id": "05d19081def946649f9dbbf659288d66"
      },
      "text/plain": [
       "Parallel compute dressed eigensys [num_cpus=4]"
      ]
     },
     "metadata": {}
    }
   ],
   "metadata": {}
  },
  {
   "cell_type": "code",
   "execution_count": 76,
   "source": [
    "def create_model_data(x, e, transition_list):\r\n",
    "    full_data = create_interpolated_data(x, egv, e)\r\n",
    "    \r\n",
    "    model = np.array([])\r\n",
    "    for transition in transition_list:\r\n",
    "        i = transition[0]\r\n",
    "        f = transition[1]\r\n",
    "        initial_state = full_data[:,i]\r\n",
    "        final_state = full_data[:,f]\r\n",
    "        energy_diff = final_state - initial_state\r\n",
    "        model = np.append(model, energy_diff)\r\n",
    "    return model\r\n",
    "\r\n",
    "def create_interpolated_data(x, egv, e):\r\n",
    "    egv_x = np.linspace(0, egv-1, egv)\r\n",
    "    points = (x, x, egv_x)\r\n",
    "    values = sweep[\"evals\"]\r\n",
    "    \r\n",
    "    matrix = np.zeros((x.size,4))\r\n",
    "    row_index = 0\r\n",
    "    for i in x:\r\n",
    "        column_index = 0\r\n",
    "        for j in egv_x:\r\n",
    "            matrix[row_index, column_index] = interpolate.interpn(points, values, np.array([e, i, j]))[0]\r\n",
    "            column_index+=1\r\n",
    "        row_index+=1\r\n",
    "    return matrix"
   ],
   "outputs": [],
   "metadata": {}
  },
  {
   "cell_type": "code",
   "execution_count": 6,
   "source": [
    "def jc_resid(pars, x, transition_list, data=None):\r\n",
    "    e = pars['e']\r\n",
    "    \r\n",
    "    model = create_model_data(x, e, transition_list)\r\n",
    "    if data is None:\r\n",
    "        return model\r\n",
    "    resid = model - data\r\n",
    "    return resid.flatten()\r\n",
    "\r\n",
    "params = Parameters()\r\n",
    "params.add('e', value=3.4, min = 0, max = 10)\r\n",
    "\r\n",
    "transitions = [(0,1),(1,2),(2,3),(0,3)]\r\n",
    "e = 8.1\r\n",
    "jc_data = create_model_data(x, e, transitions)\r\n",
    "jc_noise = jc_data + 0.25*np.random.normal(size=jc_data.shape)\r\n",
    "\r\n",
    "min1 = Minimizer(jc_resid, params, fcn_args=(x, transitions,), fcn_kws={'data': jc_noise})\r\n",
    "out1 = min1.leastsq()\r\n",
    "fit1 = jc_resid(out1.params, x, transitions)\r\n",
    "report_fit(out1.params)\r\n",
    "\r\n",
    "out2 = minimize(jc_resid, params, args=(x, transitions, jc_noise))\r\n",
    "fit2 = jc_resid(out2.params, x, transitions)\r\n",
    "report_fit(out2.params)"
   ],
   "outputs": [
    {
     "output_type": "stream",
     "name": "stdout",
     "text": [
      "[[Variables]]\n",
      "    e:  8.09765939 +/- 0.00712532 (0.09%) (init = 3.4)\n",
      "[[Variables]]\n",
      "    e:  8.09765939 +/- 0.00712532 (0.09%) (init = 3.4)\n"
     ]
    }
   ],
   "metadata": {}
  },
  {
   "cell_type": "code",
   "execution_count": 7,
   "source": [
    "array_shape = (x.size, egv)\r\n",
    "a = np.reshape(jc_noise, array_shape, 'F')\r\n",
    "b = np.reshape(fit1, array_shape, 'F')\r\n",
    "c = np.reshape(fit2, array_shape, 'F')"
   ],
   "outputs": [],
   "metadata": {}
  },
  {
   "cell_type": "code",
   "execution_count": 8,
   "source": [
    "plt.plot(x, a, 'ro')\r\n",
    "plt.plot(x, b, 'b')\r\n",
    "plt.plot(x, c, 'y')\r\n",
    "plt.show()"
   ],
   "outputs": [
    {
     "output_type": "display_data",
     "data": {
      "image/png": "[encoded data removed]",
      "text/plain": [
       "<Figure size 900x600 with 1 Axes>"
      ]
     },
     "metadata": {
      "needs_background": "light"
     }
    }
   ],
   "metadata": {}
  },
  {
   "cell_type": "code",
   "execution_count": null,
   "source": [
    "hilbertspace.get_initdata()"
   ],
   "outputs": [],
   "metadata": {}
  },
  {
   "cell_type": "code",
   "execution_count": null,
   "source": [
    "hilbertspace.osc_subsys_list[0]"
   ],
   "outputs": [],
   "metadata": {}
  },
  {
   "cell_type": "code",
   "execution_count": null,
   "source": [
    "hilbertspace.qbt_subsys_list[0]"
   ],
   "outputs": [],
   "metadata": {}
  },
  {
   "cell_type": "code",
   "execution_count": null,
   "source": [
    "type(hilbertspace.qbt_subsys_list[0].id_str)"
   ],
   "outputs": [],
   "metadata": {}
  },
  {
   "cell_type": "code",
   "execution_count": null,
   "source": [
    "def create_compositeHilbert_params_Dict():\r\n",
    "    osc_params = {}\r\n",
    "    qbt_params = {}\r\n",
    "\r\n",
    "    for osc in hilbertspace.osc_subsys_list:\r\n",
    "        osc_params[osc.id_str] = {}\r\n",
    "        osc_params[osc.id_str][\"E_osc\"] = osc.E_osc\r\n",
    "    for qbt in hilbertspace.qbt_subsys_list:\r\n",
    "        qbt_params[qbt.id_str] = {} \r\n",
    "        qbt_params[qbt.id_str][\"E\"] = qbt.E\r\n",
    "    \r\n",
    "    return {**osc_params, **qbt_params}\r\n",
    "\r\n",
    "create_compositeHilbert_params_Dict()"
   ],
   "outputs": [],
   "metadata": {}
  },
  {
   "cell_type": "code",
   "execution_count": 3,
   "source": [
    "scq.GUI()"
   ],
   "outputs": [
    {
     "output_type": "display_data",
     "data": {
      "application/vnd.jupyter.widget-view+json": {
       "model_id": "67e18e394f924f4d941528fd475d1267",
       "version_major": 2,
       "version_minor": 0
      },
      "text/plain": [
       "VBox(children=(HBox(children=(ToggleButtons(description='Qubits:', layout=Layout(width='800px'), options=('Tra…"
      ]
     },
     "metadata": {}
    },
    {
     "output_type": "display_data",
     "data": {
      "application/vnd.jupyter.widget-view+json": {
       "model_id": "e23aeb7205ff49059f6f2f4411638fa0",
       "version_major": 2,
       "version_minor": 0
      },
      "text/plain": [
       "Output(layout=Layout(width='975px'))"
      ]
     },
     "metadata": {}
    },
    {
     "output_type": "execute_result",
     "data": {
      "text/plain": []
     },
     "metadata": {},
     "execution_count": 3
    }
   ],
   "metadata": {
    "scrolled": false
   }
  },
  {
   "cell_type": "code",
   "execution_count": 32,
   "source": [
    "test_values = {\r\n",
    "    'E':8.4\r\n",
    "}\r\n",
    "paramsweep = sweep[\"evals\"]\r\n",
    "for param, param_value in test_values.items():\r\n",
    "    paramsweep = paramsweep[param:param_value]\r\n",
    "paramsweep"
   ],
   "outputs": [
    {
     "output_type": "execute_result",
     "data": {
      "text/plain": [
       "NamedSlotsNdarray([[-4.2       ,  4.1       ,  4.3       , 12.45857864],\n",
       "                   [-4.2       ,  4.12192236,  4.32807764, 12.53138593],\n",
       "                   [-4.2       ,  4.1381966 ,  4.3618034 , 12.6       ],\n",
       "                   [-4.2       ,  4.15      ,  4.4       , 12.66492189],\n",
       "                   [-4.2       ,  4.15857864,  4.44142136, 12.72679492],\n",
       "                   [-4.2       ,  4.16492189,  4.48507811, 12.78625414],\n",
       "                   [-4.2       ,  4.16972244,  4.53027756, 12.84384472],\n",
       "                   [-4.2       ,  4.17344356,  4.57655644, 12.9       ],\n",
       "                   [-4.2       ,  4.1763932 ,  4.6236068 , 12.95505103],\n",
       "                   [-4.2       ,  4.17877855,  4.67122145, 13.00924635],\n",
       "                   [-4.2       ,  4.18074176,  4.71925824, 13.06277187],\n",
       "                   [-4.2       ,  4.1823825 ,  4.7676175 , 13.11576708],\n",
       "                   [-4.2       ,  4.18377223,  4.81622777, 13.16833752],\n",
       "                   [-4.2       ,  4.18496324,  4.86503676, 13.22056383],\n",
       "                   [-4.2       ,  4.18599451,  4.91400549, 13.27250828],\n",
       "                   [-4.2       ,  4.18689563,  4.96310437, 13.32421951],\n",
       "                   [-4.2       ,  4.18768944,  5.01231056, 13.37573593],\n",
       "                   [-4.2       ,  4.18839377,  5.06160623, 13.42708818],\n",
       "                   [-4.2       ,  4.18902278,  5.11097722, 13.47830094],\n",
       "                   [-4.2       ,  4.1895878 ,  5.1604122 , 13.52939431],\n",
       "                   [-4.2       ,  4.19009805,  5.20990195, 13.58038476],\n",
       "                   [-4.2       ,  4.19056104,  5.25943896, 13.63128592],\n",
       "                   [-4.2       ,  4.19098301,  5.30901699, 13.68210917],\n",
       "                   [-4.2       ,  4.19136912,  5.35863088, 13.73286404],\n",
       "                   [-4.2       ,  4.19172375,  5.40827625, 13.7835586 ],\n",
       "                   [-4.2       ,  4.19205055,  5.45794945, 13.83419972],\n",
       "                   [-4.2       ,  4.19235268,  5.50764732, 13.88479327],\n",
       "                   [-4.2       ,  4.1926328 ,  5.5573672 , 13.93534429],\n",
       "                   [-4.2       ,  4.19289322,  5.60710678, 13.98585716],\n",
       "                   [-4.2       ,  4.19313594,  5.65686406, 14.03633566],\n",
       "                   [-4.2       ,  4.1933627 ,  5.7066373 , 14.08678312],\n",
       "                   [-4.2       ,  4.19357502,  5.75642498, 14.13720244],\n",
       "                   [-4.2       ,  4.19377423,  5.80622577, 14.18759616],\n",
       "                   [-4.2       ,  4.19396149,  5.85603851, 14.23796655],\n",
       "                   [-4.2       ,  4.19413786,  5.90586214, 14.2883156 ],\n",
       "                   [-4.2       ,  4.19430425,  5.95569575, 14.3386451 ],\n",
       "                   [-4.2       ,  4.19446149,  6.00553851, 14.38895664],\n",
       "                   [-4.2       ,  4.1946103 ,  6.0553897 , 14.43925164],\n",
       "                   [-4.2       ,  4.19475134,  6.10524866, 14.48953136],\n",
       "                   [-4.2       ,  4.19488521,  6.15511479, 14.53979698],\n",
       "                   [-4.2       ,  4.19501244,  6.20498756, 14.59004951],\n",
       "                   [-4.2       ,  4.1951335 ,  6.2548665 , 14.6402899 ],\n",
       "                   [-4.2       ,  4.19524884,  6.30475116, 14.69051899],\n",
       "                   [-4.2       ,  4.19535886,  6.35464114, 14.74073758],\n",
       "                   [-4.2       ,  4.1954639 ,  6.4045361 , 14.79094635],\n",
       "                   [-4.2       ,  4.1955643 ,  6.4544357 , 14.84114595],\n",
       "                   [-4.2       ,  4.19566036,  6.50433964, 14.89133698],\n",
       "                   [-4.2       ,  4.19575236,  6.55424764, 14.94151996],\n",
       "                   [-4.2       ,  4.19584054,  6.60415946, 14.9916954 ],\n",
       "                   [-4.2       ,  4.19592514,  6.65407486, 15.04186375],\n",
       "                   [-4.2       ,  4.19600638,  6.70399362, 15.09202544],\n",
       "                   [-4.2       ,  4.19608444,  6.75391556, 15.14218084],\n",
       "                   [-4.2       ,  4.19615952,  6.80384048, 15.19233032],\n",
       "                   [-4.2       ,  4.19623177,  6.85376823, 15.2424742 ],\n",
       "                   [-4.2       ,  4.19630136,  6.90369864, 15.2926128 ],\n",
       "                   [-4.2       ,  4.19636843,  6.95363157, 15.34274641],\n",
       "                   [-4.2       ,  4.19643312,  7.00356688, 15.39287527],\n",
       "                   [-4.2       ,  4.19649554,  7.05350446, 15.44299965],\n",
       "                   [-4.2       ,  4.19655581,  7.10344419, 15.49311977],\n",
       "                   [-4.2       ,  4.19661406,  7.15338594, 15.54323585],\n",
       "                   [-4.2       ,  4.19667036,  7.20332964, 15.59334808],\n",
       "                   [-4.2       ,  4.19672483,  7.25327517, 15.64345666],\n",
       "                   [-4.2       ,  4.19677754,  7.30322246, 15.69356176],\n",
       "                   [-4.2       ,  4.19682859,  7.35317141, 15.74366354],\n",
       "                   [-4.2       ,  4.19687805,  7.40312195, 15.79376216],\n",
       "                   [-4.2       ,  4.19692598,  7.45307402, 15.84385776],\n",
       "                   [-4.2       ,  4.19697247,  7.50302753, 15.89395048],\n",
       "                   [-4.2       ,  4.19701758,  7.55298242, 15.94404045],\n",
       "                   [-4.2       ,  4.19706136,  7.60293864, 15.99412779],\n",
       "                   [-4.2       ,  4.19710388,  7.65289612, 16.04421261],\n",
       "                   [-4.2       ,  4.19714519,  7.70285481, 16.09429501],\n",
       "                   [-4.2       ,  4.19718533,  7.75281467, 16.14437511],\n",
       "                   [-4.2       ,  4.19722436,  7.80277564, 16.19445299],\n",
       "                   [-4.2       ,  4.19726233,  7.85273767, 16.24452875],\n",
       "                   [-4.2       ,  4.19729927,  7.90270073, 16.29460247],\n",
       "                   [-4.2       ,  4.19733523,  7.95266477, 16.34467423],\n",
       "                   [-4.2       ,  4.19737024,  8.00262976, 16.39474411],\n",
       "                   [-4.2       ,  4.19740435,  8.05259565, 16.44481219],\n",
       "                   [-4.2       ,  4.19743758,  8.10256242, 16.49487852],\n",
       "                   [-4.2       ,  4.19746997,  8.15253003, 16.54494318],\n",
       "                   [-4.2       ,  4.19750156,  8.20249844, 16.59500623],\n",
       "                   [-4.2       ,  4.19753237,  8.25246763, 16.64506774],\n",
       "                   [-4.2       ,  4.19756242,  8.30243758, 16.69512774],\n",
       "                   [-4.2       ,  4.19759176,  8.35240824, 16.74518631],\n",
       "                   [-4.2       ,  4.1976204 ,  8.4023796 , 16.79524348],\n",
       "                   [-4.2       ,  4.19764836,  8.45235164, 16.84529932],\n",
       "                   [-4.2       ,  4.19767567,  8.50232433, 16.89535386],\n",
       "                   [-4.2       ,  4.19770236,  8.55229764, 16.94540715],\n",
       "                   [-4.2       ,  4.19772845,  8.60227155, 16.99545923],\n",
       "                   [-4.2       ,  4.19775394,  8.65224606, 17.04551015],\n",
       "                   [-4.2       ,  4.19777887,  8.70222113, 17.09555994],\n",
       "                   [-4.2       ,  4.19780326,  8.75219674, 17.14560863],\n",
       "                   [-4.2       ,  4.19782711,  8.80217289, 17.19565628],\n",
       "                   [-4.2       ,  4.19785046,  8.85214954, 17.2457029 ],\n",
       "                   [-4.2       ,  4.1978733 ,  8.9021267 , 17.29574853],\n",
       "                   [-4.2       ,  4.19789567,  8.95210433, 17.3457932 ],\n",
       "                   [-4.2       ,  4.19791757,  9.00208243, 17.39583694],\n",
       "                   [-4.2       ,  4.19793902,  9.05206098, 17.44587979],\n",
       "                   [-4.2       ,  4.19796003,  9.10203997, 17.49592176],\n",
       "                   [-4.2       ,  4.19798062,  9.15201938, 17.54596289],\n",
       "                   [-4.2       ,  4.1980008 ,  9.2019992 , 17.59600319],\n",
       "                   [-4.2       ,  4.19802058,  9.25197942, 17.6460427 ],\n",
       "                   [-4.2       ,  4.19803997,  9.30196003, 17.69608144],\n",
       "                   [-4.2       ,  4.19805898,  9.35194102, 17.74611943],\n",
       "                   [-4.2       ,  4.19807763,  9.40192237, 17.79615669],\n",
       "                   [-4.2       ,  4.19809593,  9.45190407, 17.84619324],\n",
       "                   [-4.2       ,  4.19811388,  9.50188612, 17.8962291 ],\n",
       "                   [-4.2       ,  4.19813149,  9.55186851, 17.94626429],\n",
       "                   [-4.2       ,  4.19814878,  9.60185122, 17.99629883],\n",
       "                   [-4.2       ,  4.19816575,  9.65183425, 18.04633274],\n",
       "                   [-4.2       ,  4.19818242,  9.70181758, 18.09636604],\n",
       "                   [-4.2       ,  4.19819878,  9.75180122, 18.14639873],\n",
       "                   [-4.2       ,  4.19821485,  9.80178515, 18.19643085],\n",
       "                   [-4.2       ,  4.19823064,  9.85176936, 18.24646239],\n",
       "                   [-4.2       ,  4.19824615,  9.90175385, 18.29649339],\n",
       "                   [-4.2       ,  4.1982614 ,  9.9517386 , 18.34652384],\n",
       "                   [-4.2       ,  4.19827637, 10.00172363, 18.39655377],\n",
       "                   [-4.2       ,  4.1982911 , 10.0517089 , 18.44658319],\n",
       "                   [-4.2       ,  4.19830557, 10.10169443, 18.49661211],\n",
       "                   [-4.2       ,  4.1983198 , 10.1516802 , 18.54664055],\n",
       "                   [-4.2       ,  4.1983338 , 10.2016662 , 18.59666852],\n",
       "                   [-4.2       ,  4.19834756, 10.25165244, 18.64669602],\n",
       "                   [-4.2       ,  4.1983611 , 10.3016389 , 18.69672307],\n",
       "                   [-4.2       ,  4.19837441, 10.35162559, 18.74674969],\n",
       "                   [-4.2       ,  4.19838752, 10.40161248, 18.79677587],\n",
       "                   [-4.2       ,  4.19840041, 10.45159959, 18.84680164],\n",
       "                   [-4.2       ,  4.1984131 , 10.5015869 , 18.89682699],\n",
       "                   [-4.2       ,  4.19842559, 10.55157441, 18.94685195],\n",
       "                   [-4.2       ,  4.19843788, 10.60156212, 18.99687652],\n",
       "                   [-4.2       ,  4.19844998, 10.65155002, 19.04690071],\n",
       "                   [-4.2       ,  4.1984619 , 10.7015381 , 19.09692453],\n",
       "                   [-4.2       ,  4.19847364, 10.75152636, 19.14694799],\n",
       "                   [-4.2       ,  4.1984852 , 10.8015148 , 19.19697109],\n",
       "                   [-4.2       ,  4.19849658, 10.85150342, 19.24699384],\n",
       "                   [-4.2       ,  4.1985078 , 10.9014922 , 19.29701625],\n",
       "                   [-4.2       ,  4.19851884, 10.95148116, 19.34703834],\n",
       "                   [-4.2       ,  4.19852973, 11.00147027, 19.39706009],\n",
       "                   [-4.2       ,  4.19854046, 11.05145954, 19.44708154],\n",
       "                   [-4.2       ,  4.19855103, 11.10144897, 19.49710267],\n",
       "                   [-4.2       ,  4.19856145, 11.15143855, 19.54712349],\n",
       "                   [-4.2       ,  4.19857172, 11.20142828, 19.59714402],\n",
       "                   [-4.2       ,  4.19858185, 11.25141815, 19.64716426],\n",
       "                   [-4.2       ,  4.19859183, 11.30140817, 19.69718422],\n",
       "                   [-4.2       ,  4.19860167, 11.35139833, 19.74720389],\n",
       "                   [-4.2       ,  4.19861138, 11.40138862, 19.79722329],\n",
       "                   [-4.2       ,  4.19862095, 11.45137905, 19.84724243],\n",
       "                   [-4.2       ,  4.19863039, 11.50136961, 19.8972613 ],\n",
       "                   [-4.2       ,  4.19863971, 11.55136029, 19.94727992],\n",
       "                   [-4.2       ,  4.1986489 , 11.6013511 , 19.99729828],\n",
       "                   [-4.2       ,  4.19865796, 11.65134204, 20.0473164 ],\n",
       "                   [-4.2       ,  4.1986669 , 11.7013331 , 20.09733428],\n",
       "                   [-4.2       ,  4.19867573, 11.75132427, 20.14735192],\n",
       "                   [-4.2       ,  4.19868444, 11.80131556, 20.19736933],\n",
       "                   [-4.2       ,  4.19869303, 11.85130697, 20.24738651],\n",
       "                   [-4.2       ,  4.19870152, 11.90129848, 20.29740347],\n",
       "                   [-4.2       ,  4.19870989, 11.95129011, 20.34742021],\n",
       "                   [-4.2       ,  4.19871816, 12.00128184, 20.39743674],\n",
       "                   [-4.2       ,  4.19872632, 12.05127368, 20.44745306],\n",
       "                   [-4.2       ,  4.19873438, 12.10126562, 20.49746917],\n",
       "                   [-4.2       ,  4.19874234, 12.15125766, 20.54748507],\n",
       "                   [-4.2       ,  4.1987502 , 12.2012498 , 20.59750078],\n",
       "                   [-4.2       ,  4.19875796, 12.25124204, 20.64751629],\n",
       "                   [-4.2       ,  4.19876562, 12.30123438, 20.69753162],\n",
       "                   [-4.2       ,  4.19877319, 12.35122681, 20.74754675],\n",
       "                   [-4.2       ,  4.19878067, 12.40121933, 20.7975617 ],\n",
       "                   [-4.2       ,  4.19878806, 12.45121194, 20.84757647],\n",
       "                   [-4.2       ,  4.19879536, 12.50120464, 20.89759106],\n",
       "                   [-4.2       ,  4.19880257, 12.55119743, 20.94760548],\n",
       "                   [-4.2       ,  4.19880969, 12.60119031, 20.99761972],\n",
       "                   [-4.2       ,  4.19881673, 12.65118327, 21.0476338 ],\n",
       "                   [-4.2       ,  4.19882369, 12.70117631, 21.09764771],\n",
       "                   [-4.2       ,  4.19883057, 12.75116943, 21.14766146],\n",
       "                   [-4.2       ,  4.19883737, 12.80116263, 21.19767505],\n",
       "                   [-4.2       ,  4.19884409, 12.85115591, 21.24768848],\n",
       "                   [-4.2       ,  4.19885073, 12.90114927, 21.29770176],\n",
       "                   [-4.2       ,  4.19885729, 12.95114271, 21.34771488],\n",
       "                   [-4.2       ,  4.19886378, 13.00113622, 21.39772786],\n",
       "                   [-4.2       ,  4.1988702 , 13.0511298 , 21.44774069],\n",
       "                   [-4.2       ,  4.19887655, 13.10112345, 21.49775338],\n",
       "                   [-4.2       ,  4.19888282, 13.15111718, 21.54776592],\n",
       "                   [-4.2       ,  4.19888903, 13.20111097, 21.59777833],\n",
       "                   [-4.2       ,  4.19889516, 13.25110484, 21.64779059],\n",
       "                   [-4.2       ,  4.19890123, 13.30109877, 21.69780273],\n",
       "                   [-4.2       ,  4.19890723, 13.35109277, 21.74781473],\n",
       "                   [-4.2       ,  4.19891317, 13.40108683, 21.7978266 ],\n",
       "                   [-4.2       ,  4.19891905, 13.45108095, 21.84783834],\n",
       "                   [-4.2       ,  4.19892486, 13.50107514, 21.89784996],\n",
       "                   [-4.2       ,  4.1989306 , 13.5510694 , 21.94786145],\n",
       "                   [-4.2       ,  4.19893629, 13.60106371, 21.99787282],\n",
       "                   [-4.2       ,  4.19894192, 13.65105808, 22.04788407],\n",
       "                   [-4.2       ,  4.19894749, 13.70105251, 22.0978952 ],\n",
       "                   [-4.2       ,  4.19895299, 13.75104701, 22.14790622],\n",
       "                   [-4.2       ,  4.19895845, 13.80104155, 22.19791712],\n",
       "                   [-4.2       ,  4.19896384, 13.85103616, 22.24792791],\n",
       "                   [-4.2       ,  4.19896918, 13.90103082, 22.29793858],\n",
       "                   [-4.2       ,  4.19897447, 13.95102553, 22.34794915],\n",
       "                   [-4.2       ,  4.1989797 , 14.0010203 , 22.39795961],\n",
       "                   [-4.2       ,  4.19898488, 14.05101512, 22.44796996],\n",
       "                   [-4.2       ,  4.19899   , 14.10101   , 22.49798021],\n",
       "                   [-4.2       ,  4.19899508, 14.15100492, 22.54799036],\n",
       "                   [-4.2       ,  4.1990001 , 14.2009999 , 22.5980004 ]])"
      ]
     },
     "metadata": {},
     "execution_count": 32
    }
   ],
   "metadata": {}
  },
  {
   "cell_type": "code",
   "execution_count": 77,
   "source": [
    "interpolated_data = create_interpolated_data(x, 4, 8.4)"
   ],
   "outputs": [],
   "metadata": {}
  },
  {
   "cell_type": "code",
   "execution_count": 78,
   "source": [
    "print(interpolated_data\r\n",
    ")"
   ],
   "outputs": [
    {
     "output_type": "stream",
     "name": "stdout",
     "text": [
      "[[-4.2         4.1         4.3        12.45857864]\n",
      " [-4.2         4.12192236  4.32807764 12.53138593]\n",
      " [-4.2         4.1381966   4.3618034  12.6       ]\n",
      " [-4.2         4.15        4.4        12.66492189]\n",
      " [-4.2         4.15857864  4.44142136 12.72679492]\n",
      " [-4.2         4.16492189  4.48507811 12.78625414]\n",
      " [-4.2         4.16972244  4.53027756 12.84384472]\n",
      " [-4.2         4.17344356  4.57655644 12.9       ]\n",
      " [-4.2         4.1763932   4.6236068  12.95505103]\n",
      " [-4.2         4.17877855  4.67122145 13.00924635]\n",
      " [-4.2         4.18074176  4.71925824 13.06277187]\n",
      " [-4.2         4.1823825   4.7676175  13.11576708]\n",
      " [-4.2         4.18377223  4.81622777 13.16833752]\n",
      " [-4.2         4.18496324  4.86503676 13.22056383]\n",
      " [-4.2         4.18599451  4.91400549 13.27250828]\n",
      " [-4.2         4.18689563  4.96310437 13.32421951]\n",
      " [-4.2         4.18768944  5.01231056 13.37573593]\n",
      " [-4.2         4.18839377  5.06160623 13.42708818]\n",
      " [-4.2         4.18902278  5.11097722 13.47830094]\n",
      " [-4.2         4.1895878   5.1604122  13.52939431]\n",
      " [-4.2         4.19009805  5.20990195 13.58038476]\n",
      " [-4.2         4.19056104  5.25943896 13.63128592]\n",
      " [-4.2         4.19098301  5.30901699 13.68210917]\n",
      " [-4.2         4.19136912  5.35863088 13.73286404]\n",
      " [-4.2         4.19172375  5.40827625 13.7835586 ]\n",
      " [-4.2         4.19205055  5.45794945 13.83419972]\n",
      " [-4.2         4.19235268  5.50764732 13.88479327]\n",
      " [-4.2         4.1926328   5.5573672  13.93534429]\n",
      " [-4.2         4.19289322  5.60710678 13.98585716]\n",
      " [-4.2         4.19313594  5.65686406 14.03633566]\n",
      " [-4.2         4.1933627   5.7066373  14.08678312]\n",
      " [-4.2         4.19357502  5.75642498 14.13720244]\n",
      " [-4.2         4.19377423  5.80622577 14.18759616]\n",
      " [-4.2         4.19396149  5.85603851 14.23796655]\n",
      " [-4.2         4.19413786  5.90586214 14.2883156 ]\n",
      " [-4.2         4.19430425  5.95569575 14.3386451 ]\n",
      " [-4.2         4.19446149  6.00553851 14.38895664]\n",
      " [-4.2         4.1946103   6.0553897  14.43925164]\n",
      " [-4.2         4.19475134  6.10524866 14.48953136]\n",
      " [-4.2         4.19488521  6.15511479 14.53979698]\n",
      " [-4.2         4.19501244  6.20498756 14.59004951]\n",
      " [-4.2         4.1951335   6.2548665  14.6402899 ]\n",
      " [-4.2         4.19524884  6.30475116 14.69051899]\n",
      " [-4.2         4.19535886  6.35464114 14.74073758]\n",
      " [-4.2         4.1954639   6.4045361  14.79094635]\n",
      " [-4.2         4.1955643   6.4544357  14.84114595]\n",
      " [-4.2         4.19566036  6.50433964 14.89133698]\n",
      " [-4.2         4.19575236  6.55424764 14.94151996]\n",
      " [-4.2         4.19584054  6.60415946 14.9916954 ]\n",
      " [-4.2         4.19592514  6.65407486 15.04186375]\n",
      " [-4.2         4.19600638  6.70399362 15.09202544]\n",
      " [-4.2         4.19608444  6.75391556 15.14218084]\n",
      " [-4.2         4.19615952  6.80384048 15.19233032]\n",
      " [-4.2         4.19623177  6.85376823 15.2424742 ]\n",
      " [-4.2         4.19630136  6.90369864 15.2926128 ]\n",
      " [-4.2         4.19636843  6.95363157 15.34274641]\n",
      " [-4.2         4.19643312  7.00356688 15.39287527]\n",
      " [-4.2         4.19649554  7.05350446 15.44299965]\n",
      " [-4.2         4.19655581  7.10344419 15.49311977]\n",
      " [-4.2         4.19661406  7.15338594 15.54323585]\n",
      " [-4.2         4.19667036  7.20332964 15.59334808]\n",
      " [-4.2         4.19672483  7.25327517 15.64345666]\n",
      " [-4.2         4.19677754  7.30322246 15.69356176]\n",
      " [-4.2         4.19682859  7.35317141 15.74366354]\n",
      " [-4.2         4.19687805  7.40312195 15.79376216]\n",
      " [-4.2         4.19692598  7.45307402 15.84385776]\n",
      " [-4.2         4.19697247  7.50302753 15.89395048]\n",
      " [-4.2         4.19701758  7.55298242 15.94404045]\n",
      " [-4.2         4.19706136  7.60293864 15.99412779]\n",
      " [-4.2         4.19710388  7.65289612 16.04421261]\n",
      " [-4.2         4.19714519  7.70285481 16.09429501]\n",
      " [-4.2         4.19718533  7.75281467 16.14437511]\n",
      " [-4.2         4.19722436  7.80277564 16.19445299]\n",
      " [-4.2         4.19726233  7.85273767 16.24452875]\n",
      " [-4.2         4.19729927  7.90270073 16.29460247]\n",
      " [-4.2         4.19733523  7.95266477 16.34467423]\n",
      " [-4.2         4.19737024  8.00262976 16.39474411]\n",
      " [-4.2         4.19740435  8.05259565 16.44481219]\n",
      " [-4.2         4.19743758  8.10256242 16.49487852]\n",
      " [-4.2         4.19746997  8.15253003 16.54494318]\n",
      " [-4.2         4.19750156  8.20249844 16.59500623]\n",
      " [-4.2         4.19753237  8.25246763 16.64506774]\n",
      " [-4.2         4.19756242  8.30243758 16.69512774]\n",
      " [-4.2         4.19759176  8.35240824 16.74518631]\n",
      " [-4.2         4.1976204   8.4023796  16.79524348]\n",
      " [-4.2         4.19764836  8.45235164 16.84529932]\n",
      " [-4.2         4.19767567  8.50232433 16.89535386]\n",
      " [-4.2         4.19770236  8.55229764 16.94540715]\n",
      " [-4.2         4.19772845  8.60227155 16.99545923]\n",
      " [-4.2         4.19775394  8.65224606 17.04551015]\n",
      " [-4.2         4.19777887  8.70222113 17.09555994]\n",
      " [-4.2         4.19780326  8.75219674 17.14560863]\n",
      " [-4.2         4.19782711  8.80217289 17.19565628]\n",
      " [-4.2         4.19785046  8.85214954 17.2457029 ]\n",
      " [-4.2         4.1978733   8.9021267  17.29574853]\n",
      " [-4.2         4.19789567  8.95210433 17.3457932 ]\n",
      " [-4.2         4.19791757  9.00208243 17.39583694]\n",
      " [-4.2         4.19793902  9.05206098 17.44587979]\n",
      " [-4.2         4.19796003  9.10203997 17.49592176]\n",
      " [-4.2         4.19798062  9.15201938 17.54596289]\n",
      " [-4.2         4.1980008   9.2019992  17.59600319]\n",
      " [-4.2         4.19802058  9.25197942 17.6460427 ]\n",
      " [-4.2         4.19803997  9.30196003 17.69608144]\n",
      " [-4.2         4.19805898  9.35194102 17.74611943]\n",
      " [-4.2         4.19807763  9.40192237 17.79615669]\n",
      " [-4.2         4.19809593  9.45190407 17.84619324]\n",
      " [-4.2         4.19811388  9.50188612 17.8962291 ]\n",
      " [-4.2         4.19813149  9.55186851 17.94626429]\n",
      " [-4.2         4.19814878  9.60185122 17.99629883]\n",
      " [-4.2         4.19816575  9.65183425 18.04633274]\n",
      " [-4.2         4.19818242  9.70181758 18.09636604]\n",
      " [-4.2         4.19819878  9.75180122 18.14639873]\n",
      " [-4.2         4.19821485  9.80178515 18.19643085]\n",
      " [-4.2         4.19823064  9.85176936 18.24646239]\n",
      " [-4.2         4.19824615  9.90175385 18.29649339]\n",
      " [-4.2         4.1982614   9.9517386  18.34652384]\n",
      " [-4.2         4.19827637 10.00172363 18.39655377]\n",
      " [-4.2         4.1982911  10.0517089  18.44658319]\n",
      " [-4.2         4.19830557 10.10169443 18.49661211]\n",
      " [-4.2         4.1983198  10.1516802  18.54664055]\n",
      " [-4.2         4.1983338  10.2016662  18.59666852]\n",
      " [-4.2         4.19834756 10.25165244 18.64669602]\n",
      " [-4.2         4.1983611  10.3016389  18.69672307]\n",
      " [-4.2         4.19837441 10.35162559 18.74674969]\n",
      " [-4.2         4.19838752 10.40161248 18.79677587]\n",
      " [-4.2         4.19840041 10.45159959 18.84680164]\n",
      " [-4.2         4.1984131  10.5015869  18.89682699]\n",
      " [-4.2         4.19842559 10.55157441 18.94685195]\n",
      " [-4.2         4.19843788 10.60156212 18.99687652]\n",
      " [-4.2         4.19844998 10.65155002 19.04690071]\n",
      " [-4.2         4.1984619  10.7015381  19.09692453]\n",
      " [-4.2         4.19847364 10.75152636 19.14694799]\n",
      " [-4.2         4.1984852  10.8015148  19.19697109]\n",
      " [-4.2         4.19849658 10.85150342 19.24699384]\n",
      " [-4.2         4.1985078  10.9014922  19.29701625]\n",
      " [-4.2         4.19851884 10.95148116 19.34703834]\n",
      " [-4.2         4.19852973 11.00147027 19.39706009]\n",
      " [-4.2         4.19854046 11.05145954 19.44708154]\n",
      " [-4.2         4.19855103 11.10144897 19.49710267]\n",
      " [-4.2         4.19856145 11.15143855 19.54712349]\n",
      " [-4.2         4.19857172 11.20142828 19.59714402]\n",
      " [-4.2         4.19858185 11.25141815 19.64716426]\n",
      " [-4.2         4.19859183 11.30140817 19.69718422]\n",
      " [-4.2         4.19860167 11.35139833 19.74720389]\n",
      " [-4.2         4.19861138 11.40138862 19.79722329]\n",
      " [-4.2         4.19862095 11.45137905 19.84724243]\n",
      " [-4.2         4.19863039 11.50136961 19.8972613 ]\n",
      " [-4.2         4.19863971 11.55136029 19.94727992]\n",
      " [-4.2         4.1986489  11.6013511  19.99729828]\n",
      " [-4.2         4.19865796 11.65134204 20.0473164 ]\n",
      " [-4.2         4.1986669  11.7013331  20.09733428]\n",
      " [-4.2         4.19867573 11.75132427 20.14735192]\n",
      " [-4.2         4.19868444 11.80131556 20.19736933]\n",
      " [-4.2         4.19869303 11.85130697 20.24738651]\n",
      " [-4.2         4.19870152 11.90129848 20.29740347]\n",
      " [-4.2         4.19870989 11.95129011 20.34742021]\n",
      " [-4.2         4.19871816 12.00128184 20.39743674]\n",
      " [-4.2         4.19872632 12.05127368 20.44745306]\n",
      " [-4.2         4.19873438 12.10126562 20.49746917]\n",
      " [-4.2         4.19874234 12.15125766 20.54748507]\n",
      " [-4.2         4.1987502  12.2012498  20.59750078]\n",
      " [-4.2         4.19875796 12.25124204 20.64751629]\n",
      " [-4.2         4.19876562 12.30123438 20.69753162]\n",
      " [-4.2         4.19877319 12.35122681 20.74754675]\n",
      " [-4.2         4.19878067 12.40121933 20.7975617 ]\n",
      " [-4.2         4.19878806 12.45121194 20.84757647]\n",
      " [-4.2         4.19879536 12.50120464 20.89759106]\n",
      " [-4.2         4.19880257 12.55119743 20.94760548]\n",
      " [-4.2         4.19880969 12.60119031 20.99761972]\n",
      " [-4.2         4.19881673 12.65118327 21.0476338 ]\n",
      " [-4.2         4.19882369 12.70117631 21.09764771]\n",
      " [-4.2         4.19883057 12.75116943 21.14766146]\n",
      " [-4.2         4.19883737 12.80116263 21.19767505]\n",
      " [-4.2         4.19884409 12.85115591 21.24768848]\n",
      " [-4.2         4.19885073 12.90114927 21.29770176]\n",
      " [-4.2         4.19885729 12.95114271 21.34771488]\n",
      " [-4.2         4.19886378 13.00113622 21.39772786]\n",
      " [-4.2         4.1988702  13.0511298  21.44774069]\n",
      " [-4.2         4.19887655 13.10112345 21.49775338]\n",
      " [-4.2         4.19888282 13.15111718 21.54776592]\n",
      " [-4.2         4.19888903 13.20111097 21.59777833]\n",
      " [-4.2         4.19889516 13.25110484 21.64779059]\n",
      " [-4.2         4.19890123 13.30109877 21.69780273]\n",
      " [-4.2         4.19890723 13.35109277 21.74781473]\n",
      " [-4.2         4.19891317 13.40108683 21.7978266 ]\n",
      " [-4.2         4.19891905 13.45108095 21.84783834]\n",
      " [-4.2         4.19892486 13.50107514 21.89784996]\n",
      " [-4.2         4.1989306  13.5510694  21.94786145]\n",
      " [-4.2         4.19893629 13.60106371 21.99787282]\n",
      " [-4.2         4.19894192 13.65105808 22.04788407]\n",
      " [-4.2         4.19894749 13.70105251 22.0978952 ]\n",
      " [-4.2         4.19895299 13.75104701 22.14790622]\n",
      " [-4.2         4.19895845 13.80104155 22.19791712]\n",
      " [-4.2         4.19896384 13.85103616 22.24792791]\n",
      " [-4.2         4.19896918 13.90103082 22.29793858]\n",
      " [-4.2         4.19897447 13.95102553 22.34794915]\n",
      " [-4.2         4.1989797  14.0010203  22.39795961]\n",
      " [-4.2         4.19898488 14.05101512 22.44796996]\n",
      " [-4.2         4.19899    14.10101    22.49798021]\n",
      " [-4.2         4.19899508 14.15100492 22.54799036]\n",
      " [-4.2         4.1990001  14.2009999  22.5980004 ]]\n"
     ]
    }
   ],
   "metadata": {}
  },
  {
   "cell_type": "code",
   "execution_count": 55,
   "source": [
    "for param, param_x in sweep.param_info.items():\r\n",
    "    print (param, param_x.size)"
   ],
   "outputs": [
    {
     "output_type": "stream",
     "name": "stdout",
     "text": [
      "E 201\n",
      "detuning 201\n"
     ]
    }
   ],
   "metadata": {}
  },
  {
   "cell_type": "code",
   "execution_count": 37,
   "source": [
    "egv_x = np.linspace(0, 3, 4)\r\n",
    "points = (x, x, egv_x)"
   ],
   "outputs": [],
   "metadata": {}
  },
  {
   "cell_type": "code",
   "execution_count": 43,
   "source": [
    "interpolated_size = ()\r\n",
    "for i in range(len(points)):\r\n",
    "    if isinstance(points[i], np.ndarray):\r\n",
    "        interpolated_size = interpolated_size + (points[i].size,)\r\n",
    "    else:\r\n",
    "        interpolated_size = interpolated_size + (points[i],)\r\n",
    "\r\n",
    "interpolated_size"
   ],
   "outputs": [
    {
     "output_type": "execute_result",
     "data": {
      "text/plain": [
       "(201, 201, 4)"
      ]
     },
     "metadata": {},
     "execution_count": 43
    }
   ],
   "metadata": {}
  },
  {
   "cell_type": "code",
   "execution_count": 79,
   "source": [
    "current_values ={\r\n",
    "    \"E\": 8.4, \r\n",
    "    \"detuning\":1.5\r\n",
    "}\r\n",
    "\r\n",
    "def create_point(sweep, current_values, sweep_value, evals_value):\r\n",
    "    point = []\r\n",
    "    for param, value in current_values.items():\r\n",
    "        if param == sweep:\r\n",
    "            point.append(sweep_value)\r\n",
    "        else:\r\n",
    "            point.append(value)\r\n",
    "    point.append(evals_value)\r\n",
    "\r\n",
    "    return point\r\n",
    "\r\n",
    "def create_points(parametersweep, evals):\r\n",
    "    points = ()\r\n",
    "    for param, param_x in parametersweep.param_info.items():\r\n",
    "        points = points + (param_x,)\r\n",
    "    \r\n",
    "    evals_x = np.linspace(0, evals-1, evals)\r\n",
    "    points = points + (evals_x,)\r\n",
    "\r\n",
    "    return points\r\n",
    "\r\n",
    "def get_interpolated_data_size(parametersweep, sweep, evals):\r\n",
    "    interpolated_size = ()\r\n",
    "    for param, param_x in parametersweep.param_info.items():\r\n",
    "        if param != sweep:\r\n",
    "            interpolated_size = interpolated_size + (param_x.size,)\r\n",
    "    \r\n",
    "    interpolated_size = interpolated_size + (evals,)\r\n",
    "\r\n",
    "    return interpolated_size\r\n",
    "\r\n",
    "def create_interpolated_data(parametersweep, sweep, current_values):\r\n",
    "    evals = parametersweep.eigenvals().shape[-1]\r\n",
    "    sweep_x = parametersweep.param_info[sweep]\r\n",
    "    points = create_points(parametersweep, evals)\r\n",
    "    values = parametersweep[\"evals\"]\r\n",
    "\r\n",
    "    matrix_size = get_interpolated_data_size(parametersweep, sweep, evals)\r\n",
    "    matrix = np.zeros(matrix_size)\r\n",
    "    row_index = 0\r\n",
    "    for sweep_value in sweep_x:\r\n",
    "        column_index = 0\r\n",
    "        for evals_value in points[-1]:\r\n",
    "            point = create_point(sweep, current_values, sweep_value, evals_value)\r\n",
    "            matrix[row_index, column_index] = interpolate.interpn(points, values, np.array(point))[0]\r\n",
    "            column_index+=1\r\n",
    "        row_index+=1\r\n",
    "    return matrix"
   ],
   "outputs": [],
   "metadata": {}
  },
  {
   "cell_type": "code",
   "execution_count": 81,
   "source": [
    "create_interpolated_data(sweep, 'detuning', current_values)"
   ],
   "outputs": [
    {
     "output_type": "execute_result",
     "data": {
      "text/plain": [
       "array([[-4.2       ,  4.1       ,  4.3       , 12.45857864],\n",
       "       [-4.2       ,  4.12192236,  4.32807764, 12.53138593],\n",
       "       [-4.2       ,  4.1381966 ,  4.3618034 , 12.6       ],\n",
       "       [-4.2       ,  4.15      ,  4.4       , 12.66492189],\n",
       "       [-4.2       ,  4.15857864,  4.44142136, 12.72679492],\n",
       "       [-4.2       ,  4.16492189,  4.48507811, 12.78625414],\n",
       "       [-4.2       ,  4.16972244,  4.53027756, 12.84384472],\n",
       "       [-4.2       ,  4.17344356,  4.57655644, 12.9       ],\n",
       "       [-4.2       ,  4.1763932 ,  4.6236068 , 12.95505103],\n",
       "       [-4.2       ,  4.17877855,  4.67122145, 13.00924635],\n",
       "       [-4.2       ,  4.18074176,  4.71925824, 13.06277187],\n",
       "       [-4.2       ,  4.1823825 ,  4.7676175 , 13.11576708],\n",
       "       [-4.2       ,  4.18377223,  4.81622777, 13.16833752],\n",
       "       [-4.2       ,  4.18496324,  4.86503676, 13.22056383],\n",
       "       [-4.2       ,  4.18599451,  4.91400549, 13.27250828],\n",
       "       [-4.2       ,  4.18689563,  4.96310437, 13.32421951],\n",
       "       [-4.2       ,  4.18768944,  5.01231056, 13.37573593],\n",
       "       [-4.2       ,  4.18839377,  5.06160623, 13.42708818],\n",
       "       [-4.2       ,  4.18902278,  5.11097722, 13.47830094],\n",
       "       [-4.2       ,  4.1895878 ,  5.1604122 , 13.52939431],\n",
       "       [-4.2       ,  4.19009805,  5.20990195, 13.58038476],\n",
       "       [-4.2       ,  4.19056104,  5.25943896, 13.63128592],\n",
       "       [-4.2       ,  4.19098301,  5.30901699, 13.68210917],\n",
       "       [-4.2       ,  4.19136912,  5.35863088, 13.73286404],\n",
       "       [-4.2       ,  4.19172375,  5.40827625, 13.7835586 ],\n",
       "       [-4.2       ,  4.19205055,  5.45794945, 13.83419972],\n",
       "       [-4.2       ,  4.19235268,  5.50764732, 13.88479327],\n",
       "       [-4.2       ,  4.1926328 ,  5.5573672 , 13.93534429],\n",
       "       [-4.2       ,  4.19289322,  5.60710678, 13.98585716],\n",
       "       [-4.2       ,  4.19313594,  5.65686406, 14.03633566],\n",
       "       [-4.2       ,  4.1933627 ,  5.7066373 , 14.08678312],\n",
       "       [-4.2       ,  4.19357502,  5.75642498, 14.13720244],\n",
       "       [-4.2       ,  4.19377423,  5.80622577, 14.18759616],\n",
       "       [-4.2       ,  4.19396149,  5.85603851, 14.23796655],\n",
       "       [-4.2       ,  4.19413786,  5.90586214, 14.2883156 ],\n",
       "       [-4.2       ,  4.19430425,  5.95569575, 14.3386451 ],\n",
       "       [-4.2       ,  4.19446149,  6.00553851, 14.38895664],\n",
       "       [-4.2       ,  4.1946103 ,  6.0553897 , 14.43925164],\n",
       "       [-4.2       ,  4.19475134,  6.10524866, 14.48953136],\n",
       "       [-4.2       ,  4.19488521,  6.15511479, 14.53979698],\n",
       "       [-4.2       ,  4.19501244,  6.20498756, 14.59004951],\n",
       "       [-4.2       ,  4.1951335 ,  6.2548665 , 14.6402899 ],\n",
       "       [-4.2       ,  4.19524884,  6.30475116, 14.69051899],\n",
       "       [-4.2       ,  4.19535886,  6.35464114, 14.74073758],\n",
       "       [-4.2       ,  4.1954639 ,  6.4045361 , 14.79094635],\n",
       "       [-4.2       ,  4.1955643 ,  6.4544357 , 14.84114595],\n",
       "       [-4.2       ,  4.19566036,  6.50433964, 14.89133698],\n",
       "       [-4.2       ,  4.19575236,  6.55424764, 14.94151996],\n",
       "       [-4.2       ,  4.19584054,  6.60415946, 14.9916954 ],\n",
       "       [-4.2       ,  4.19592514,  6.65407486, 15.04186375],\n",
       "       [-4.2       ,  4.19600638,  6.70399362, 15.09202544],\n",
       "       [-4.2       ,  4.19608444,  6.75391556, 15.14218084],\n",
       "       [-4.2       ,  4.19615952,  6.80384048, 15.19233032],\n",
       "       [-4.2       ,  4.19623177,  6.85376823, 15.2424742 ],\n",
       "       [-4.2       ,  4.19630136,  6.90369864, 15.2926128 ],\n",
       "       [-4.2       ,  4.19636843,  6.95363157, 15.34274641],\n",
       "       [-4.2       ,  4.19643312,  7.00356688, 15.39287527],\n",
       "       [-4.2       ,  4.19649554,  7.05350446, 15.44299965],\n",
       "       [-4.2       ,  4.19655581,  7.10344419, 15.49311977],\n",
       "       [-4.2       ,  4.19661406,  7.15338594, 15.54323585],\n",
       "       [-4.2       ,  4.19667036,  7.20332964, 15.59334808],\n",
       "       [-4.2       ,  4.19672483,  7.25327517, 15.64345666],\n",
       "       [-4.2       ,  4.19677754,  7.30322246, 15.69356176],\n",
       "       [-4.2       ,  4.19682859,  7.35317141, 15.74366354],\n",
       "       [-4.2       ,  4.19687805,  7.40312195, 15.79376216],\n",
       "       [-4.2       ,  4.19692598,  7.45307402, 15.84385776],\n",
       "       [-4.2       ,  4.19697247,  7.50302753, 15.89395048],\n",
       "       [-4.2       ,  4.19701758,  7.55298242, 15.94404045],\n",
       "       [-4.2       ,  4.19706136,  7.60293864, 15.99412779],\n",
       "       [-4.2       ,  4.19710388,  7.65289612, 16.04421261],\n",
       "       [-4.2       ,  4.19714519,  7.70285481, 16.09429501],\n",
       "       [-4.2       ,  4.19718533,  7.75281467, 16.14437511],\n",
       "       [-4.2       ,  4.19722436,  7.80277564, 16.19445299],\n",
       "       [-4.2       ,  4.19726233,  7.85273767, 16.24452875],\n",
       "       [-4.2       ,  4.19729927,  7.90270073, 16.29460247],\n",
       "       [-4.2       ,  4.19733523,  7.95266477, 16.34467423],\n",
       "       [-4.2       ,  4.19737024,  8.00262976, 16.39474411],\n",
       "       [-4.2       ,  4.19740435,  8.05259565, 16.44481219],\n",
       "       [-4.2       ,  4.19743758,  8.10256242, 16.49487852],\n",
       "       [-4.2       ,  4.19746997,  8.15253003, 16.54494318],\n",
       "       [-4.2       ,  4.19750156,  8.20249844, 16.59500623],\n",
       "       [-4.2       ,  4.19753237,  8.25246763, 16.64506774],\n",
       "       [-4.2       ,  4.19756242,  8.30243758, 16.69512774],\n",
       "       [-4.2       ,  4.19759176,  8.35240824, 16.74518631],\n",
       "       [-4.2       ,  4.1976204 ,  8.4023796 , 16.79524348],\n",
       "       [-4.2       ,  4.19764836,  8.45235164, 16.84529932],\n",
       "       [-4.2       ,  4.19767567,  8.50232433, 16.89535386],\n",
       "       [-4.2       ,  4.19770236,  8.55229764, 16.94540715],\n",
       "       [-4.2       ,  4.19772845,  8.60227155, 16.99545923],\n",
       "       [-4.2       ,  4.19775394,  8.65224606, 17.04551015],\n",
       "       [-4.2       ,  4.19777887,  8.70222113, 17.09555994],\n",
       "       [-4.2       ,  4.19780326,  8.75219674, 17.14560863],\n",
       "       [-4.2       ,  4.19782711,  8.80217289, 17.19565628],\n",
       "       [-4.2       ,  4.19785046,  8.85214954, 17.2457029 ],\n",
       "       [-4.2       ,  4.1978733 ,  8.9021267 , 17.29574853],\n",
       "       [-4.2       ,  4.19789567,  8.95210433, 17.3457932 ],\n",
       "       [-4.2       ,  4.19791757,  9.00208243, 17.39583694],\n",
       "       [-4.2       ,  4.19793902,  9.05206098, 17.44587979],\n",
       "       [-4.2       ,  4.19796003,  9.10203997, 17.49592176],\n",
       "       [-4.2       ,  4.19798062,  9.15201938, 17.54596289],\n",
       "       [-4.2       ,  4.1980008 ,  9.2019992 , 17.59600319],\n",
       "       [-4.2       ,  4.19802058,  9.25197942, 17.6460427 ],\n",
       "       [-4.2       ,  4.19803997,  9.30196003, 17.69608144],\n",
       "       [-4.2       ,  4.19805898,  9.35194102, 17.74611943],\n",
       "       [-4.2       ,  4.19807763,  9.40192237, 17.79615669],\n",
       "       [-4.2       ,  4.19809593,  9.45190407, 17.84619324],\n",
       "       [-4.2       ,  4.19811388,  9.50188612, 17.8962291 ],\n",
       "       [-4.2       ,  4.19813149,  9.55186851, 17.94626429],\n",
       "       [-4.2       ,  4.19814878,  9.60185122, 17.99629883],\n",
       "       [-4.2       ,  4.19816575,  9.65183425, 18.04633274],\n",
       "       [-4.2       ,  4.19818242,  9.70181758, 18.09636604],\n",
       "       [-4.2       ,  4.19819878,  9.75180122, 18.14639873],\n",
       "       [-4.2       ,  4.19821485,  9.80178515, 18.19643085],\n",
       "       [-4.2       ,  4.19823064,  9.85176936, 18.24646239],\n",
       "       [-4.2       ,  4.19824615,  9.90175385, 18.29649339],\n",
       "       [-4.2       ,  4.1982614 ,  9.9517386 , 18.34652384],\n",
       "       [-4.2       ,  4.19827637, 10.00172363, 18.39655377],\n",
       "       [-4.2       ,  4.1982911 , 10.0517089 , 18.44658319],\n",
       "       [-4.2       ,  4.19830557, 10.10169443, 18.49661211],\n",
       "       [-4.2       ,  4.1983198 , 10.1516802 , 18.54664055],\n",
       "       [-4.2       ,  4.1983338 , 10.2016662 , 18.59666852],\n",
       "       [-4.2       ,  4.19834756, 10.25165244, 18.64669602],\n",
       "       [-4.2       ,  4.1983611 , 10.3016389 , 18.69672307],\n",
       "       [-4.2       ,  4.19837441, 10.35162559, 18.74674969],\n",
       "       [-4.2       ,  4.19838752, 10.40161248, 18.79677587],\n",
       "       [-4.2       ,  4.19840041, 10.45159959, 18.84680164],\n",
       "       [-4.2       ,  4.1984131 , 10.5015869 , 18.89682699],\n",
       "       [-4.2       ,  4.19842559, 10.55157441, 18.94685195],\n",
       "       [-4.2       ,  4.19843788, 10.60156212, 18.99687652],\n",
       "       [-4.2       ,  4.19844998, 10.65155002, 19.04690071],\n",
       "       [-4.2       ,  4.1984619 , 10.7015381 , 19.09692453],\n",
       "       [-4.2       ,  4.19847364, 10.75152636, 19.14694799],\n",
       "       [-4.2       ,  4.1984852 , 10.8015148 , 19.19697109],\n",
       "       [-4.2       ,  4.19849658, 10.85150342, 19.24699384],\n",
       "       [-4.2       ,  4.1985078 , 10.9014922 , 19.29701625],\n",
       "       [-4.2       ,  4.19851884, 10.95148116, 19.34703834],\n",
       "       [-4.2       ,  4.19852973, 11.00147027, 19.39706009],\n",
       "       [-4.2       ,  4.19854046, 11.05145954, 19.44708154],\n",
       "       [-4.2       ,  4.19855103, 11.10144897, 19.49710267],\n",
       "       [-4.2       ,  4.19856145, 11.15143855, 19.54712349],\n",
       "       [-4.2       ,  4.19857172, 11.20142828, 19.59714402],\n",
       "       [-4.2       ,  4.19858185, 11.25141815, 19.64716426],\n",
       "       [-4.2       ,  4.19859183, 11.30140817, 19.69718422],\n",
       "       [-4.2       ,  4.19860167, 11.35139833, 19.74720389],\n",
       "       [-4.2       ,  4.19861138, 11.40138862, 19.79722329],\n",
       "       [-4.2       ,  4.19862095, 11.45137905, 19.84724243],\n",
       "       [-4.2       ,  4.19863039, 11.50136961, 19.8972613 ],\n",
       "       [-4.2       ,  4.19863971, 11.55136029, 19.94727992],\n",
       "       [-4.2       ,  4.1986489 , 11.6013511 , 19.99729828],\n",
       "       [-4.2       ,  4.19865796, 11.65134204, 20.0473164 ],\n",
       "       [-4.2       ,  4.1986669 , 11.7013331 , 20.09733428],\n",
       "       [-4.2       ,  4.19867573, 11.75132427, 20.14735192],\n",
       "       [-4.2       ,  4.19868444, 11.80131556, 20.19736933],\n",
       "       [-4.2       ,  4.19869303, 11.85130697, 20.24738651],\n",
       "       [-4.2       ,  4.19870152, 11.90129848, 20.29740347],\n",
       "       [-4.2       ,  4.19870989, 11.95129011, 20.34742021],\n",
       "       [-4.2       ,  4.19871816, 12.00128184, 20.39743674],\n",
       "       [-4.2       ,  4.19872632, 12.05127368, 20.44745306],\n",
       "       [-4.2       ,  4.19873438, 12.10126562, 20.49746917],\n",
       "       [-4.2       ,  4.19874234, 12.15125766, 20.54748507],\n",
       "       [-4.2       ,  4.1987502 , 12.2012498 , 20.59750078],\n",
       "       [-4.2       ,  4.19875796, 12.25124204, 20.64751629],\n",
       "       [-4.2       ,  4.19876562, 12.30123438, 20.69753162],\n",
       "       [-4.2       ,  4.19877319, 12.35122681, 20.74754675],\n",
       "       [-4.2       ,  4.19878067, 12.40121933, 20.7975617 ],\n",
       "       [-4.2       ,  4.19878806, 12.45121194, 20.84757647],\n",
       "       [-4.2       ,  4.19879536, 12.50120464, 20.89759106],\n",
       "       [-4.2       ,  4.19880257, 12.55119743, 20.94760548],\n",
       "       [-4.2       ,  4.19880969, 12.60119031, 20.99761972],\n",
       "       [-4.2       ,  4.19881673, 12.65118327, 21.0476338 ],\n",
       "       [-4.2       ,  4.19882369, 12.70117631, 21.09764771],\n",
       "       [-4.2       ,  4.19883057, 12.75116943, 21.14766146],\n",
       "       [-4.2       ,  4.19883737, 12.80116263, 21.19767505],\n",
       "       [-4.2       ,  4.19884409, 12.85115591, 21.24768848],\n",
       "       [-4.2       ,  4.19885073, 12.90114927, 21.29770176],\n",
       "       [-4.2       ,  4.19885729, 12.95114271, 21.34771488],\n",
       "       [-4.2       ,  4.19886378, 13.00113622, 21.39772786],\n",
       "       [-4.2       ,  4.1988702 , 13.0511298 , 21.44774069],\n",
       "       [-4.2       ,  4.19887655, 13.10112345, 21.49775338],\n",
       "       [-4.2       ,  4.19888282, 13.15111718, 21.54776592],\n",
       "       [-4.2       ,  4.19888903, 13.20111097, 21.59777833],\n",
       "       [-4.2       ,  4.19889516, 13.25110484, 21.64779059],\n",
       "       [-4.2       ,  4.19890123, 13.30109877, 21.69780273],\n",
       "       [-4.2       ,  4.19890723, 13.35109277, 21.74781473],\n",
       "       [-4.2       ,  4.19891317, 13.40108683, 21.7978266 ],\n",
       "       [-4.2       ,  4.19891905, 13.45108095, 21.84783834],\n",
       "       [-4.2       ,  4.19892486, 13.50107514, 21.89784996],\n",
       "       [-4.2       ,  4.1989306 , 13.5510694 , 21.94786145],\n",
       "       [-4.2       ,  4.19893629, 13.60106371, 21.99787282],\n",
       "       [-4.2       ,  4.19894192, 13.65105808, 22.04788407],\n",
       "       [-4.2       ,  4.19894749, 13.70105251, 22.0978952 ],\n",
       "       [-4.2       ,  4.19895299, 13.75104701, 22.14790622],\n",
       "       [-4.2       ,  4.19895845, 13.80104155, 22.19791712],\n",
       "       [-4.2       ,  4.19896384, 13.85103616, 22.24792791],\n",
       "       [-4.2       ,  4.19896918, 13.90103082, 22.29793858],\n",
       "       [-4.2       ,  4.19897447, 13.95102553, 22.34794915],\n",
       "       [-4.2       ,  4.1989797 , 14.0010203 , 22.39795961],\n",
       "       [-4.2       ,  4.19898488, 14.05101512, 22.44796996],\n",
       "       [-4.2       ,  4.19899   , 14.10101   , 22.49798021],\n",
       "       [-4.2       ,  4.19899508, 14.15100492, 22.54799036],\n",
       "       [-4.2       ,  4.1990001 , 14.2009999 , 22.5980004 ]])"
      ]
     },
     "metadata": {},
     "execution_count": 81
    }
   ],
   "metadata": {}
  },
  {
   "cell_type": "code",
   "execution_count": 17,
   "source": [
    "sweep.get_subsys(0).default_params().keys()"
   ],
   "outputs": [
    {
     "output_type": "execute_result",
     "data": {
      "text/plain": [
       "dict_keys(['E'])"
      ]
     },
     "metadata": {},
     "execution_count": 17
    }
   ],
   "metadata": {}
  },
  {
   "cell_type": "code",
   "execution_count": 8,
   "source": [
    "hilbertspace.get_initdata"
   ],
   "outputs": [
    {
     "output_type": "execute_result",
     "data": {
      "text/plain": [
       "<bound method HilbertSpace.get_initdata of HilbertSpace(**{'subsystem_list': (GenericQubit(**{'E': 0.0, 'id_str': 'GenericQubit_1'}), Oscillator(**{'E_osc': 0.0, 'l_osc': None, 'truncated_dim': 6, 'id_str': 'Oscillator_1'})), 'interaction_list': [InteractionTerm(**{'g_strength': 0.1, 'operator_list': [(1, array([[0.        , 1.        , 0.        , 0.        , 0.        ,\n",
       "        0.        ],\n",
       "       [0.        , 0.        , 1.41421356, 0.        , 0.        ,\n",
       "        0.        ],\n",
       "       [0.        , 0.        , 0.        , 1.73205081, 0.        ,\n",
       "        0.        ],\n",
       "       [0.        , 0.        , 0.        , 0.        , 2.        ,\n",
       "        0.        ],\n",
       "       [0.        , 0.        , 0.        , 0.        , 0.        ,\n",
       "        2.23606798],\n",
       "       [0.        , 0.        , 0.        , 0.        , 0.        ,\n",
       "        0.        ]])), (0, array([[0., 1.],\n",
       "       [0., 0.]]))], 'add_hc': True})]})>"
      ]
     },
     "metadata": {},
     "execution_count": 8
    }
   ],
   "metadata": {}
  },
  {
   "cell_type": "code",
   "execution_count": 5,
   "source": [
    "for subsys in sweep.system_params['subsystem_list']:\r\n",
    "    print(subsys.get_initdata())"
   ],
   "outputs": [
    {
     "output_type": "stream",
     "name": "stdout",
     "text": [
      "{'E': 0.0, 'id_str': 'GenericQubit_1'}\n",
      "{'E_osc': 0.0, 'l_osc': None, 'truncated_dim': 6, 'id_str': 'Oscillator_1'}\n"
     ]
    }
   ],
   "metadata": {}
  },
  {
   "cell_type": "code",
   "execution_count": 14,
   "source": [
    "for param, param_dict in sweep.param_info.items():\r\n",
    "    print(param_dict[-1])\r\n",
    "\r\n",
    "sweep.param_info.items()"
   ],
   "outputs": [
    {
     "output_type": "stream",
     "name": "stdout",
     "text": [
      "10.0\n",
      "10.0\n"
     ]
    },
    {
     "output_type": "execute_result",
     "data": {
      "text/plain": [
       "odict_items([('E', array([ 0. ,  0.5,  1. ,  1.5,  2. ,  2.5,  3. ,  3.5,  4. ,  4.5,  5. ,\n",
       "        5.5,  6. ,  6.5,  7. ,  7.5,  8. ,  8.5,  9. ,  9.5, 10. ])), ('detuning', array([ 0. ,  0.5,  1. ,  1.5,  2. ,  2.5,  3. ,  3.5,  4. ,  4.5,  5. ,\n",
       "        5.5,  6. ,  6.5,  7. ,  7.5,  8. ,  8.5,  9. ,  9.5, 10. ]))])"
      ]
     },
     "metadata": {},
     "execution_count": 14
    }
   ],
   "metadata": {}
  },
  {
   "cell_type": "code",
   "execution_count": 7,
   "source": [
    "sweep.hilbertspace"
   ],
   "outputs": [
    {
     "output_type": "execute_result",
     "data": {
      "text/plain": [
       "HilbertSpace(**{'subsystem_list': (GenericQubit(**{'E': 0.0, 'id_str': 'GenericQubit_1'}), Oscillator(**{'E_osc': 0.0, 'l_osc': None, 'truncated_dim': 6, 'id_str': 'Oscillator_1'})), 'interaction_list': [InteractionTerm(**{'g_strength': 0.1, 'operator_list': [(1, array([[0.        , 1.        , 0.        , 0.        , 0.        ,\n",
       "        0.        ],\n",
       "       [0.        , 0.        , 1.41421356, 0.        , 0.        ,\n",
       "        0.        ],\n",
       "       [0.        , 0.        , 0.        , 1.73205081, 0.        ,\n",
       "        0.        ],\n",
       "       [0.        , 0.        , 0.        , 0.        , 2.        ,\n",
       "        0.        ],\n",
       "       [0.        , 0.        , 0.        , 0.        , 0.        ,\n",
       "        2.23606798],\n",
       "       [0.        , 0.        , 0.        , 0.        , 0.        ,\n",
       "        0.        ]])), (0, array([[0., 1.],\n",
       "       [0., 0.]]))], 'add_hc': True})]})"
      ]
     },
     "metadata": {},
     "execution_count": 7
    }
   ],
   "metadata": {}
  },
  {
   "cell_type": "code",
   "execution_count": 14,
   "source": [
    "class test():\r\n",
    "    def __init__(self) -> None:\r\n",
    "        self.a = 1\r\n",
    "        self.b = 2\r\n",
    "\r\n",
    "ntest = test()\r\n",
    "\r\n",
    "test_dict = {\"a\":ntest.a, \"b\":ntest.b}\r\n",
    "\r\n",
    "test_dict[\"a\"] = 3\r\n",
    "\r\n",
    "ntest."
   ],
   "outputs": [
    {
     "output_type": "execute_result",
     "data": {
      "text/plain": [
       "1"
      ]
     },
     "metadata": {},
     "execution_count": 14
    }
   ],
   "metadata": {}
  },
  {
   "cell_type": "code",
   "execution_count": null,
   "source": [],
   "outputs": [],
   "metadata": {}
  }
 ],
 "metadata": {
  "interpreter": {
   "hash": "857b2b6bdbee2871d3f2bcf74449968dd9eaf2d85fcef563fc51e4452a59bad9"
  },
  "kernelspec": {
   "name": "python3",
   "display_name": "Python 3.8.11 64-bit ('base': conda)"
  },
  "language_info": {
   "codemirror_mode": {
    "name": "ipython",
    "version": 3
   },
   "file_extension": ".py",
   "mimetype": "text/x-python",
   "name": "python",
   "nbconvert_exporter": "python",
   "pygments_lexer": "ipython3",
   "version": "3.8.11"
  }
 },
 "nbformat": 4,
 "nbformat_minor": 5
}