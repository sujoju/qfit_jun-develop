{
 "cells": [
  {
   "cell_type": "code",
   "execution_count": 61,
   "metadata": {},
   "outputs": [],
   "source": [
    "import scqubits as scq\n",
    "from parametersweep_eg import ParameterSweep_EG\n",
    "from parametersweep_ui_elements import ParameterSweep_UI_Elements\n",
    "import numpy as np\n",
    "from scipy import interpolate\n",
    "import random"
   ]
  },
  {
   "cell_type": "code",
   "execution_count": 62,
   "metadata": {},
   "outputs": [
    {
     "data": {
      "application/vnd.jupyter.widget-view+json": {
       "model_id": "ede87c9957d34c4a90a42058f93dd3f9",
       "version_major": 2,
       "version_minor": 0
      },
      "text/plain": [
       "Bare spectra:   0%|          | 0/21 [00:00<?, ?it/s]"
      ]
     },
     "metadata": {},
     "output_type": "display_data"
    },
    {
     "data": {
      "application/vnd.jupyter.widget-view+json": {
       "model_id": "53772788511846659f2a2bab048d67a0",
       "version_major": 2,
       "version_minor": 0
      },
      "text/plain": [
       "Bare spectra:   0%|          | 0/21 [00:00<?, ?it/s]"
      ]
     },
     "metadata": {},
     "output_type": "display_data"
    },
    {
     "data": {
      "application/vnd.jupyter.widget-view+json": {
       "model_id": "5b60f553e11d4ae8a88e24ac91e59477",
       "version_major": 2,
       "version_minor": 0
      },
      "text/plain": [
       "Bare spectra:   0%|          | 0/21 [00:00<?, ?it/s]"
      ]
     },
     "metadata": {},
     "output_type": "display_data"
    },
    {
     "data": {
      "application/vnd.jupyter.widget-view+json": {
       "model_id": "1b7871adb63b41a89ed1d420d87a1f7f",
       "version_major": 2,
       "version_minor": 0
      },
      "text/plain": [
       "Dressed spectrum:   0%|          | 0/21 [00:00<?, ?it/s]"
      ]
     },
     "metadata": {},
     "output_type": "display_data"
    }
   ],
   "source": [
    "parametersweep_main = ParameterSweep_EG()\n",
    "parametersweep = parametersweep_main.parametersweep"
   ]
  },
  {
   "cell_type": "code",
   "execution_count": 63,
   "metadata": {},
   "outputs": [],
   "source": [
    "def create_point(sweep, current_values, sweep_value, evals_value):\n",
    "    point = []\n",
    "    for param, value in current_values.items():\n",
    "        if param == sweep:\n",
    "            point.append(sweep_value)\n",
    "        else:\n",
    "            point.append(value)\n",
    "    point.append(evals_value)\n",
    "\n",
    "    return point\n",
    "\n",
    "def create_points(parametersweep, evals):\n",
    "    points = ()\n",
    "    for param_x in parametersweep.param_info.values():\n",
    "        points = points + (param_x,)\n",
    "\n",
    "    evals_x = np.linspace(0, evals-1, evals)\n",
    "    points = points + (evals_x,)\n",
    "\n",
    "    return points\n",
    "\n",
    "def get_interpolated_data_size(parametersweep, sweep, evals):\n",
    "    interpolated_size = ()\n",
    "    if len(parametersweep.param_info.keys()) == 1:\n",
    "            interpolated_size = interpolated_size + (list(parametersweep.param_info.values())[0].size,)\n",
    "    else:\n",
    "        for param, param_x in parametersweep.param_info.items():\n",
    "            if param != sweep:\n",
    "                interpolated_size = interpolated_size + (param_x.size,)\n",
    "\n",
    "    interpolated_size = interpolated_size + (evals,)\n",
    "\n",
    "    return interpolated_size\n",
    "\n",
    "def create_interpolated_data(parametersweep, sweep, current_values):\n",
    "    evals = parametersweep.eigenvals().shape[-1]\n",
    "    sweep_x = parametersweep.param_info[sweep]\n",
    "    points = create_points(parametersweep, evals)\n",
    "    values = parametersweep[\"evals\"]\n",
    "\n",
    "    matrix_size = get_interpolated_data_size(\n",
    "        parametersweep, sweep, evals)\n",
    "    matrix = np.zeros(matrix_size)\n",
    "    row_index = 0\n",
    "    for sweep_value in sweep_x:\n",
    "        column_index = 0\n",
    "        for evals_value in points[-1]:\n",
    "            point = create_point(\n",
    "                sweep, current_values, sweep_value, evals_value)\n",
    "            matrix[row_index, column_index] = interpolate.interpn(\n",
    "                points, values, np.array(point))[0]\n",
    "            column_index += 1\n",
    "        row_index += 1\n",
    "    return matrix"
   ]
  },
  {
   "cell_type": "code",
   "execution_count": 65,
   "metadata": {},
   "outputs": [],
   "source": [
    "interpolated_data = create_interpolated_data(parametersweep, \"flux\", {\"flux\":0.5})"
   ]
  },
  {
   "cell_type": "code",
   "execution_count": 73,
   "metadata": {},
   "outputs": [
    {
     "data": {
      "text/plain": [
       "array([[-48.9776994 , -45.02697343, -44.3665604 , -41.17760303,\n",
       "        -41.16622697],\n",
       "       [-46.20093903, -42.36845184, -41.61700884, -38.63990159,\n",
       "        -38.59686951],\n",
       "       [-38.24067872, -34.80636811, -33.70287551, -31.50027076,\n",
       "        -31.23467726],\n",
       "       [-26.2464243 , -23.55102773, -21.74176517, -21.00420216,\n",
       "        -20.28030703],\n",
       "       [-12.92358598, -11.1616125 ,  -9.5957706 ,  -8.64566456,\n",
       "         -8.35943018],\n",
       "       [ -6.99827928,  -4.69531953,  -4.62552596,  -2.63768756,\n",
       "         -2.48304931],\n",
       "       [-18.87570623, -15.64794849, -14.58995824, -14.2886359 ,\n",
       "        -12.55514909],\n",
       "       [-31.98280277, -28.24860445, -27.41933043, -26.01659179,\n",
       "        -24.62651387],\n",
       "       [-41.71561812, -37.77766933, -37.10906522, -34.70960396,\n",
       "        -33.93136215],\n",
       "       [-46.7181691 , -42.81876292, -42.12035163, -39.11409862,\n",
       "        -39.01603509],\n",
       "       [-46.44333952, -42.84082251, -41.89037067, -39.35888627,\n",
       "        -38.64324685],\n",
       "       [-41.09552935, -38.11348982, -36.57823404, -35.27315707,\n",
       "        -33.60534003],\n",
       "       [-31.90748133, -29.87769478, -28.01970537, -27.40941712,\n",
       "        -25.38328146],\n",
       "       [-23.71602429, -21.68624044, -19.82825245, -19.22181475,\n",
       "        -17.74993481],\n",
       "       [-17.5935832 , -14.61168556, -13.31036922, -13.01381965,\n",
       "        -11.77140445],\n",
       "       [-13.17910176, -10.87473555,  -9.5754847 ,  -8.8181602 ,\n",
       "         -8.61547511],\n",
       "       [-23.21622264, -19.32144537, -18.90981795, -18.57463075,\n",
       "        -15.51953774],\n",
       "       [-33.52416089, -29.58663006, -28.92117618, -27.55791252,\n",
       "        -25.74047587],\n",
       "       [-40.17425998, -36.43986969, -35.60702477, -33.16825185,\n",
       "        -32.81771197],\n",
       "       [-42.37765246, -39.14960276, -37.8506685 , -36.05670989,\n",
       "        -34.77358929],\n",
       "       [-40.26251587, -37.8914427 , -35.7587604 , -35.67760327,\n",
       "        -33.39254768]])"
      ]
     },
     "execution_count": 73,
     "metadata": {},
     "output_type": "execute_result"
    }
   ],
   "source": [
    "interpolated_data"
   ]
  },
  {
   "cell_type": "code",
   "execution_count": 18,
   "metadata": {},
   "outputs": [
    {
     "ename": "ValueError",
     "evalue": "x and y arrays must be equal in length along interpolation axis.",
     "output_type": "error",
     "traceback": [
      "\u001b[1;31m---------------------------------------------------------------------------\u001b[0m",
      "\u001b[1;31mValueError\u001b[0m                                Traceback (most recent call last)",
      "\u001b[1;32m~\\AppData\\Local\\Temp/ipykernel_7588/4023518171.py\u001b[0m in \u001b[0;36m<module>\u001b[1;34m\u001b[0m\n\u001b[1;32m----> 1\u001b[1;33m \u001b[0minterpolated_data\u001b[0m \u001b[1;33m=\u001b[0m \u001b[0minterpolate\u001b[0m\u001b[1;33m.\u001b[0m\u001b[0minterp1d\u001b[0m\u001b[1;33m(\u001b[0m\u001b[0mparametersweep\u001b[0m\u001b[1;33m.\u001b[0m\u001b[0mparam_info\u001b[0m\u001b[1;33m[\u001b[0m\u001b[1;34m\"flux\"\u001b[0m\u001b[1;33m]\u001b[0m\u001b[1;33m,\u001b[0m \u001b[0mparametersweep\u001b[0m\u001b[1;33m[\u001b[0m\u001b[1;34m\"evals\"\u001b[0m\u001b[1;33m]\u001b[0m\u001b[1;33m)\u001b[0m\u001b[1;33m\u001b[0m\u001b[1;33m\u001b[0m\u001b[0m\n\u001b[0m",
      "\u001b[1;32m~\\anaconda3\\lib\\site-packages\\scipy\\interpolate\\interpolate.py\u001b[0m in \u001b[0;36m__init__\u001b[1;34m(self, x, y, kind, axis, copy, bounds_error, fill_value, assume_sorted)\u001b[0m\n\u001b[0;32m    434\u001b[0m                  assume_sorted=False):\n\u001b[0;32m    435\u001b[0m         \u001b[1;34m\"\"\" Initialize a 1-D linear interpolation class.\"\"\"\u001b[0m\u001b[1;33m\u001b[0m\u001b[1;33m\u001b[0m\u001b[0m\n\u001b[1;32m--> 436\u001b[1;33m         \u001b[0m_Interpolator1D\u001b[0m\u001b[1;33m.\u001b[0m\u001b[0m__init__\u001b[0m\u001b[1;33m(\u001b[0m\u001b[0mself\u001b[0m\u001b[1;33m,\u001b[0m \u001b[0mx\u001b[0m\u001b[1;33m,\u001b[0m \u001b[0my\u001b[0m\u001b[1;33m,\u001b[0m \u001b[0maxis\u001b[0m\u001b[1;33m=\u001b[0m\u001b[0maxis\u001b[0m\u001b[1;33m)\u001b[0m\u001b[1;33m\u001b[0m\u001b[1;33m\u001b[0m\u001b[0m\n\u001b[0m\u001b[0;32m    437\u001b[0m \u001b[1;33m\u001b[0m\u001b[0m\n\u001b[0;32m    438\u001b[0m         \u001b[0mself\u001b[0m\u001b[1;33m.\u001b[0m\u001b[0mbounds_error\u001b[0m \u001b[1;33m=\u001b[0m \u001b[0mbounds_error\u001b[0m  \u001b[1;31m# used by fill_value setter\u001b[0m\u001b[1;33m\u001b[0m\u001b[1;33m\u001b[0m\u001b[0m\n",
      "\u001b[1;32m~\\anaconda3\\lib\\site-packages\\scipy\\interpolate\\polyint.py\u001b[0m in \u001b[0;36m__init__\u001b[1;34m(self, xi, yi, axis)\u001b[0m\n\u001b[0;32m     52\u001b[0m         \u001b[0mself\u001b[0m\u001b[1;33m.\u001b[0m\u001b[0mdtype\u001b[0m \u001b[1;33m=\u001b[0m \u001b[1;32mNone\u001b[0m\u001b[1;33m\u001b[0m\u001b[1;33m\u001b[0m\u001b[0m\n\u001b[0;32m     53\u001b[0m         \u001b[1;32mif\u001b[0m \u001b[0myi\u001b[0m \u001b[1;32mis\u001b[0m \u001b[1;32mnot\u001b[0m \u001b[1;32mNone\u001b[0m\u001b[1;33m:\u001b[0m\u001b[1;33m\u001b[0m\u001b[1;33m\u001b[0m\u001b[0m\n\u001b[1;32m---> 54\u001b[1;33m             \u001b[0mself\u001b[0m\u001b[1;33m.\u001b[0m\u001b[0m_set_yi\u001b[0m\u001b[1;33m(\u001b[0m\u001b[0myi\u001b[0m\u001b[1;33m,\u001b[0m \u001b[0mxi\u001b[0m\u001b[1;33m=\u001b[0m\u001b[0mxi\u001b[0m\u001b[1;33m,\u001b[0m \u001b[0maxis\u001b[0m\u001b[1;33m=\u001b[0m\u001b[0maxis\u001b[0m\u001b[1;33m)\u001b[0m\u001b[1;33m\u001b[0m\u001b[1;33m\u001b[0m\u001b[0m\n\u001b[0m\u001b[0;32m     55\u001b[0m \u001b[1;33m\u001b[0m\u001b[0m\n\u001b[0;32m     56\u001b[0m     \u001b[1;32mdef\u001b[0m \u001b[0m__call__\u001b[0m\u001b[1;33m(\u001b[0m\u001b[0mself\u001b[0m\u001b[1;33m,\u001b[0m \u001b[0mx\u001b[0m\u001b[1;33m)\u001b[0m\u001b[1;33m:\u001b[0m\u001b[1;33m\u001b[0m\u001b[1;33m\u001b[0m\u001b[0m\n",
      "\u001b[1;32m~\\anaconda3\\lib\\site-packages\\scipy\\interpolate\\polyint.py\u001b[0m in \u001b[0;36m_set_yi\u001b[1;34m(self, yi, xi, axis)\u001b[0m\n\u001b[0;32m    122\u001b[0m             \u001b[0mshape\u001b[0m \u001b[1;33m=\u001b[0m \u001b[1;33m(\u001b[0m\u001b[1;36m1\u001b[0m\u001b[1;33m,\u001b[0m\u001b[1;33m)\u001b[0m\u001b[1;33m\u001b[0m\u001b[1;33m\u001b[0m\u001b[0m\n\u001b[0;32m    123\u001b[0m         \u001b[1;32mif\u001b[0m \u001b[0mxi\u001b[0m \u001b[1;32mis\u001b[0m \u001b[1;32mnot\u001b[0m \u001b[1;32mNone\u001b[0m \u001b[1;32mand\u001b[0m \u001b[0mshape\u001b[0m\u001b[1;33m[\u001b[0m\u001b[0maxis\u001b[0m\u001b[1;33m]\u001b[0m \u001b[1;33m!=\u001b[0m \u001b[0mlen\u001b[0m\u001b[1;33m(\u001b[0m\u001b[0mxi\u001b[0m\u001b[1;33m)\u001b[0m\u001b[1;33m:\u001b[0m\u001b[1;33m\u001b[0m\u001b[1;33m\u001b[0m\u001b[0m\n\u001b[1;32m--> 124\u001b[1;33m             raise ValueError(\"x and y arrays must be equal in length along \"\n\u001b[0m\u001b[0;32m    125\u001b[0m                              \"interpolation axis.\")\n\u001b[0;32m    126\u001b[0m \u001b[1;33m\u001b[0m\u001b[0m\n",
      "\u001b[1;31mValueError\u001b[0m: x and y arrays must be equal in length along interpolation axis."
     ]
    }
   ],
   "source": [
    "interpolated_data = interpolate.interp1d(parametersweep.param_info[\"flux\"], parametersweep[\"evals\"])"
   ]
  },
  {
   "cell_type": "code",
   "execution_count": null,
   "metadata": {},
   "outputs": [],
   "source": []
  }
 ],
 "metadata": {
  "interpreter": {
   "hash": "857b2b6bdbee2871d3f2bcf74449968dd9eaf2d85fcef563fc51e4452a59bad9"
  },
  "kernelspec": {
   "display_name": "Python 3.8.12 64-bit ('base': conda)",
   "name": "python3"
  },
  "language_info": {
   "codemirror_mode": {
    "name": "ipython",
    "version": 3
   },
   "file_extension": ".py",
   "mimetype": "text/x-python",
   "name": "python",
   "nbconvert_exporter": "python",
   "pygments_lexer": "ipython3",
   "version": "3.8.12"
  }
 },
 "nbformat": 4,
 "nbformat_minor": 2
}
